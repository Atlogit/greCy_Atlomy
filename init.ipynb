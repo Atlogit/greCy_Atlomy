{
 "cells": [
  {
   "cell_type": "code",
   "execution_count": 13,
   "id": "16137bd3-0473-43d1-b65e-b0d45a24764a",
   "metadata": {},
   "outputs": [],
   "source": [
    "import time"
   ]
  },
  {
   "cell_type": "code",
   "execution_count": 14,
   "id": "88d3834e-7231-4c7c-b9e3-a7f8dda3d750",
   "metadata": {},
   "outputs": [
    {
     "data": {
      "text/plain": [
       "'Sat May 20 05:10:58 2023'"
      ]
     },
     "execution_count": 14,
     "metadata": {},
     "output_type": "execute_result"
    }
   ],
   "source": [
    "time.ctime()"
   ]
  },
  {
   "cell_type": "code",
   "execution_count": 4,
   "id": "fabd47b3-d4c5-4302-8745-caec11d9b6ea",
   "metadata": {},
   "outputs": [],
   "source": [
    "!wget https://docs.conda.io/en/latest/miniconda.html#linux-installers:~:text=Python%203.8-,Miniconda3%20Linux%2064%2Dbit,-65.8%20MiB"
   ]
  },
  {
   "cell_type": "code",
   "execution_count": 1,
   "id": "261e0f00-3f9b-49f6-93ba-c02158969d32",
   "metadata": {},
   "outputs": [],
   "source": [
    "!git clone https://github.com/jmyerston/greCy.git"
   ]
  },
  {
   "cell_type": "code",
   "execution_count": 10,
   "id": "52612c91-6308-45a4-aeaf-75494a21ab2e",
   "metadata": {},
   "outputs": [
    {
     "name": "stdout",
     "output_type": "stream",
     "text": [
      "Sat May 20 05:04:45 2023       \n",
      "+-----------------------------------------------------------------------------+\n",
      "| NVIDIA-SMI 525.85.12    Driver Version: 525.85.12    CUDA Version: 12.0     |\n",
      "|-------------------------------+----------------------+----------------------+\n",
      "| GPU  Name        Persistence-M| Bus-Id        Disp.A | Volatile Uncorr. ECC |\n",
      "| Fan  Temp  Perf  Pwr:Usage/Cap|         Memory-Usage | GPU-Util  Compute M. |\n",
      "|                               |                      |               MIG M. |\n",
      "|===============================+======================+======================|\n",
      "|   0  NVIDIA H100 PCIe    On   | 00000000:06:00.0 Off |                    0 |\n",
      "| N/A   58C    P0   101W / 350W |  12413MiB / 81559MiB |      5%      Default |\n",
      "|                               |                      |             Disabled |\n",
      "+-------------------------------+----------------------+----------------------+\n",
      "                                                                               \n",
      "+-----------------------------------------------------------------------------+\n",
      "| Processes:                                                                  |\n",
      "|  GPU   GI   CI        PID   Type   Process name                  GPU Memory |\n",
      "|        ID   ID                                                   Usage      |\n",
      "|=============================================================================|\n",
      "|    0   N/A  N/A     83815      C   ...da3/envs/spacy/bin/python    12410MiB |\n",
      "+-----------------------------------------------------------------------------+\n"
     ]
    }
   ],
   "source": [
    "!nvidia-smi"
   ]
  },
  {
   "cell_type": "code",
   "execution_count": null,
   "id": "3ca6212a-3bd7-45d8-b70e-51fe88fc0efb",
   "metadata": {},
   "outputs": [],
   "source": [
    "!conda install -c conda-forge cupy"
   ]
  },
  {
   "cell_type": "code",
   "execution_count": 17,
   "id": "28a81054-a620-4f92-a8c7-6ce3752f5cc4",
   "metadata": {},
   "outputs": [
    {
     "name": "stdout",
     "output_type": "stream",
     "text": [
      "Miniconda3-latest-Linux-x86_64.sh  greCy       miniconda3\n",
      "Untitled.ipynb\t\t\t   init.ipynb\n"
     ]
    }
   ],
   "source": [
    "!ls"
   ]
  },
  {
   "cell_type": "code",
   "execution_count": 18,
   "id": "524930e6-0821-47e5-be54-6e9fb2836554",
   "metadata": {},
   "outputs": [
    {
     "name": "stdout",
     "output_type": "stream",
     "text": [
      "/home/ubuntu/greCy/proiel\n"
     ]
    }
   ],
   "source": [
    "%cd greCy/proiel"
   ]
  },
  {
   "cell_type": "code",
   "execution_count": null,
   "id": "7fda136e-5ef5-42ce-a0e5-fc6dae43bfff",
   "metadata": {},
   "outputs": [],
   "source": [
    "!python -m spacy project assets"
   ]
  },
  {
   "cell_type": "code",
   "execution_count": null,
   "id": "978bd769",
   "metadata": {},
   "outputs": [],
   "source": [
    "!python -m spacy project run preprocess"
   ]
  },
  {
   "cell_type": "code",
   "execution_count": null,
   "id": "ac0c8dc3",
   "metadata": {},
   "outputs": [],
   "source": [
    "!python -m spacy project run train-lemmatizer-small"
   ]
  }
 ],
 "metadata": {
  "kernelspec": {
   "display_name": "Python 3",
   "language": "python",
   "name": "python3"
  },
  "language_info": {
   "codemirror_mode": {
    "name": "ipython",
    "version": 3
   },
   "file_extension": ".py",
   "mimetype": "text/x-python",
   "name": "python",
   "nbconvert_exporter": "python",
   "pygments_lexer": "ipython3",
   "version": "3.8.10"
  }
 },
 "nbformat": 4,
 "nbformat_minor": 5
}
