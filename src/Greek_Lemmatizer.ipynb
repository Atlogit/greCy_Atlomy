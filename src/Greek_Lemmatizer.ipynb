{
 "cells": [
  {
   "cell_type": "code",
   "execution_count": null,
   "metadata": {
    "ExecuteTime": {
     "end_time": "2023-05-31T11:21:50.281722400Z",
     "start_time": "2023-05-31T11:21:42.414149800Z"
    },
    "collapsed": true
   },
   "outputs": [],
   "source": [
    "import os\n",
    "import re\n",
    "import spacy\n",
    "import pandas as pd"
   ]
  },
  {
   "attachments": {},
   "cell_type": "markdown",
   "metadata": {
    "collapsed": false
   },
   "source": [
    "# Preprocess Text"
   ]
  },
  {
   "cell_type": "code",
   "execution_count": null,
   "metadata": {
    "ExecuteTime": {
     "end_time": "2023-05-31T11:21:50.350623Z",
     "start_time": "2023-05-31T11:21:50.281722400Z"
    },
    "collapsed": false
   },
   "outputs": [],
   "source": [
    "FILE_PATH = \"../assets/NER_assets/Ancient_Words.csv\"\n",
    "# read csv file\n",
    "df = pd.read_csv(FILE_PATH)"
   ]
  },
  {
   "cell_type": "code",
   "execution_count": null,
   "metadata": {
    "ExecuteTime": {
     "end_time": "2023-05-31T13:03:58.601597100Z",
     "start_time": "2023-05-31T13:03:58.573263800Z"
    },
    "collapsed": false
   },
   "outputs": [],
   "source": [
    "df.columns"
   ]
  },
  {
   "cell_type": "code",
   "execution_count": null,
   "metadata": {
    "ExecuteTime": {
     "end_time": "2023-05-31T11:21:50.482203400Z",
     "start_time": "2023-05-31T11:21:50.350623Z"
    },
    "collapsed": false
   },
   "outputs": [],
   "source": [
    "# rename columns to fit code\n",
    "df.rename(columns = {'Word':'Keyword', 'Category Types':'Label'}, inplace = True)\n",
    "# If a cell is empty (NaN), Fill it with the value in its parallel \"Early\" column\n",
    "for row in df:\n",
    "    df['Quote'].fillna(df['Early Quote'], inplace=True)\n",
    "    df['Word Before'].fillna(df['Early Word Before'], inplace=True)\n",
    "    df['Word After'].fillna(df['Early Word After'], inplace=True)\n",
    "    df['Label'].fillna(df['Early Category Type'], inplace=True)\n",
    "# remove rows with no Keyword\n",
    "df = df.dropna(subset=['Keyword'])\n",
    "# Remove any row that isn't Greek\n",
    "pat = '[ء-ي]+'\n",
    "#df.Keyword.str.contains(pat)\n",
    "df = df[~df.Keyword.str.contains(pat, na=False)]\n",
    "#replace new line in df column\n",
    "df['Keyword'].replace('\\n', '', regex=True, inplace=True)\n",
    "#replace numbers in df\n",
    "df.replace('\\d+', '', regex=True, inplace=True)\n",
    "#replace hyphens in df column\n",
    "df.replace('-', '', regex=True, inplace=True)\n",
    "# replace comma in df column\n",
    "df['Keyword'].replace(',', '', regex=True, inplace=True)\n",
    "#replace period in df column\n",
    "df['Keyword'].replace('\\.', '', regex=True, inplace=True)\n",
    "#replace interpunkt in df column\n",
    "df['Keyword'].replace('\\·', '', regex=True, inplace=True)\n",
    "# replace multiple spaces in df column\n",
    "df.replace(' +', ' ', regex=True, inplace=True)\n",
    "# replace end punctuation in df column\n",
    "df['Keyword'].replace('\\s+$', '', regex=True, inplace=True)\n",
    "\n",
    "df.fillna(0)\n",
    "df.reset_index(drop=True, inplace=True)\n"
   ]
  },
  {
   "cell_type": "code",
   "execution_count": null,
   "metadata": {
    "ExecuteTime": {
     "end_time": "2023-05-31T11:21:50.550994900Z",
     "start_time": "2023-05-31T11:21:50.494339800Z"
    },
    "collapsed": false
   },
   "outputs": [],
   "source": [
    "df.head(10)\n",
    "len(df)"
   ]
  },
  {
   "cell_type": "code",
   "execution_count": null,
   "metadata": {
    "ExecuteTime": {
     "end_time": "2023-05-31T11:21:50.582256500Z",
     "start_time": "2023-05-31T11:21:50.536484300Z"
    },
    "collapsed": false
   },
   "outputs": [],
   "source": [
    "# if any of the fields \"KeyWord\", \"Quote\", \"Word Before\", \"Word After\" are \"0\", drop the row\n",
    "for w in ['Keyword', 'Quote', 'Word Before', 'Word After']:\n",
    "    df = df[df[w] != 0]\n"
   ]
  },
  {
   "cell_type": "code",
   "execution_count": null,
   "metadata": {},
   "outputs": [],
   "source": [
    "df.head(10)\n",
    "len(df)"
   ]
  },
  {
   "cell_type": "code",
   "execution_count": null,
   "metadata": {
    "ExecuteTime": {
     "end_time": "2023-05-31T11:21:50.629157200Z",
     "start_time": "2023-05-31T11:21:50.566630700Z"
    },
    "collapsed": false
   },
   "outputs": [],
   "source": [
    "# import requirements for converting the dataframe to Spacy Docs\n",
    "from collections import defaultdict\n",
    "from typing import List\n",
    "from spacy.tokens import Doc, DocBin\n",
    "from unicodedata import normalize\n",
    "import random\n"
   ]
  },
  {
   "attachments": {},
   "cell_type": "markdown",
   "metadata": {
    "collapsed": false
   },
   "source": []
  },
  {
   "attachments": {},
   "cell_type": "markdown",
   "metadata": {
    "collapsed": false
   },
   "source": [
    "# Create dictionaries from dendrosearch and conllu files (supplied by Jacobo)"
   ]
  },
  {
   "cell_type": "code",
   "execution_count": null,
   "metadata": {
    "ExecuteTime": {
     "end_time": "2023-05-31T12:37:29.383656200Z",
     "start_time": "2023-05-31T12:37:28.035244800Z"
    },
    "collapsed": false
   },
   "outputs": [],
   "source": [
    "PUNCTUATION = ['.', \")\", \".\", \"·\", \"(\", \"[\", \"]\", \":\", \";\", \",\", \"?\", \"!\", \"،\", \"_\"]\n",
    "# extract from df a dictionary {word: lemma}\n",
    "lemma_dict = {}\n",
    "for index, row in df.iterrows():\n",
    "    lemma_dict[row['Keyword']] = row['Lemma']\n",
    "\n",
    "# load dendrosearch lemma dictionary\n",
    "dendrosearch_lemma_dict = {}\n",
    "with open('../assets/dendrosearch_lemma_dict.txt', 'r', encoding='utf-8') as f:\n",
    "    for line in f:\n",
    "        line = line.split()\n",
    "        # check if not punctuation\n",
    "        if len(line) > 1 and line[0] not in PUNCTUATION:\n",
    "            dendrosearch_lemma_dict[line[0]] = line[1]\n",
    "\n",
    "# create dictionary from all conllu files\n",
    "PATH = \"../assets/Lemmatization_training_files/\"\n",
    "conllu_lemma_dict = {}\n",
    "\n",
    "# iterate over all files in directory\n",
    "for f in os.listdir(PATH):\n",
    "    if f.endswith(\".conllu\"):\n",
    "        # if file is a conllu file\n",
    "        with open(os.path.join(PATH, f), 'r', encoding='utf-8') as f:\n",
    "            for line in f:\n",
    "                # conll line is: id | keyword | lemma | pos | _\n",
    "                # we want only keyword and lemma\n",
    "                line = line.split()\n",
    "                if len(line) > 2 and line[1] not in PUNCTUATION:\n",
    "                    conllu_lemma_dict[line[1]] = line[2]\n",
    "\n"
   ]
  },
  {
   "attachments": {},
   "cell_type": "markdown",
   "metadata": {
    "collapsed": false
   },
   "source": [
    "## Create dictionary from INCEpTION files"
   ]
  },
  {
   "attachments": {},
   "cell_type": "markdown",
   "metadata": {
    "collapsed": false
   },
   "source": []
  },
  {
   "cell_type": "code",
   "execution_count": null,
   "metadata": {
    "ExecuteTime": {
     "end_time": "2023-05-31T13:08:09.090487500Z",
     "start_time": "2023-05-31T13:08:09.044413900Z"
    },
    "collapsed": false
   },
   "outputs": [],
   "source": [
    "from cassis import *\n",
    "import zipfile\n",
    "import tempfile\n",
    "import os\n",
    "from tqdm import tqdm\n",
    "\n",
    "\n",
    "inception_dict = {}\n",
    "inception_sentences = [] # list of tuples (sentence, source_file)"
   ]
  },
  {
   "cell_type": "code",
   "execution_count": null,
   "metadata": {
    "ExecuteTime": {
     "end_time": "2023-05-31T13:08:10.466843500Z",
     "start_time": "2023-05-31T13:08:09.609063300Z"
    },
    "collapsed": false
   },
   "outputs": [],
   "source": [
    "# extract all files in inception folder to temp folder\n",
    "with tempfile.TemporaryDirectory() as tempdir:\n",
    "    for f in os.listdir(\"../assets/NER_assets/INCEpTION_files/\"):\n",
    "        if f.endswith(\".zip\"):\n",
    "            with zipfile.ZipFile(os.path.join(\"../assets/NER_assets/INCEpTION_files/\", f), 'r') as zip_ref:\n",
    "                zip_ref.extractall(tempdir)\n",
    "    print (tempdir)\n",
    "    # open typesystem and print content\n",
    "    with open('{0}/{1}'.format(tempdir, \"TypeSystem.xml\"), 'rb') as f:\n",
    "        typesystem = load_typesystem(f)\n",
    "\n",
    "    # iterate over all files in temp folder\n",
    "    for f in os.listdir(tempdir):\n",
    "        # if file is a xmi file\n",
    "        print (typesystem)\n",
    "        if f.endswith(\".xmi\"):\n",
    "            # load xmi file\n",
    "            with open(os.path.join(tempdir, f), 'rb') as f:\n",
    "                # load typesystem from temp folder\n",
    "                cas = load_cas_from_xmi(f, typesystem=typesystem)\n",
    "                for token in cas.select('de.tudarmstadt.ukp.dkpro.core.api.segmentation.type.Lemma'):\n",
    "                    inception_dict[token.get_covered_text()] = token.value\n",
    "                for sentence in cas.select(\"de.tudarmstadt.ukp.dkpro.core.api.segmentation.type.Sentence\"):\n",
    "                    # use os to get only file name\n",
    "                    inception_sentences.append((sentence.get_covered_text(), os.path.basename(f.name)))\n"
   ]
  },
  {
   "cell_type": "code",
   "execution_count": null,
   "metadata": {
    "ExecuteTime": {
     "end_time": "2023-05-31T13:08:10.536562200Z",
     "start_time": "2023-05-31T13:08:10.470293800Z"
    },
    "collapsed": false
   },
   "outputs": [],
   "source": [
    "# print random sentence from inception_sentences\n",
    "print (random.choice(inception_sentences))"
   ]
  },
  {
   "cell_type": "code",
   "execution_count": null,
   "metadata": {
    "ExecuteTime": {
     "end_time": "2023-05-31T13:08:10.536987700Z",
     "start_time": "2023-05-31T13:08:10.489014500Z"
    },
    "collapsed": false
   },
   "outputs": [],
   "source": [
    "# create big dict df with word, lemma, source. check for duplicates\n",
    "big_dict = {\n",
    "    'Conllu': conllu_lemma_dict,  # files from Jacobo\n",
    "    'Inception': inception_dict,\n",
    "    'Coda': lemma_dict,\n",
    "    'Dendrosearch': dendrosearch_lemma_dict\n",
    "}\n",
    "\n",
    "with open('big_dict.txt', 'w') as f:\n",
    "    for k, v in big_dict.items():\n",
    "        f.write(f'{k}: {v}\\n')\n",
    "        f.close\n"
   ]
  },
  {
   "cell_type": "code",
   "execution_count": null,
   "metadata": {
    "ExecuteTime": {
     "end_time": "2023-05-31T13:08:14.439454400Z",
     "start_time": "2023-05-31T13:08:13.499620400Z"
    },
    "collapsed": false
   },
   "outputs": [],
   "source": [
    "# create two copies of dictionary, one in NFKD, other in NFKC\n",
    "\n",
    "# remove all nan values from big_dict\n",
    "# big_dict is a dictionary of dictionaries\n",
    "\n",
    "big_dict = {k: big_dict[k] for k in big_dict if big_dict[k]}\n",
    "big_dict_nfkd = {}\n",
    "big_dict_nfkc = {}\n",
    "\n",
    "for source in big_dict:\n",
    "    big_dict_nfkd[source] = {}\n",
    "    big_dict_nfkc[source] = {}\n",
    "    for word in big_dict[source]:\n",
    "        # if word and lemma are not nan: if\n",
    "        if word and not pd.isnull(word) and big_dict[source][word] and not pd.isnull(big_dict[source][word]):\n",
    "            big_dict_nfkd[source][normalize('NFKD', word)] = normalize('NFKD', big_dict[source][word])\n",
    "            big_dict_nfkc[source][normalize('NFKC', word)] = normalize('NFKC', big_dict[source][word])\n"
   ]
  },
  {
   "cell_type": "code",
   "execution_count": null,
   "metadata": {},
   "outputs": [],
   "source": [
    "from collections import Counter\n",
    "\n",
    "def create_lemma_dict(dicts):\n",
    "    # Create an empty dictionary to store the word-lemma pairs\n",
    "    word_lemma_dict = {}\n",
    "    \n",
    "    # Iterate over each dictionary in the list of dictionaries\n",
    "    for d in dicts:\n",
    "        # Iterate over each key-value pair in the dictionary\n",
    "        for k, v in d.items():\n",
    "            # If the value is not one of the empty marks, add the key-value pair to the word-lemma dictionary\n",
    "            if v not in [\"_\", \" \", \"\"]:\n",
    "                word_lemma_dict[k] = v\n",
    "            # If the value is one of the empty marks, search for all other instances of that word in all dictionaries\n",
    "            # and add the lemma that appears the most times in total for that word, as long as it's not one of the empty marks above\n",
    "            else:\n",
    "                word = k\n",
    "                lemmas = []\n",
    "                for d2 in dicts:\n",
    "                    if word in d2 and d2[word] not in [\"_\", \" \", \"\"]:\n",
    "                        lemmas.append(d2[word])\n",
    "                if lemmas:\n",
    "                    lemma_counts = Counter(lemmas)\n",
    "                    most_common_lemma = lemma_counts.most_common(1)[0][0]\n",
    "                    print(most_common_lemma)\n",
    "                    word_lemma_dict[word] = most_common_lemma\n",
    "    \n",
    "    # Return the word-lemma dictionary\n",
    "    return word_lemma_dict"
   ]
  },
  {
   "cell_type": "code",
   "execution_count": null,
   "metadata": {},
   "outputs": [],
   "source": [
    "dicts = [conllu_lemma_dict, inception_dict, lemma_dict, dendrosearch_lemma_dict]\n",
    "word_lemma_dict = create_lemma_dict(dicts)\n",
    "\n",
    "# Now you can use the word_lemma_dict dictionary outside the function"
   ]
  },
  {
   "cell_type": "code",
   "execution_count": null,
   "metadata": {},
   "outputs": [],
   "source": [
    "apostrophe_items = [(k, v) for k, v in word_lemma_dict.items() if v.endswith(\"'\" or \"’\" or \"‘\") or k.endswith(\"'\" or \"’\" or \"‘\")]\n",
    "print(apostrophe_items)"
   ]
  },
  {
   "cell_type": "code",
   "execution_count": null,
   "metadata": {},
   "outputs": [],
   "source": [
    "import unicodedata\n",
    "\n",
    "for d in big_dict:\n",
    "    apostrophe_items = [(k, v) for k, v in word_lemma_dict.items() if v.endswith(\"'\") or k.endswith(\"'\" or \"’\" or \"‘\")]\n",
    "    print(f\"Apostrophe items in {big_dict.index(d)}:\")\n",
    "    for k, v in apostrophe_items:\n",
    "        print(f\"{k}: {v}\")"
   ]
  },
  {
   "cell_type": "code",
   "execution_count": null,
   "metadata": {},
   "outputs": [],
   "source": [
    "apostrophes = [\"'\", \"‘\", \"ʼ\"]\n",
    "apostrophe_items = [(k, v) for k, v in conllu_lemma_dict.items() if any(v.endswith(a) or k.endswith(a) for a in apostrophes)]\n",
    "print((apostrophe_items))"
   ]
  },
  {
   "cell_type": "code",
   "execution_count": null,
   "metadata": {},
   "outputs": [],
   "source": [
    "# save apostrophe_items to txt file\n",
    "with open('apostrophe_items.txt', 'w') as f:\n",
    "    for item in apostrophe_items:\n",
    "        print(item, file=f)"
   ]
  },
  {
   "cell_type": "code",
   "execution_count": null,
   "metadata": {},
   "outputs": [],
   "source": [
    "    #'Conllu': conllu_lemma_dict,  # files from Jacobo\n",
    "    #'Inception': inception_dict,\n",
    "    #'Coda': lemma_dict,\n",
    "    #'Dendrosearch': dendrosearch_lemma_dict"
   ]
  },
  {
   "cell_type": "code",
   "execution_count": null,
   "metadata": {},
   "outputs": [],
   "source": [
    "apostrophe_items = [(k, v) for k, v in conllu_lemma_dict.items() if v.endswith(\"'\" or \"’\" or \"‘\" or \"ʼ\") or k.endswith(\"'\" or \"’\" or \"‘\" or \"ʼ\")]\n",
    "print((apostrophe_items))"
   ]
  },
  {
   "cell_type": "code",
   "execution_count": null,
   "metadata": {},
   "outputs": [],
   "source": [
    "#save conllu_lemma_dict to txt file\n",
    "with open('inception_dict.txt', 'w') as f:\n",
    "    for key, value in inception_dict.items():\n",
    "        f.write('%s:%s\\n' % (key, value))\n",
    "        f.close"
   ]
  },
  {
   "cell_type": "code",
   "execution_count": null,
   "metadata": {},
   "outputs": [],
   "source": [
    "τῶν:ὁ\n"
   ]
  },
  {
   "cell_type": "code",
   "execution_count": null,
   "metadata": {},
   "outputs": [],
   "source": [
    "inception_dict"
   ]
  },
  {
   "cell_type": "code",
   "execution_count": null,
   "metadata": {},
   "outputs": [],
   "source": [
    "print(len(word_lemma_dict))"
   ]
  },
  {
   "cell_type": "code",
   "execution_count": null,
   "metadata": {},
   "outputs": [],
   "source": [
    "# print amount of total of all items in all sources in big_dict\n",
    "print('Total number of all items in all sources in big_dict: ', sum(len(v) for v in big_dict.values()))"
   ]
  },
  {
   "cell_type": "code",
   "execution_count": null,
   "metadata": {},
   "outputs": [],
   "source": [
    "# compare big_dict with word_lemma_dict\n",
    "for k, v in big_dict.items():\n",
    "    if k in word_lemma_dict:\n",
    "        if word_lemma_dict[k] in big_dict[k]:\n",
    "            print(f'{k} and {word_lemma_dict[k]} are the same')\n",
    "        else:\n",
    "            print(f'{k} and {word_lemma_dict[k]} are not the same')\n",
    "    else:\n",
    "        print(f'{k} is not in word_lemma_dict')"
   ]
  },
  {
   "cell_type": "code",
   "execution_count": null,
   "metadata": {},
   "outputs": [],
   "source": [
    "for word in set(big_dict.keys()) | set(word_lemma_dict.keys()):\n",
    "    if word in big_dict and word not in word_lemma_dict:\n",
    "        print(f\"{word}: {big_dict[word]} (in big_dict)\")\n",
    "    elif word in word_lemma_dict and word not in big_dict:\n",
    "        print(f\"{word}: {word_lemma_dict[word]} (in word_lemma_dict)\")\n",
    "    elif word in big_dict and word in word_lemma_dict:\n",
    "        if big_dict[word] != word_lemma_dict[word]:\n",
    "            print(f\"{word}: {big_dict[word]} (in big_dict), {word_lemma_dict[word]} (in word_lemma_dict) - LEMMA MISMATCH\")\n",
    "        else:\n",
    "            print(f\"{word}: {big_dict[word]} (in both)\")"
   ]
  },
  {
   "cell_type": "code",
   "execution_count": null,
   "metadata": {},
   "outputs": [],
   "source": [
    "print(len(set(big_dict.keys())))"
   ]
  },
  {
   "cell_type": "code",
   "execution_count": null,
   "metadata": {},
   "outputs": [],
   "source": [
    "#save conllu_lemma_dict to txt file\n",
    "with open('word_lemma_dict.txt', 'w') as f:\n",
    "    for key, value in word_lemma_dict.items():\n",
    "        f.write('%s:%s\\n' % (key, value))\n",
    "        f.close"
   ]
  },
  {
   "cell_type": "code",
   "execution_count": null,
   "metadata": {},
   "outputs": [],
   "source": [
    "for key, value in conllu_lemma_dict.items():\n",
    "    if \"Φειδίαν\" in key:\n",
    "        print(key, value)"
   ]
  },
  {
   "cell_type": "code",
   "execution_count": null,
   "metadata": {},
   "outputs": [],
   "source": [
    "#save conllu_lemma_dict to txt file\n",
    "with open('big_dict_test.txt', 'w') as f:\n",
    "    for key, value in conllu_lemma_dict.items():\n",
    "        f.write('%s:%s\\n' % (key, value))\n",
    "        f.close"
   ]
  },
  {
   "cell_type": "markdown",
   "metadata": {
    "collapsed": false
   },
   "source": []
  },
  {
   "attachments": {},
   "cell_type": "markdown",
   "metadata": {
    "collapsed": false
   },
   "source": [
    "# Run NLP pipeline on INCEpTION and Coda files"
   ]
  },
  {
   "cell_type": "code",
   "execution_count": null,
   "metadata": {
    "collapsed": false
   },
   "outputs": [],
   "source": [
    "# install spacy grc model if not already installed\n",
    "nlp = spacy.load(\"grc_proiel_trf\") # Use your preferred model here\n"
   ]
  },
  {
   "cell_type": "code",
   "execution_count": null,
   "metadata": {
    "ExecuteTime": {
     "end_time": "2023-05-31T13:03:11.038655900Z",
     "start_time": "2023-05-31T13:03:11.029039Z"
    },
    "collapsed": false
   },
   "outputs": [],
   "source": [
    "# merge sentences from inception and coda, keep record of source\n",
    "sentences = []\n",
    "for sentence in inception_sentences:\n",
    "    sentences.append((sentence[0], sentence[1]))\n",
    "\n",
    "# add coda sentences(from original df) to sentences list\n",
    "for sentence in df['Quote'].tolist():\n",
    "    sentences.append((sentence, 'Coda'))\n"
   ]
  },
  {
   "cell_type": "code",
   "execution_count": null,
   "metadata": {
    "ExecuteTime": {
     "end_time": "2023-05-31T13:14:44.396641500Z",
     "start_time": "2023-05-31T13:14:34.012661400Z"
    },
    "collapsed": false
   },
   "outputs": [],
   "source": [
    "\n",
    "# create list of Doc objects\n",
    "docs_nfkd: List[Doc] = []\n",
    "\n",
    "# create df to record corrections\n",
    "corrections_df_nfkd = pd.DataFrame(columns=['sentence', 'source', 'token', 'lemma', 'lemma_corrected', 'correction_source'])\n",
    "corrected_sentences = 0\n",
    "\n",
    "for sentence in tqdm(sentences):\n",
    "    sentence = (normalize('NFKD', sentence[0]), sentence[1])\n",
    "    doc = nlp(sentence[0])\n",
    "\n",
    "    # we search train_df for the sentence and add keywords to the doc\n",
    "\n",
    "\n",
    "    for token in doc:\n",
    "        for source in big_dict_nfkd: # each source is a dictionary\n",
    "            if token.text in big_dict_nfkd[source]: # if token is in dictionary\n",
    "                if big_dict_nfkd[source][token.text] != token.lemma_: # if lemma is not the same as the one in the dictionary\n",
    "                    corrections_df_nfkd = pd.concat([corrections_df_nfkd,\n",
    "                        pd.DataFrame({\n",
    "                        'sentence': sentence[0],\n",
    "                        'source': sentence[1],\n",
    "                        'token': token.text,\n",
    "                        'lemma': token.lemma_,\n",
    "                        'lemma_corrected': big_dict_nfkd[source][token.text],\n",
    "                        'correction_source': source\n",
    "                    }, index=[0])], ignore_index=True)\n",
    "                    corrected_sentences += 1\n",
    "                    token.lemma_ = big_dict_nfkd[source][token.text]\n",
    "\n",
    "                    break\n",
    "\n",
    "    docs_nfkd.append(doc)"
   ]
  },
  {
   "cell_type": "code",
   "execution_count": null,
   "metadata": {
    "ExecuteTime": {
     "end_time": "2023-05-31T13:16:23.596320300Z",
     "start_time": "2023-05-31T13:16:23.540345900Z"
    },
    "collapsed": false
   },
   "outputs": [],
   "source": [
    "# filter by correction source: Coda Annotation\n",
    "corrections_df_nfkd.sample(10)"
   ]
  },
  {
   "cell_type": "code",
   "execution_count": null,
   "metadata": {
    "ExecuteTime": {
     "end_time": "2023-05-31T13:35:44.874989100Z",
     "start_time": "2023-05-31T13:35:39.170115200Z"
    },
    "collapsed": false
   },
   "outputs": [],
   "source": [
    "# create list of Doc objects\n",
    "docs_nfkc: List[Doc] = []\n",
    "\n",
    "# create df to record corrections\n",
    "corrections_df_nfkc = pd.DataFrame(columns=['sentence', 'source', 'token', 'lemma', 'lemma_corrected', 'correction_source'])\n",
    "corrected_sentences = 0\n",
    "\n",
    "\n",
    "for sentence in tqdm(sentences):\n",
    "    sentence = (normalize('NFKC', sentence[0]), sentence[1])\n",
    "    doc = nlp(sentence[0])\n",
    "\n",
    "    # we search train_df for the sentence and add keywords to the doc\n",
    "\n",
    "\n",
    "    for token in doc:\n",
    "        for source in big_dict_nfkc:\n",
    "            if token.text in big_dict_nfkc[source]:\n",
    "                if big_dict_nfkc[source][token.text] != token.lemma_:\n",
    "                    corrections_df_nfkc = pd.concat([corrections_df_nfkc,\n",
    "                        pd.DataFrame({\n",
    "                        'sentence': sentence[0],\n",
    "                        'source': sentence[1],\n",
    "                        'token': token.text,\n",
    "                        'lemma': token.lemma_,\n",
    "                        'lemma_corrected': big_dict_nfkc[source][token.text],\n",
    "                        'correction_source': source\n",
    "                    }, index=[0])], ignore_index=True)\n",
    "                    corrected_sentences += 1\n",
    "                    token.lemma_ = big_dict_nfkc[source][token.text]\n",
    "\n",
    "                    break\n",
    "\n",
    "    docs_nfkc.append(doc)\n",
    "\n",
    "\n"
   ]
  },
  {
   "cell_type": "code",
   "execution_count": null,
   "metadata": {
    "ExecuteTime": {
     "end_time": "2023-05-31T13:36:05.076054500Z",
     "start_time": "2023-05-31T13:36:05.007497800Z"
    },
    "collapsed": false
   },
   "outputs": [],
   "source": [
    "corrections_df_nfkc.sample(10)"
   ]
  },
  {
   "cell_type": "code",
   "execution_count": null,
   "metadata": {
    "ExecuteTime": {
     "end_time": "2023-05-31T13:36:26.518066900Z",
     "start_time": "2023-05-31T13:36:26.450786900Z"
    },
    "collapsed": false
   },
   "outputs": [],
   "source": [
    "# find how many corrected by each dictionary\n",
    "corrections_df_nfkd.groupby('correction_source').count()"
   ]
  },
  {
   "cell_type": "code",
   "execution_count": null,
   "metadata": {
    "ExecuteTime": {
     "end_time": "2023-05-31T13:36:31.590109100Z",
     "start_time": "2023-05-31T13:36:31.501185500Z"
    },
    "collapsed": false
   },
   "outputs": [],
   "source": [
    "corrections_df_nfkc.groupby('correction_source').count()"
   ]
  },
  {
   "cell_type": "code",
   "execution_count": null,
   "metadata": {
    "ExecuteTime": {
     "end_time": "2023-05-25T09:16:56.014284100Z",
     "start_time": "2023-05-25T09:16:55.612462500Z"
    },
    "collapsed": false
   },
   "outputs": [],
   "source": [
    "# split docs to train, dev, test randomly\n",
    "from sklearn.model_selection import train_test_split\n",
    "from pathlib import Path\n",
    "\n",
    "# split docs to train, dev, test randomly, for each normalization\n",
    "\n",
    "train_docs_nfkd, test_docs_nfkd = train_test_split(docs_nfkd, test_size=0.2, random_state=42)\n",
    "train_docs_nfkd, dev_docs_nfkd = train_test_split(train_docs_nfkd, test_size=0.2, random_state=42)\n",
    "\n",
    "train_docs_nfkc, test_docs_nfkc = train_test_split(docs_nfkc, test_size=0.2, random_state=42)\n",
    "train_docs_nfkc, dev_docs_nfkc = train_test_split(train_docs_nfkc, test_size=0.2, random_state=42)\n",
    "\n",
    "print (f\"train: {len(train_docs_nfkd)}\\ndev: {len(dev_docs_nfkd)}\\ntest: {len(test_docs_nfkd)} for nfkd\")\n",
    "print (f\"train: {len(train_docs_nfkc)}\\ndev: {len(dev_docs_nfkc)}\\ntest: {len(test_docs_nfkc)} for nfkc\")\n",
    "# save each one to DocBin\n",
    "\n",
    "Path(\"../corpus/train\").mkdir(parents=True, exist_ok=True)\n",
    "Path(\"../corpus/dev\").mkdir(parents=True, exist_ok=True)\n",
    "Path(\"../corpus/test\").mkdir(parents=True, exist_ok=True)\n",
    "\n",
    "\n",
    "train_bin_nfkd = DocBin(docs=train_docs_nfkd)\n",
    "train_bin_nfkd.to_disk(\"../corpus/train/lemma_train/train_lemma_NFKD.spacy\")\n",
    "test_bin_nfkd = DocBin(docs=test_docs_nfkd)\n",
    "test_bin_nfkd.to_disk(\"../corpus/test/lemma_test/test_lemma_NFKD.spacy\")\n",
    "dev_bin_nfkd = DocBin(docs=dev_docs_nfkd)\n",
    "dev_bin_nfkd.to_disk(\"../corpus/dev/lemma_dev/dev_lemma_NFKD.spacy\")\n",
    "\n",
    "train_bin_nfkc = DocBin(docs=train_docs_nfkc)\n",
    "train_bin_nfkc.to_disk(\"../corpus/train/lemma_train/train_lemma_NFKC.spacy\")\n",
    "test_bin_nfkc = DocBin(docs=test_docs_nfkc)\n",
    "test_bin_nfkc.to_disk(\"../corpus/test/lemma_test/test_lemma_NFKC.spacy\")\n",
    "dev_bin_nfkc = DocBin(docs=dev_docs_nfkc)\n",
    "dev_bin_nfkc.to_disk(\"../corpus/dev/lemma_dev/dev_lemma_NFKC.spacy\")\n",
    "\n"
   ]
  },
  {
   "attachments": {},
   "cell_type": "markdown",
   "metadata": {},
   "source": [
    "The spacy dataset should be exported to '../corpus/' folder.\\\n",
    "More specifically:\\\n",
    "train to '..corpus/train/lemma_train/'\\\n",
    "dev to '../corpus/dev/lemma_dev/'\\\n",
    "test to '../corpus/test/lemma_test/"
   ]
  }
 ],
 "metadata": {
  "kernelspec": {
   "display_name": "Python 3",
   "language": "python",
   "name": "python3"
  },
  "language_info": {
   "codemirror_mode": {
    "name": "ipython",
    "version": 3
   },
   "file_extension": ".py",
   "mimetype": "text/x-python",
   "name": "python",
   "nbconvert_exporter": "python",
   "pygments_lexer": "ipython3",
   "version": "3.11.3"
  }
 },
 "nbformat": 4,
 "nbformat_minor": 0
}
