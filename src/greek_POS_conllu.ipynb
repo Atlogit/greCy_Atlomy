{
 "cells": [
  {
   "cell_type": "code",
   "execution_count": 1,
   "metadata": {
    "collapsed": true,
    "ExecuteTime": {
     "end_time": "2023-08-03T14:43:08.329732600Z",
     "start_time": "2023-08-03T14:42:49.653072500Z"
    }
   },
   "outputs": [],
   "source": [
    "import spacy\n",
    "from spacy.tokens import Doc\n",
    "from conllu import parse\n",
    "import os\n",
    "import unicodedata"
   ]
  },
  {
   "cell_type": "code",
   "execution_count": 2,
   "outputs": [],
   "source": [
    "nlp = spacy.load(\"grc_proiel_sm\")\n"
   ],
   "metadata": {
    "collapsed": false,
    "ExecuteTime": {
     "end_time": "2023-08-03T14:43:12.484593200Z",
     "start_time": "2023-08-03T14:43:08.329732600Z"
    }
   }
  },
  {
   "cell_type": "markdown",
   "source": [
    "# Load ConllU data"
   ],
   "metadata": {
    "collapsed": false
   }
  },
  {
   "cell_type": "code",
   "execution_count": 3,
   "outputs": [],
   "source": [
    "SOURCES = [\"../assets/INCEpTION_Conllu/\"]"
   ],
   "metadata": {
    "collapsed": false,
    "ExecuteTime": {
     "end_time": "2023-08-03T14:43:12.494943600Z",
     "start_time": "2023-08-03T14:43:12.484593200Z"
    }
   }
  },
  {
   "cell_type": "code",
   "execution_count": 4,
   "outputs": [],
   "source": [
    "data = \"\"\n",
    "for source in SOURCES:\n",
    "    for root, dirs, files in os.walk(source):\n",
    "        for file in files:\n",
    "            if file.endswith(\".conllu\"):\n",
    "                with open(os.path.join(root, file), \"r\", encoding=\"utf-8\") as f:\n",
    "                    data += f.read()"
   ],
   "metadata": {
    "collapsed": false,
    "ExecuteTime": {
     "end_time": "2023-08-03T14:43:12.585082100Z",
     "start_time": "2023-08-03T14:43:12.494943600Z"
    }
   }
  },
  {
   "cell_type": "code",
   "execution_count": 8,
   "outputs": [],
   "source": [
    "NORM = \"NFD\"\n",
    "data = unicodedata.normalize(NORM, data)"
   ],
   "metadata": {
    "collapsed": false,
    "ExecuteTime": {
     "end_time": "2023-08-03T14:44:28.818930400Z",
     "start_time": "2023-08-03T14:44:28.802436Z"
    }
   }
  },
  {
   "cell_type": "code",
   "execution_count": 9,
   "outputs": [],
   "source": [
    "sentences = parse(data)"
   ],
   "metadata": {
    "collapsed": false,
    "ExecuteTime": {
     "end_time": "2023-08-03T14:44:30.002803400Z",
     "start_time": "2023-08-03T14:44:29.968814500Z"
    }
   }
  },
  {
   "cell_type": "code",
   "execution_count": 10,
   "outputs": [
    {
     "data": {
      "text/plain": "dict_keys(['id', 'form', 'lemma', 'upos', 'xpos', 'feats', 'head', 'deprel', 'deps', 'misc'])"
     },
     "execution_count": 10,
     "metadata": {},
     "output_type": "execute_result"
    }
   ],
   "source": [
    "sentences[0][9].keys()"
   ],
   "metadata": {
    "collapsed": false,
    "ExecuteTime": {
     "end_time": "2023-08-03T14:44:30.216743600Z",
     "start_time": "2023-08-03T14:44:30.152116800Z"
    }
   }
  },
  {
   "cell_type": "code",
   "execution_count": 11,
   "outputs": [
    {
     "data": {
      "text/plain": "{'SpaceAfter': 'No'}"
     },
     "execution_count": 11,
     "metadata": {},
     "output_type": "execute_result"
    }
   ],
   "source": [
    "sentences[0][8]['misc']"
   ],
   "metadata": {
    "collapsed": false,
    "ExecuteTime": {
     "end_time": "2023-08-03T14:44:30.968146100Z",
     "start_time": "2023-08-03T14:44:30.901248500Z"
    }
   }
  },
  {
   "cell_type": "code",
   "execution_count": 12,
   "outputs": [
    {
     "data": {
      "text/plain": "['Ὑπὸ',\n 'δὲ',\n 'τὸ',\n 'ὑπόζωμα',\n 'κεῖται',\n 'ἡ',\n 'κοιλία',\n 'τοῖς',\n 'ζῴοις',\n ',',\n 'τοῖς',\n 'μὲν',\n 'ἔχουσιν',\n 'οἰσοφάγον',\n 'ᾗ',\n 'τελευτᾷ',\n 'τοῦτο',\n 'τὸ',\n 'μόριον',\n ',',\n 'τοῖς',\n 'δὲ',\n 'μὴ',\n 'ἔχουσιν',\n 'εὐθὺς',\n 'πρὸς',\n 'τῷ',\n 'στόματι',\n '·']"
     },
     "execution_count": 12,
     "metadata": {},
     "output_type": "execute_result"
    }
   ],
   "source": [
    "# get all tokens from first sentence\n",
    "tokens = [t['form'] for t in sentences[0]]\n",
    "tokens"
   ],
   "metadata": {
    "collapsed": false,
    "ExecuteTime": {
     "end_time": "2023-08-03T14:44:31.285142200Z",
     "start_time": "2023-08-03T14:44:31.219831200Z"
    }
   }
  },
  {
   "cell_type": "code",
   "execution_count": 13,
   "outputs": [
    {
     "data": {
      "text/plain": "'ADP'"
     },
     "execution_count": 13,
     "metadata": {},
     "output_type": "execute_result"
    }
   ],
   "source": [
    "sentences[0][0]['upos']"
   ],
   "metadata": {
    "collapsed": false,
    "ExecuteTime": {
     "end_time": "2023-08-03T14:44:31.651592700Z",
     "start_time": "2023-08-03T14:44:31.636883Z"
    }
   }
  },
  {
   "cell_type": "code",
   "execution_count": 14,
   "outputs": [],
   "source": [
    "docs = []\n",
    "for s in sentences:\n",
    "    words = [t['form'] for t in s]\n",
    "    # spaces are always True unless in t['misc'] and ['SpaceAfter'] is 'No'\n",
    "    spaces = [True for t in s]\n",
    "    for i, t in enumerate(s):\n",
    "        if t['misc'] and t['misc']['SpaceAfter'] == 'No':\n",
    "\n",
    "            spaces[i] = False\n",
    "    doc = Doc(nlp.vocab, words=[t['form'] for t in s], spaces=spaces)\n",
    "    # add tags to doc\n",
    "    for i, t in enumerate(s):\n",
    "        if t['upos'] != None:\n",
    "            doc[i].tag_ = t['upos']\n",
    "        if t['xpos'] != None:\n",
    "            doc[i].pos_ = t['xpos']\n",
    "        if t['lemma'] != None:\n",
    "            doc[i].lemma_ = t['lemma']\n",
    "\n",
    "    docs.append(doc)"
   ],
   "metadata": {
    "collapsed": false,
    "ExecuteTime": {
     "end_time": "2023-08-03T14:44:32.200208800Z",
     "start_time": "2023-08-03T14:44:32.134747400Z"
    }
   }
  },
  {
   "cell_type": "code",
   "execution_count": 15,
   "outputs": [
    {
     "name": "stdout",
     "output_type": "stream",
     "text": [
      "Ὑπὸ δὲ τὸ ὑπόζωμα κεῖται ἡ κοιλία τοῖς ζῴοις, τοῖς μὲν ἔχουσιν οἰσοφάγον ᾗ τελευτᾷ τοῦτο τὸ μόριον, τοῖς δὲ μὴ ἔχουσιν εὐθὺς πρὸς τῷ στόματι· \n"
     ]
    }
   ],
   "source": [
    "# print first sentence with POS\n",
    "print(docs[0].text)"
   ],
   "metadata": {
    "collapsed": false,
    "ExecuteTime": {
     "end_time": "2023-08-03T14:44:32.668033200Z",
     "start_time": "2023-08-03T14:44:32.634634800Z"
    }
   }
  },
  {
   "cell_type": "code",
   "execution_count": 16,
   "outputs": [
    {
     "name": "stdout",
     "output_type": "stream",
     "text": [
      "Ὑπὸ  ADP ὑπό  \n",
      "δὲ  PART δὲ  \n",
      "τὸ  DET ὁ  \n",
      "ὑπόζωμα  NOUN ὑπόζωμα  \n",
      "κεῖται  VERB κεῖμαι  \n",
      "ἡ  DET ὁ  \n",
      "κοιλία  NOUN κοιλία  \n",
      "τοῖς  DET ὁ  \n",
      "ζῴοις  NOUN ζῷον \n",
      ",  PUNCT _  \n",
      "τοῖς  DET ὁ  \n",
      "μὲν  PART μὲν  \n",
      "ἔχουσιν  VERB ἔχω  \n",
      "οἰσοφάγον  NOUN οἰσοφάγος  \n",
      "ᾗ  CCONJ ᾗ  \n",
      "τελευτᾷ  VERB τελευτάω  \n",
      "τοῦτο  PRON οὗτος  \n",
      "τὸ  DET ὁ  \n",
      "μόριον  NOUN μόριον \n",
      ",  PUNCT _  \n",
      "τοῖς  DET ὁ  \n",
      "δὲ  PART δὲ  \n",
      "μὴ  ADV μὴ  \n",
      "ἔχουσιν  VERB ἔχω  \n",
      "εὐθὺς  ADV εὐθύς  \n",
      "πρὸς  ADP πρός  \n",
      "τῷ  DET ὁ  \n",
      "στόματι  NOUN στόμα \n",
      "·  PUNCT _  \n"
     ]
    }
   ],
   "source": [
    "# get tokens of first sentence\n",
    "tokens = [t for t in docs[0]]\n",
    "for t in tokens:\n",
    "    print(t.text, t.pos_, t.tag_, t.lemma_, t.whitespace_)"
   ],
   "metadata": {
    "collapsed": false,
    "ExecuteTime": {
     "end_time": "2023-08-03T14:44:34.066358Z",
     "start_time": "2023-08-03T14:44:33.984451900Z"
    }
   }
  },
  {
   "cell_type": "markdown",
   "source": [
    "# Save docs to binary file"
   ],
   "metadata": {
    "collapsed": false
   }
  },
  {
   "cell_type": "code",
   "execution_count": null,
   "outputs": [],
   "source": [
    "from spacy.tokens import DocBin"
   ],
   "metadata": {
    "collapsed": false
   }
  },
  {
   "cell_type": "code",
   "execution_count": null,
   "outputs": [],
   "source": [
    "doc_bin = DocBin(docs=docs)"
   ],
   "metadata": {
    "collapsed": false
   }
  },
  {
   "cell_type": "code",
   "execution_count": 61,
   "outputs": [],
   "source": [
    "doc_bin.to_disk(\"../assets/INCEpTION_POS.spacy\")"
   ],
   "metadata": {
    "collapsed": false,
    "ExecuteTime": {
     "end_time": "2023-07-20T09:12:56.376152700Z",
     "start_time": "2023-07-20T09:12:56.356672Z"
    }
   }
  },
  {
   "cell_type": "code",
   "execution_count": null,
   "outputs": [],
   "source": [],
   "metadata": {
    "collapsed": false
   }
  }
 ],
 "metadata": {
  "kernelspec": {
   "display_name": "Python 3",
   "language": "python",
   "name": "python3"
  },
  "language_info": {
   "codemirror_mode": {
    "name": "ipython",
    "version": 2
   },
   "file_extension": ".py",
   "mimetype": "text/x-python",
   "name": "python",
   "nbconvert_exporter": "python",
   "pygments_lexer": "ipython2",
   "version": "2.7.6"
  }
 },
 "nbformat": 4,
 "nbformat_minor": 0
}
