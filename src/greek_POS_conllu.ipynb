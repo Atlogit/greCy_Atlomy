{
 "cells": [
  {
   "cell_type": "code",
   "execution_count": 1,
   "metadata": {
    "ExecuteTime": {
     "end_time": "2023-07-20T08:11:16.631297200Z",
     "start_time": "2023-07-20T08:11:07.739576900Z"
    },
    "collapsed": true
   },
   "outputs": [],
   "source": [
    "import spacy\n",
    "from spacy.tokens import Doc\n",
    "from conllu import parse\n",
    "import os\n",
    "import unicodedata"
   ]
  },
  {
   "cell_type": "code",
   "execution_count": 2,
   "metadata": {
    "ExecuteTime": {
     "end_time": "2023-07-20T08:11:20.157065900Z",
     "start_time": "2023-07-20T08:11:16.632300Z"
    },
    "collapsed": false
   },
   "outputs": [],
   "source": [
    "nlp = spacy.load(\"grc_proiel_trf\")\n"
   ]
  },
  {
   "cell_type": "markdown",
   "metadata": {
    "collapsed": false
   },
   "source": [
    "# Load ConllU data"
   ]
  },
  {
   "cell_type": "code",
   "execution_count": 3,
   "metadata": {
    "ExecuteTime": {
     "end_time": "2023-07-20T09:12:18.920032400Z",
     "start_time": "2023-07-20T09:12:18.871959400Z"
    },
    "collapsed": false
   },
   "outputs": [],
   "source": [
    "SOURCES = [\"../assets/INCEpTION_Conllu/\"]"
   ]
  },
  {
   "cell_type": "code",
   "execution_count": 4,
   "metadata": {
    "ExecuteTime": {
     "end_time": "2023-07-20T09:12:19.551880200Z",
     "start_time": "2023-07-20T09:12:19.533454100Z"
    },
    "collapsed": false
   },
   "outputs": [],
   "source": [
    "data = \"\"\n",
    "for source in SOURCES:\n",
    "    for root, dirs, files in os.walk(source):\n",
    "        for file in files:\n",
    "            if file.endswith(\".conllu\"):\n",
    "                with open(os.path.join(root, file), \"r\", encoding=\"utf-8\") as f:\n",
    "                    data += f.read()"
   ]
  },
  {
   "cell_type": "code",
   "execution_count": 5,
   "metadata": {},
   "outputs": [],
   "source": [
    "NORM = \"NFKD\"\n",
    "data = unicodedata.normalize(NORM, data)"
   ]
  },
  {
   "cell_type": "code",
   "execution_count": 6,
   "metadata": {
    "ExecuteTime": {
     "end_time": "2023-07-20T09:12:20.698982100Z",
     "start_time": "2023-07-20T09:12:20.687507200Z"
    },
    "collapsed": false
   },
   "outputs": [],
   "source": [
    "sentences = parse(data)"
   ]
  },
  {
   "cell_type": "code",
   "execution_count": 7,
   "metadata": {
    "ExecuteTime": {
     "end_time": "2023-07-20T09:12:22.047409200Z",
     "start_time": "2023-07-20T09:12:21.984948200Z"
    },
    "collapsed": false
   },
   "outputs": [
    {
     "data": {
      "text/plain": [
       "dict_keys(['id', 'form', 'lemma', 'upos', 'xpos', 'feats', 'head', 'deprel', 'deps', 'misc'])"
      ]
     },
     "execution_count": 7,
     "metadata": {},
     "output_type": "execute_result"
    }
   ],
   "source": [
    "sentences[0][9].keys()"
   ]
  },
  {
   "cell_type": "code",
   "execution_count": 8,
   "metadata": {
    "ExecuteTime": {
     "end_time": "2023-07-20T09:12:22.165682400Z",
     "start_time": "2023-07-20T09:12:22.165190100Z"
    },
    "collapsed": false
   },
   "outputs": [],
   "source": [
    "sentences[0][8]['misc']"
   ]
  },
  {
   "cell_type": "code",
   "execution_count": 9,
   "metadata": {
    "ExecuteTime": {
     "end_time": "2023-07-20T09:12:22.659385800Z",
     "start_time": "2023-07-20T09:12:22.648781900Z"
    },
    "collapsed": false
   },
   "outputs": [
    {
     "data": {
      "text/plain": [
       "['Αἱ',\n",
       " 'δ',\n",
       " '’',\n",
       " 'ὑστέραι',\n",
       " 'τῶν',\n",
       " 'ἐχόντων',\n",
       " 'ὑστέρας',\n",
       " 'ζῴων',\n",
       " 'οὔτε',\n",
       " 'τὸν',\n",
       " 'αὐτὸν',\n",
       " 'τρόπον',\n",
       " 'ἔχουσιν',\n",
       " 'οὔθ',\n",
       " '’',\n",
       " 'ὅμοιαι',\n",
       " 'πάντων',\n",
       " 'εἰσίν',\n",
       " ',',\n",
       " 'ἀλλὰ',\n",
       " 'διαφέρουσι',\n",
       " 'καὶ',\n",
       " 'τῶν',\n",
       " 'ζῳοτοκούντων',\n",
       " 'πρὸς',\n",
       " 'ἄλληλα',\n",
       " 'καὶ',\n",
       " 'τῶν',\n",
       " 'ᾠοτοκούντων',\n",
       " '.']"
      ]
     },
     "execution_count": 9,
     "metadata": {},
     "output_type": "execute_result"
    }
   ],
   "source": [
    "# get all tokens from first sentence\n",
    "tokens = [t['form'] for t in sentences[0]]\n",
    "tokens"
   ]
  },
  {
   "cell_type": "code",
   "execution_count": 10,
   "metadata": {
    "ExecuteTime": {
     "end_time": "2023-07-20T09:12:23.923773600Z",
     "start_time": "2023-07-20T09:12:23.913293800Z"
    },
    "collapsed": false
   },
   "outputs": [],
   "source": [
    "import string\n",
    "\n",
    "docs = []\n",
    "for s in sentences:\n",
    "    words = [t['form'] for t in s]\n",
    "    # spaces are always True unless in t['misc'] and ['SpaceAfter'] is 'No'\n",
    "    spaces = [True for t in s]\n",
    "    for i, t in enumerate(s):\n",
    "        if t['misc'] and t['misc']['SpaceAfter'] == 'No':\n",
    "            spaces[i] = False\n",
    "    doc = Doc(nlp.vocab, words=[t['form'] for t in s], spaces=spaces)\n",
    "    # add tags to doc\n",
    "    for i, t in enumerate(s):\n",
    "        if t['upos'] != None:\n",
    "            # if t['form'] is a punctuation mark, t['upos'] is 'PUNCT'\n",
    "            if t['form'] in string.punctuation:\n",
    "                doc[i].pos_ = 'PUNCT'\n",
    "            else:\n",
    "                doc[i].pos_ = '' if t['upos'] == '_' else t['upos']\n",
    "        if t['xpos'] != None:\n",
    "            doc[i].tag_ = t['xpos']\n",
    "        if t['lemma'] != None:\n",
    "            doc[i].lemma_ = '' if t['lemma'] == '_' else t['lemma']\n",
    "    docs.append(doc)"
   ]
  },
  {
   "cell_type": "code",
   "execution_count": 11,
   "metadata": {
    "ExecuteTime": {
     "end_time": "2023-07-20T09:12:24.751693500Z",
     "start_time": "2023-07-20T09:12:24.735592Z"
    },
    "collapsed": false
   },
   "outputs": [
    {
     "name": "stdout",
     "output_type": "stream",
     "text": [
      "Αἱ δ’ ὑστέραι τῶν ἐχόντων ὑστέρας ζῴων οὔτε τὸν αὐτὸν τρόπον ἔχουσιν οὔθ’ ὅμοιαι πάντων εἰσίν, ἀλλὰ διαφέρουσι καὶ τῶν ζῳοτοκούντων πρὸς ἄλληλα καὶ τῶν ᾠοτοκούντων. \n"
     ]
    }
   ],
   "source": [
    "# print first sentence with POS\n",
    "print(docs[0].text)"
   ]
  },
  {
   "cell_type": "code",
   "execution_count": 12,
   "metadata": {
    "ExecuteTime": {
     "end_time": "2023-07-20T09:12:25.646718Z",
     "start_time": "2023-07-20T09:12:25.555326800Z"
    },
    "collapsed": false
   },
   "outputs": [
    {
     "name": "stdout",
     "output_type": "stream",
     "text": [
      "Αἱ DET  ὁ  \n",
      "δ CCONJ  δέ \n",
      "’     \n",
      "ὑστέραι NOUN  ὑστέρα  \n",
      "τῶν DET  ὁ  \n",
      "ἐχόντων VERB  ἔχω  \n",
      "ὑστέρας NOUN  ὑστέρα  \n",
      "ζῴων NOUN  ζῷον  \n",
      "οὔτε CCONJ  οὔτε  \n",
      "τὸν DET  ὁ  \n",
      "αὐτὸν PRON  αὐτός  \n",
      "τρόπον NOUN  τρόπος  \n",
      "ἔχουσιν VERB  ἔχω  \n",
      "οὔθ CCONJ  οὔθ \n",
      "’     \n",
      "ὅμοιαι ADJ  ὅμοιος  \n",
      "πάντων ADJ  πᾶς  \n",
      "εἰσίν VERB  εἰμί \n",
      ", PUNCT    \n",
      "ἀλλὰ CCONJ  ἀλλὰ  \n",
      "διαφέρουσι VERB  διαφέρω  \n",
      "καὶ CCONJ  καί  \n",
      "τῶν DET  ὁ  \n",
      "ζῳοτοκούντων VERB  ζᾠοτοκέω  \n",
      "πρὸς ADP  πρός  \n",
      "ἄλληλα PRON  ἀλλήλων  \n",
      "καὶ CCONJ  καί  \n",
      "τῶν DET  ὁ  \n",
      "ᾠοτοκούντων VERB  ᾠοτοκέω \n",
      ". PUNCT    \n"
     ]
    }
   ],
   "source": [
    "# get tokens of first sentence\n",
    "tokens = [t for t in docs[0]]\n",
    "for t in tokens:\n",
    "    print(t.text, t.pos_, t.tag_, t.lemma_, t.whitespace_)"
   ]
  },
  {
   "cell_type": "markdown",
   "metadata": {
    "collapsed": false
   },
   "source": [
    "# Save docs to binary file"
   ]
  },
  {
   "cell_type": "code",
   "execution_count": 13,
   "metadata": {
    "ExecuteTime": {
     "end_time": "2023-07-20T09:12:55.390442200Z",
     "start_time": "2023-07-20T09:12:55.370410600Z"
    },
    "collapsed": false
   },
   "outputs": [],
   "source": [
    "from spacy.tokens import DocBin"
   ]
  },
  {
   "cell_type": "code",
   "execution_count": 14,
   "metadata": {
    "ExecuteTime": {
     "end_time": "2023-07-20T09:12:55.848116100Z",
     "start_time": "2023-07-20T09:12:55.831433Z"
    },
    "collapsed": false
   },
   "outputs": [],
   "source": [
    "doc_bin = DocBin(docs=docs)"
   ]
  },
  {
   "cell_type": "code",
   "execution_count": 15,
   "metadata": {
    "ExecuteTime": {
     "end_time": "2023-07-20T09:12:56.376152700Z",
     "start_time": "2023-07-20T09:12:56.356672Z"
    },
    "collapsed": false
   },
   "outputs": [],
   "source": [
    "doc_bin.to_disk(\"../corpus/INCEpTION_POS_NFKD.spacy\")"
   ]
  },
  {
   "cell_type": "markdown",
   "metadata": {},
   "source": [
    "## Check Spacy docbin file"
   ]
  },
  {
   "cell_type": "code",
   "execution_count": null,
   "metadata": {
    "collapsed": false
   },
   "outputs": [],
   "source": [
    "# load spacy object\n",
    "# load docs from file\n",
    "docs = DocBin().from_disk(\"../corpus/INCEpTION_POS.spacy\")\n",
    "test_docbin_docs = list(docs.get_docs(nlp.vocab))\n"
   ]
  },
  {
   "cell_type": "code",
   "execution_count": null,
   "metadata": {},
   "outputs": [],
   "source": [
    "import pandas as pd\n",
    "\n",
    "# create list of rows\n",
    "rows = []\n",
    "for doc in test_docbin_docs:\n",
    "    for token in doc:\n",
    "        row = [token.orth_, token.lemma_, token.pos_, token.tag_, token.dep_, token.head.orth_]\n",
    "        rows.append(row)\n",
    "\n",
    "# create dataframe\n",
    "df = pd.DataFrame(rows, columns=[\"Orth\", \"Lemma\", \"POS\", \"Tag\", \"Dep\", \"Head\"])\n",
    "\n",
    "# print dataframe\n",
    "print(df)"
   ]
  },
  {
   "cell_type": "code",
   "execution_count": null,
   "metadata": {},
   "outputs": [],
   "source": [
    "df"
   ]
  },
  {
   "cell_type": "code",
   "execution_count": null,
   "metadata": {},
   "outputs": [],
   "source": [
    "for token in test_docbin_docs[0]:\n",
    "#print attributes\n",
    "    print('text: ', token.text, 'lemma :', token.lemma_, 'POS: ', token.pos_, 'tag: ', token.tag_, 'DEP: ', token.dep_)"
   ]
  },
  {
   "cell_type": "code",
   "execution_count": null,
   "metadata": {},
   "outputs": [],
   "source": [
    "# print the first doc in spacy docbin docs\n",
    "print(test_docbin_docs[0])"
   ]
  },
  {
   "cell_type": "code",
   "execution_count": null,
   "metadata": {},
   "outputs": [],
   "source": [
    "# print docs in new docbin\n",
    "for doc in new_docbin.get_docs(nlp.vocab):\n",
    "    for token in doc:\n",
    "        print(token.text, token.lemma_, token.pos_, token.tag_, token.dep_, token.shape_, token.is_alpha, token.is_stop)"
   ]
  },
  {
   "cell_type": "code",
   "execution_count": null,
   "metadata": {},
   "outputs": [],
   "source": []
  }
 ],
 "metadata": {
  "kernelspec": {
   "display_name": "Python 3",
   "language": "python",
   "name": "python3"
  },
  "language_info": {
   "codemirror_mode": {
    "name": "ipython",
    "version": 3
   },
   "file_extension": ".py",
   "mimetype": "text/x-python",
   "name": "python",
   "nbconvert_exporter": "python",
   "pygments_lexer": "ipython3",
   "version": "3.11.3"
  }
 },
 "nbformat": 4,
 "nbformat_minor": 0
}
