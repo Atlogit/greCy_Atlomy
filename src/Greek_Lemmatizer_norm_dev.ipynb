{
 "cells": [
  {
   "cell_type": "code",
   "execution_count": 1,
   "metadata": {
    "ExecuteTime": {
     "end_time": "2023-05-23T09:51:07.422692200Z",
     "start_time": "2023-05-23T09:51:01.082050300Z"
    },
    "collapsed": true
   },
   "outputs": [],
   "source": [
    "import os\n",
    "import re\n",
    "import spacy\n",
    "import pandas as pd"
   ]
  },
  {
   "attachments": {},
   "cell_type": "markdown",
   "metadata": {
    "collapsed": false
   },
   "source": [
    "# Preprocess Text"
   ]
  },
  {
   "cell_type": "raw",
   "metadata": {
    "collapsed": false
   },
   "source": []
  },
  {
   "cell_type": "code",
   "execution_count": 2,
   "metadata": {
    "ExecuteTime": {
     "end_time": "2023-05-23T09:51:49.240197300Z",
     "start_time": "2023-05-23T09:51:49.178277600Z"
    },
    "collapsed": false
   },
   "outputs": [],
   "source": [
    "FILE_PATH = \"../assets/NER_assets/Ancient_Words.csv\"\n",
    "# read csv file\n",
    "df = pd.read_csv(FILE_PATH)\n",
    "# Preprocess Text"
   ]
  },
  {
   "cell_type": "code",
   "execution_count": 3,
   "metadata": {
    "ExecuteTime": {
     "end_time": "2023-05-23T09:51:51.232411200Z",
     "start_time": "2023-05-23T09:51:51.049750400Z"
    },
    "collapsed": false
   },
   "outputs": [],
   "source": [
    "# rename columns to fit code\n",
    "df.rename(columns = {'Word':'Keyword', 'Category Types':'Label'}, inplace = True)\n",
    "# If a cell is empty (NaN), Fill it with the value in its parallel \"Early\" column\n",
    "for row in df:\n",
    "    df['Quote'].fillna(df['Early Quote'], inplace=True)\n",
    "    df['Word Before'].fillna(df['Early Word Before'], inplace=True)\n",
    "    df['Word After'].fillna(df['Early Word After'], inplace=True)\n",
    "    df['Label'].fillna(df['Early Category Type'], inplace=True)\n",
    "# remove rows with no Keyword\n",
    "df = df.dropna(subset=['Keyword'])\n",
    "# Remove any row that isn't Greek\n",
    "pat = '[ء-ي]+'\n",
    "#df.Keyword.str.contains(pat)\n",
    "df = df[~df.Keyword.str.contains(pat, na=False)]\n",
    "#replace new line in df column\n",
    "df['Keyword'].replace('\\n', '', regex=True, inplace=True)\n",
    "#replace numbers in df\n",
    "df.replace('\\d+', '', regex=True, inplace=True)\n",
    "#replace hyphens in df column\n",
    "df.replace('-', '', regex=True, inplace=True)\n",
    "# replace comma in df column\n",
    "df['Keyword'].replace(',', '', regex=True, inplace=True)\n",
    "#replace period in df column\n",
    "df['Keyword'].replace('\\.', '', regex=True, inplace=True)\n",
    "#replace interpunkt in df column\n",
    "df['Keyword'].replace('\\·', '', regex=True, inplace=True)\n",
    "# replace multiple spaces in df column\n",
    "df.replace(' +', ' ', regex=True, inplace=True)\n",
    "# replace end punctuation in df column\n",
    "df['Keyword'].replace('\\s+$', '', regex=True, inplace=True)\n",
    "\n",
    "df.fillna(0)\n",
    "df.reset_index(drop=True, inplace=True)\n"
   ]
  },
  {
   "cell_type": "code",
   "execution_count": 4,
   "metadata": {
    "ExecuteTime": {
     "end_time": "2023-05-23T09:51:52.158657600Z",
     "start_time": "2023-05-23T09:51:51.994416600Z"
    },
    "collapsed": false
   },
   "outputs": [
    {
     "data": {
      "text/html": [
       "<div>\n",
       "<style scoped>\n",
       "    .dataframe tbody tr th:only-of-type {\n",
       "        vertical-align: middle;\n",
       "    }\n",
       "\n",
       "    .dataframe tbody tr th {\n",
       "        vertical-align: top;\n",
       "    }\n",
       "\n",
       "    .dataframe thead th {\n",
       "        text-align: right;\n",
       "    }\n",
       "</style>\n",
       "<table border=\"1\" class=\"dataframe\">\n",
       "  <thead>\n",
       "    <tr style=\"text-align: right;\">\n",
       "      <th></th>\n",
       "      <th>Keyword</th>\n",
       "      <th>Word Before</th>\n",
       "      <th>Word After</th>\n",
       "      <th>Quote</th>\n",
       "      <th>Label</th>\n",
       "      <th>Lemma</th>\n",
       "      <th>Early Category Type</th>\n",
       "      <th>Early Word</th>\n",
       "      <th>Early Word Before</th>\n",
       "      <th>Early Word After</th>\n",
       "      <th>Early Quote</th>\n",
       "      <th>Lemma arabic</th>\n",
       "    </tr>\n",
       "  </thead>\n",
       "  <tbody>\n",
       "    <tr>\n",
       "      <th>0</th>\n",
       "      <td>οὖλον</td>\n",
       "      <td>δὲ πολυφυὲς</td>\n",
       "      <td>· σάρκινα δὲ</td>\n",
       "      <td>Καὶ τὸ μὲν διφυὲς τοῦ στόματος παρίσθμι...</td>\n",
       "      <td>Body Part</td>\n",
       "      <td>οὖλον</td>\n",
       "      <td>Body Part</td>\n",
       "      <td>οὖλον</td>\n",
       "      <td>δὲ πολυφυὲς</td>\n",
       "      <td>· σάρκινα δὲ</td>\n",
       "      <td>Καὶ τὸ μὲν διφυὲς τοῦ στόματος παρίσθμι...</td>\n",
       "      <td>NaN</td>\n",
       "    </tr>\n",
       "    <tr>\n",
       "      <th>1</th>\n",
       "      <td>παρίσθμιον</td>\n",
       "      <td>τοῦ στόματος</td>\n",
       "      <td>, τὸ δὲ</td>\n",
       "      <td>Καὶ τὸ μὲν διφυὲς τοῦ στόματος παρίσθμι...</td>\n",
       "      <td>Body Part</td>\n",
       "      <td>παρίσθμιον</td>\n",
       "      <td>Body Part</td>\n",
       "      <td>παρίσθμιον</td>\n",
       "      <td>τοῦ στόματος</td>\n",
       "      <td>, τὸ δὲ</td>\n",
       "      <td>Καὶ τὸ μὲν διφυὲς τοῦ στόματος παρίσθμι...</td>\n",
       "      <td>NaN</td>\n",
       "    </tr>\n",
       "    <tr>\n",
       "      <th>2</th>\n",
       "      <td>πολυφυὲς</td>\n",
       "      <td>τὸ δὲ</td>\n",
       "      <td>οὖλον· σάρκινα</td>\n",
       "      <td>Καὶ τὸ μὲν διφυὲς τοῦ στόματος παρίσθμι...</td>\n",
       "      <td>Adjectives/Qualities</td>\n",
       "      <td>πολυφυής</td>\n",
       "      <td>Adjectives/Qualities</td>\n",
       "      <td>πολυφυὲς</td>\n",
       "      <td>τὸ δὲ</td>\n",
       "      <td>οὖλον· σάρκινα</td>\n",
       "      <td>Καὶ τὸ μὲν διφυὲς τοῦ στόματος παρίσθμι...</td>\n",
       "      <td>NaN</td>\n",
       "    </tr>\n",
       "    <tr>\n",
       "      <th>3</th>\n",
       "      <td>μόριον</td>\n",
       "      <td>δ’ ἄλλο</td>\n",
       "      <td>σταφυλοφόρον, κίων</td>\n",
       "      <td>Εἴσω δ’ ἄλλο μόριον σταφυλοφόρον , κίων...</td>\n",
       "      <td>Body Part</td>\n",
       "      <td>μόριον</td>\n",
       "      <td>Body Part</td>\n",
       "      <td>μόριον</td>\n",
       "      <td>δ’ ἄλλο</td>\n",
       "      <td>σταφυλοφόρον, κίων</td>\n",
       "      <td>Εἴσω δ’ ἄλλο μόριον σταφυλοφόρον , κίων...</td>\n",
       "      <td>NaN</td>\n",
       "    </tr>\n",
       "    <tr>\n",
       "      <th>4</th>\n",
       "      <td>ὀδόντες</td>\n",
       "      <td>Ἐντὸς δ’</td>\n",
       "      <td>ὀστέινοι. Εἴσω</td>\n",
       "      <td>Ἐντὸς δ’ ὀδόντες ὀστέινοι</td>\n",
       "      <td>Body Part</td>\n",
       "      <td>ὀδούς</td>\n",
       "      <td>Body Part</td>\n",
       "      <td>ὀδόντες</td>\n",
       "      <td>Ἐντὸς δ’</td>\n",
       "      <td>ὀστέινοι. Εἴσω</td>\n",
       "      <td>Ἐντὸς δ’ ὀδόντες ὀστέινοι</td>\n",
       "      <td>NaN</td>\n",
       "    </tr>\n",
       "    <tr>\n",
       "      <th>5</th>\n",
       "      <td>ὀστέινοι</td>\n",
       "      <td>δ’ ὀδόντες</td>\n",
       "      <td>. Εἴσω δ’</td>\n",
       "      <td>Ἐντὸς δ’ ὀδόντες ὀστέινοι</td>\n",
       "      <td>Adjectives/Qualities</td>\n",
       "      <td>ὀστέινος</td>\n",
       "      <td>Adjectives/Qualities</td>\n",
       "      <td>ὀστέινοι</td>\n",
       "      <td>δ’ ὀδόντες</td>\n",
       "      <td>. Εἴσω δ’</td>\n",
       "      <td>Ἐντὸς δ’ ὀδόντες ὀστέινοι</td>\n",
       "      <td>NaN</td>\n",
       "    </tr>\n",
       "    <tr>\n",
       "      <th>6</th>\n",
       "      <td>σταφυλοφόρον</td>\n",
       "      <td>ἄλλο μόριον</td>\n",
       "      <td>, κίων ἐπίφλεβος·</td>\n",
       "      <td>Εἴσω δ’ ἄλλο μόριον σταφυλοφόρον , κίων...</td>\n",
       "      <td>Adjectives/Qualities</td>\n",
       "      <td>σταφυλοφόρος</td>\n",
       "      <td>Adjectives/Qualities</td>\n",
       "      <td>σταφυλοφόρον</td>\n",
       "      <td>ἄλλο μόριον</td>\n",
       "      <td>, κίων ἐπίφλεβος·</td>\n",
       "      <td>Εἴσω δ’ ἄλλο μόριον σταφυλοφόρον , κίων...</td>\n",
       "      <td>NaN</td>\n",
       "    </tr>\n",
       "    <tr>\n",
       "      <th>7</th>\n",
       "      <td>ἐπίφλεβος</td>\n",
       "      <td>σταφυλοφόρον, κίων</td>\n",
       "      <td>· ὃς ἐὰν</td>\n",
       "      <td>Εἴσω δ’ ἄλλο μόριον σταφυλοφόρον, κίων ...</td>\n",
       "      <td>Adjectives/Qualities</td>\n",
       "      <td>ἐπίφλεβος</td>\n",
       "      <td>Adjectives/Qualities</td>\n",
       "      <td>ἐπίφλεβος</td>\n",
       "      <td>σταφυλοφόρον, κίων</td>\n",
       "      <td>· ὃς ἐὰν</td>\n",
       "      <td>Εἴσω δ’ ἄλλο μόριον σταφυλοφόρον, κίων ...</td>\n",
       "      <td>NaN</td>\n",
       "    </tr>\n",
       "    <tr>\n",
       "      <th>8</th>\n",
       "      <td>κίων</td>\n",
       "      <td>μόριον σταφυλοφόρον,</td>\n",
       "      <td>ἐπίφλεβος· ὃς</td>\n",
       "      <td>Εἴσω δ’ ἄλλο μόριον σταφυλοφόρον, κίων ...</td>\n",
       "      <td>Adjectives/Qualities</td>\n",
       "      <td>κίων</td>\n",
       "      <td>Adjectives/Qualities</td>\n",
       "      <td>κίων</td>\n",
       "      <td>μόριον σταφυλοφόρον,</td>\n",
       "      <td>ἐπίφλεβος· ὃς</td>\n",
       "      <td>Εἴσω δ’ ἄλλο μόριον σταφυλοφόρον, κίων ...</td>\n",
       "      <td>NaN</td>\n",
       "    </tr>\n",
       "    <tr>\n",
       "      <th>9</th>\n",
       "      <td>μέρος</td>\n",
       "      <td>Ἔτι προσώπου</td>\n",
       "      <td>τὸ μὲν</td>\n",
       "      <td>Ἔτι προσώπου μέρος τὸ μὲν ὂν τῷ πνευ...</td>\n",
       "      <td>Adjectives/Qualities</td>\n",
       "      <td>μέρος</td>\n",
       "      <td>Adjectives/Qualities</td>\n",
       "      <td>μέρος</td>\n",
       "      <td>Ἔτι προσώπου</td>\n",
       "      <td>τὸ μὲν</td>\n",
       "      <td>Ἔτι προσώπου μέρος τὸ μὲν ὂν τῷ πνευ...</td>\n",
       "      <td>NaN</td>\n",
       "    </tr>\n",
       "  </tbody>\n",
       "</table>\n",
       "</div>"
      ],
      "text/plain": [
       "        Keyword             Word Before            Word After  \\\n",
       "0         οὖλον           δὲ πολυφυὲς        · σάρκινα δὲ   \n",
       "1    παρίσθμιον          τοῦ στόματος             , τὸ δὲ   \n",
       "2      πολυφυὲς                 τὸ δὲ     οὖλον· σάρκινα   \n",
       "3        μόριον               δ’ ἄλλο  σταφυλοφόρον, κίων   \n",
       "4       ὀδόντες              Ἐντὸς δ’    ὀστέινοι. Εἴσω   \n",
       "5      ὀστέινοι            δ’ ὀδόντες           . Εἴσω δ’   \n",
       "6  σταφυλοφόρον          ἄλλο μόριον  , κίων ἐπίφλεβος·   \n",
       "7     ἐπίφλεβος    σταφυλοφόρον, κίων          · ὃς ἐὰν   \n",
       "8          κίων  μόριον σταφυλοφόρον,     ἐπίφλεβος· ὃς   \n",
       "9         μέρος         Ἔτι προσώπου              τὸ μὲν   \n",
       "\n",
       "                                               Quote                 Label  \\\n",
       "0  Καὶ τὸ μὲν διφυὲς τοῦ στόματος παρίσθμι...             Body Part   \n",
       "1  Καὶ τὸ μὲν διφυὲς τοῦ στόματος παρίσθμι...             Body Part   \n",
       "2  Καὶ τὸ μὲν διφυὲς τοῦ στόματος παρίσθμι...  Adjectives/Qualities   \n",
       "3  Εἴσω δ’ ἄλλο μόριον σταφυλοφόρον , κίων...             Body Part   \n",
       "4                   Ἐντὸς δ’ ὀδόντες ὀστέινοι              Body Part   \n",
       "5                   Ἐντὸς δ’ ὀδόντες ὀστέινοι   Adjectives/Qualities   \n",
       "6  Εἴσω δ’ ἄλλο μόριον σταφυλοφόρον , κίων...  Adjectives/Qualities   \n",
       "7  Εἴσω δ’ ἄλλο μόριον σταφυλοφόρον, κίων ...  Adjectives/Qualities   \n",
       "8  Εἴσω δ’ ἄλλο μόριον σταφυλοφόρον, κίων ...  Adjectives/Qualities   \n",
       "9  Ἔτι προσώπου μέρος τὸ μὲν ὂν τῷ πνευ...  Adjectives/Qualities   \n",
       "\n",
       "           Lemma   Early Category Type    Early Word       Early Word Before  \\\n",
       "0          οὖλον             Body Part         οὖλον           δὲ πολυφυὲς   \n",
       "1     παρίσθμιον             Body Part    παρίσθμιον          τοῦ στόματος   \n",
       "2       πολυφυής  Adjectives/Qualities      πολυφυὲς                 τὸ δὲ   \n",
       "3         μόριον             Body Part        μόριον               δ’ ἄλλο   \n",
       "4          ὀδούς             Body Part       ὀδόντες              Ἐντὸς δ’   \n",
       "5       ὀστέινος  Adjectives/Qualities      ὀστέινοι            δ’ ὀδόντες   \n",
       "6  σταφυλοφόρος   Adjectives/Qualities  σταφυλοφόρον          ἄλλο μόριον   \n",
       "7      ἐπίφλεβος  Adjectives/Qualities     ἐπίφλεβος    σταφυλοφόρον, κίων   \n",
       "8           κίων  Adjectives/Qualities          κίων  μόριον σταφυλοφόρον,   \n",
       "9          μέρος  Adjectives/Qualities         μέρος         Ἔτι προσώπου   \n",
       "\n",
       "       Early Word After                                        Early Quote  \\\n",
       "0        · σάρκινα δὲ  Καὶ τὸ μὲν διφυὲς τοῦ στόματος παρίσθμι...   \n",
       "1             , τὸ δὲ  Καὶ τὸ μὲν διφυὲς τοῦ στόματος παρίσθμι...   \n",
       "2     οὖλον· σάρκινα  Καὶ τὸ μὲν διφυὲς τοῦ στόματος παρίσθμι...   \n",
       "3  σταφυλοφόρον, κίων  Εἴσω δ’ ἄλλο μόριον σταφυλοφόρον , κίων...   \n",
       "4    ὀστέινοι. Εἴσω                   Ἐντὸς δ’ ὀδόντες ὀστέινοι    \n",
       "5           . Εἴσω δ’                   Ἐντὸς δ’ ὀδόντες ὀστέινοι    \n",
       "6  , κίων ἐπίφλεβος·  Εἴσω δ’ ἄλλο μόριον σταφυλοφόρον , κίων...   \n",
       "7          · ὃς ἐὰν  Εἴσω δ’ ἄλλο μόριον σταφυλοφόρον, κίων ...   \n",
       "8     ἐπίφλεβος· ὃς  Εἴσω δ’ ἄλλο μόριον σταφυλοφόρον, κίων ...   \n",
       "9              τὸ μὲν  Ἔτι προσώπου μέρος τὸ μὲν ὂν τῷ πνευ...   \n",
       "\n",
       "   Lemma arabic  \n",
       "0           NaN  \n",
       "1           NaN  \n",
       "2           NaN  \n",
       "3           NaN  \n",
       "4           NaN  \n",
       "5           NaN  \n",
       "6           NaN  \n",
       "7           NaN  \n",
       "8           NaN  \n",
       "9           NaN  "
      ]
     },
     "execution_count": 4,
     "metadata": {},
     "output_type": "execute_result"
    }
   ],
   "source": [
    "df.head(10)"
   ]
  },
  {
   "cell_type": "code",
   "execution_count": 5,
   "metadata": {
    "ExecuteTime": {
     "end_time": "2023-05-23T09:51:52.528235600Z",
     "start_time": "2023-05-23T09:51:52.352719Z"
    },
    "collapsed": false
   },
   "outputs": [],
   "source": [
    "# if any of the fields \"KeyWord\", \"Quote\", \"Word Before\", \"Word After\" are \"0\", drop the row\n",
    "for w in ['Keyword', 'Quote', 'Word Before', 'Word After']:\n",
    "    df = df[df[w] != 0]\n"
   ]
  },
  {
   "cell_type": "code",
   "execution_count": 6,
   "metadata": {
    "ExecuteTime": {
     "end_time": "2023-05-23T17:53:08.637814100Z",
     "start_time": "2023-05-23T17:53:08.605567700Z"
    },
    "collapsed": false
   },
   "outputs": [],
   "source": [
    "# import requirements for converting the dataframe to Spacy Docs\n",
    "from collections import defaultdict\n",
    "from typing import List\n",
    "from spacy.language import Language\n",
    "from spacy.tokens import Doc, DocBin, Span\n",
    "from spacy.util import filter_spans\n",
    "from unicodedata import normalize\n",
    "import regex\n",
    "import random\n"
   ]
  },
  {
   "attachments": {},
   "cell_type": "markdown",
   "metadata": {
    "collapsed": false
   },
   "source": [
    "# Convert the dataframe to Spacy Docs"
   ]
  },
  {
   "cell_type": "code",
   "execution_count": 7,
   "metadata": {
    "ExecuteTime": {
     "end_time": "2023-05-24T08:42:51.686154300Z",
     "start_time": "2023-05-24T08:42:51.654152700Z"
    },
    "collapsed": false
   },
   "outputs": [],
   "source": [
    "d = {ord('\\N{COMBINING ACUTE ACCENT}'):None, ord('\\N{COMBINING COMMA ABOVE}'):None, ord('\\N{COMBINING REVERSED COMMA ABOVE}'):None}\n",
    "\n",
    "def find_word_index(sentence, word, word_before, word_after):\n",
    "    \"\"\"Find the index of a word in a sentence, it can appear multiple times but we return by word_before and word_after\"\"\"\n",
    "\n",
    "\n",
    "    # find the index of the word in the sentence (return index of beginning of word)\n",
    "    word_index = sentence.find(word)\n",
    "\n",
    "    # return all chars of word before: [),.,·] (meaning none of these chars will be included) so we get only data contained within the sentence\n",
    "    for char in [\")\", \".\", \"·\"]:\n",
    "        if word_before.find(char) != -1:\n",
    "            word_before = word_before[word_before_blank.find(char)+1:]\n",
    "        if word_after.find(char) != -1:\n",
    "            word_after = word_after[:word_after_blank.find(char)]\n",
    "\n",
    "\n",
    "    print (\"cut_word_before_blank:\", word_before_blank)\n",
    "    print (\"cut_word_after_blank:\", word_after_blank)\n",
    "    print (\"sentence_blank:\", sentence_blank)\n",
    "    print (\"word_blank:\", word_blank)\n",
    "\n",
    "\n",
    "    pattern = fr\"{re.escape(word_before)}({(word_blank)}){re.escape(word_after)}\"\n",
    "    # add fuzzy matching with up to 3 mistakes\n",
    "    pattern = fr\"(?:{pattern}){{e<=3}}\"\n",
    "\n",
    "\n",
    "    print (\"pattern:\", pattern)\n",
    "    print (\"sentence_blank:\", sentence_blank)\n",
    "\n",
    "    match = regex.search(pattern, sentence)\n",
    "    try:\n",
    "        print (\"match:\", match.span(1))\n",
    "        return match.span(1)\n",
    "    except:\n",
    "\n",
    "        return None\n",
    "\n"
   ]
  },
  {
   "cell_type": "code",
   "execution_count": 8,
   "metadata": {
    "ExecuteTime": {
     "end_time": "2023-05-24T08:42:52.507434Z",
     "start_time": "2023-05-24T08:42:52.507434Z"
    },
    "collapsed": false
   },
   "outputs": [],
   "source": [
    "# normalize table\n",
    "FORMAT = 'NFD'\n",
    "for col in ['Keyword', 'Quote', 'Word Before', 'Word After']:\n",
    "    df[col] = df[col].apply(lambda x: normalize(FORMAT, x))"
   ]
  },
  {
   "cell_type": "code",
   "execution_count": 9,
   "metadata": {
    "ExecuteTime": {
     "end_time": "2023-05-24T09:54:46.946652Z",
     "start_time": "2023-05-24T09:54:41.858360800Z"
    },
    "collapsed": false
   },
   "outputs": [
    {
     "ename": "NameError",
     "evalue": "name 'word_after_blank' is not defined",
     "output_type": "error",
     "traceback": [
      "\u001b[1;31m---------------------------------------------------------------------------\u001b[0m",
      "\u001b[1;31mNameError\u001b[0m                                 Traceback (most recent call last)",
      "Cell \u001b[1;32mIn[9], line 8\u001b[0m\n\u001b[0;32m      5\u001b[0m train_data_df \u001b[39m=\u001b[39m pd\u001b[39m.\u001b[39mDataFrame(columns\u001b[39m=\u001b[39m[\u001b[39m'\u001b[39m\u001b[39mtext\u001b[39m\u001b[39m'\u001b[39m, \u001b[39m'\u001b[39m\u001b[39mkeyword\u001b[39m\u001b[39m'\u001b[39m, \u001b[39m'\u001b[39m\u001b[39mindex\u001b[39m\u001b[39m'\u001b[39m, \u001b[39m'\u001b[39m\u001b[39mlabel\u001b[39m\u001b[39m'\u001b[39m, \u001b[39m'\u001b[39m\u001b[39mlemma\u001b[39m\u001b[39m'\u001b[39m])\n\u001b[0;32m      6\u001b[0m \u001b[39mfor\u001b[39;00m index, row \u001b[39min\u001b[39;00m df\u001b[39m.\u001b[39miterrows():\n\u001b[1;32m----> 8\u001b[0m     train_data_df \u001b[39m=\u001b[39m train_data_df\u001b[39m.\u001b[39mappend({\u001b[39m'\u001b[39m\u001b[39mtext\u001b[39m\u001b[39m'\u001b[39m: row[\u001b[39m'\u001b[39m\u001b[39mQuote\u001b[39m\u001b[39m'\u001b[39m], \u001b[39m'\u001b[39m\u001b[39mkeyword\u001b[39m\u001b[39m'\u001b[39m: row[\u001b[39m'\u001b[39m\u001b[39mKeyword\u001b[39m\u001b[39m'\u001b[39m], \u001b[39m'\u001b[39m\u001b[39mindex\u001b[39m\u001b[39m'\u001b[39m: find_word_index(row[\u001b[39m'\u001b[39;49m\u001b[39mQuote\u001b[39;49m\u001b[39m'\u001b[39;49m], row[\u001b[39m'\u001b[39;49m\u001b[39mKeyword\u001b[39;49m\u001b[39m'\u001b[39;49m], row[\u001b[39m'\u001b[39;49m\u001b[39mWord Before\u001b[39;49m\u001b[39m'\u001b[39;49m], row[\u001b[39m'\u001b[39;49m\u001b[39mWord After\u001b[39;49m\u001b[39m'\u001b[39;49m]), \u001b[39m'\u001b[39m\u001b[39mlabel\u001b[39m\u001b[39m'\u001b[39m: row[\u001b[39m'\u001b[39m\u001b[39mLabel\u001b[39m\u001b[39m'\u001b[39m], \u001b[39m'\u001b[39m\u001b[39mlemma\u001b[39m\u001b[39m'\u001b[39m : row[\u001b[39m'\u001b[39m\u001b[39mLemma\u001b[39m\u001b[39m'\u001b[39m]}, ignore_index\u001b[39m=\u001b[39m\u001b[39mTrue\u001b[39;00m)\n\u001b[0;32m      9\u001b[0m     \u001b[39mprint\u001b[39m (\u001b[39m\"\u001b[39m\u001b[39m******\u001b[39m\u001b[39m\"\u001b[39m)\n",
      "Cell \u001b[1;32mIn[7], line 15\u001b[0m, in \u001b[0;36mfind_word_index\u001b[1;34m(sentence, word, word_before, word_after)\u001b[0m\n\u001b[0;32m     13\u001b[0m         word_before \u001b[39m=\u001b[39m word_before[word_before_blank\u001b[39m.\u001b[39mfind(char)\u001b[39m+\u001b[39m\u001b[39m1\u001b[39m:]\n\u001b[0;32m     14\u001b[0m     \u001b[39mif\u001b[39;00m word_after\u001b[39m.\u001b[39mfind(char) \u001b[39m!=\u001b[39m \u001b[39m-\u001b[39m\u001b[39m1\u001b[39m:\n\u001b[1;32m---> 15\u001b[0m         word_after \u001b[39m=\u001b[39m word_after[:word_after_blank\u001b[39m.\u001b[39mfind(char)]\n\u001b[0;32m     18\u001b[0m \u001b[39mprint\u001b[39m (\u001b[39m\"\u001b[39m\u001b[39mcut_word_before_blank:\u001b[39m\u001b[39m\"\u001b[39m, word_before_blank)\n\u001b[0;32m     19\u001b[0m \u001b[39mprint\u001b[39m (\u001b[39m\"\u001b[39m\u001b[39mcut_word_after_blank:\u001b[39m\u001b[39m\"\u001b[39m, word_after_blank)\n",
      "\u001b[1;31mNameError\u001b[0m: name 'word_after_blank' is not defined"
     ]
    }
   ],
   "source": [
    "# using word before and word after, we want to bring our data into the following format:\n",
    "# TRAIN_DATA = [ (TEXT AS A STRING, {“entities”: [(START, END, LABEL)]}) ]\n",
    "\n",
    "TRAIN_DATA = []\n",
    "train_data_df = pd.DataFrame(columns=['text', 'keyword', 'index', 'label', 'lemma'])\n",
    "for index, row in df.iterrows():\n",
    "\n",
    "    train_data_df = train_data_df.append({'text': row['Quote'], 'keyword': row['Keyword'], 'index': find_word_index(row['Quote'], row['Keyword'], row['Word Before'], row['Word After']), 'label': row['Label'], 'lemma' : row['Lemma']}, ignore_index=True)\n",
    "    print (\"******\")"
   ]
  },
  {
   "cell_type": "code",
   "execution_count": 261,
   "metadata": {
    "ExecuteTime": {
     "end_time": "2023-05-24T09:54:48.591528400Z",
     "start_time": "2023-05-24T09:54:46.962649Z"
    },
    "collapsed": false
   },
   "outputs": [],
   "source": [
    "# compare text[index] with keyword\n",
    "test_data_df = pd.DataFrame(columns=['text', 'real_keyword', 'function_found'])\n",
    "# count nulls in train_data_df\n",
    "nulls = train_data_df.isnull().sum()\n",
    "# drop nulls in train_data_df\n",
    "train_data_df = train_data_df.dropna()\n",
    "# iterate over all rows in train_data_df\n",
    "for index, row in train_data_df.iterrows():\n",
    "    test_data_df = test_data_df.append({'text': row['text'], 'real_keyword': row['keyword'], 'function_found': row['text'][row['index'][0]:row['index'][1]]}, ignore_index=True)\n"
   ]
  },
  {
   "cell_type": "code",
   "execution_count": 262,
   "metadata": {
    "ExecuteTime": {
     "end_time": "2023-05-24T09:54:48.649849700Z",
     "start_time": "2023-05-24T09:54:48.601538Z"
    },
    "collapsed": false
   },
   "outputs": [
    {
     "name": "stdout",
     "output_type": "stream",
     "text": [
      "Nulls text        0\n",
      "keyword     0\n",
      "index      64\n",
      "label       2\n",
      "lemma       5\n",
      "dtype: int64\n",
      "\n",
      "Shape (1469, 5)\n"
     ]
    }
   ],
   "source": [
    "# print nulls in train_data_df\n",
    "print (\"Nulls\", nulls)\n",
    "# print shape of train_data_df\n",
    "print (\"\\nShape\", train_data_df.shape)\n"
   ]
  },
  {
   "cell_type": "code",
   "execution_count": 263,
   "metadata": {
    "ExecuteTime": {
     "end_time": "2023-05-24T09:54:48.665895900Z",
     "start_time": "2023-05-24T09:54:48.634107300Z"
    },
    "collapsed": false
   },
   "outputs": [
    {
     "data": {
      "text/html": [
       "<div>\n",
       "<style scoped>\n",
       "    .dataframe tbody tr th:only-of-type {\n",
       "        vertical-align: middle;\n",
       "    }\n",
       "\n",
       "    .dataframe tbody tr th {\n",
       "        vertical-align: top;\n",
       "    }\n",
       "\n",
       "    .dataframe thead th {\n",
       "        text-align: right;\n",
       "    }\n",
       "</style>\n",
       "<table border=\"1\" class=\"dataframe\">\n",
       "  <thead>\n",
       "    <tr style=\"text-align: right;\">\n",
       "      <th></th>\n",
       "      <th>text</th>\n",
       "      <th>real_keyword</th>\n",
       "      <th>function_found</th>\n",
       "    </tr>\n",
       "  </thead>\n",
       "  <tbody>\n",
       "    <tr>\n",
       "      <th>1189</th>\n",
       "      <td>Τούτου δ' αἴτιον ὅτι ἐν μὲν τοῖς ἐξ α...</td>\n",
       "      <td>πάμμικρον</td>\n",
       "      <td>πάμμικρον</td>\n",
       "    </tr>\n",
       "    <tr>\n",
       "      <th>701</th>\n",
       "      <td>Αἱ μὲν γὰρ φέρουσιν εἰς τὰ πλάγια καὶ ...</td>\n",
       "      <td>εἰς</td>\n",
       "      <td>εἰς</td>\n",
       "    </tr>\n",
       "    <tr>\n",
       "      <th>1233</th>\n",
       "      <td>Πᾶσι δὲ τοῖς μὴ εὐθυεντέροις προϊοῦσιν...</td>\n",
       "      <td>ἐκ</td>\n",
       "      <td>ἐκ</td>\n",
       "    </tr>\n",
       "    <tr>\n",
       "      <th>1225</th>\n",
       "      <td>ἐνίοις μὲν γὰρ εὐρύτερον τὸ πρὸς τῇ ...</td>\n",
       "      <td>εὐρύτερον</td>\n",
       "      <td>εὐρύτερον</td>\n",
       "    </tr>\n",
       "    <tr>\n",
       "      <th>173</th>\n",
       "      <td>Ἔστι δ’ ἡ μὲν ἀρτηρία χονδρώδης τὴν φυ...</td>\n",
       "      <td>κατὰ</td>\n",
       "      <td>κατὰ</td>\n",
       "    </tr>\n",
       "    <tr>\n",
       "      <th>1424</th>\n",
       "      <td>αἵ τε γὰρ φλέβες εἰσὶ κοῖλαι καὶ αἵμ...</td>\n",
       "      <td>φλέβες</td>\n",
       "      <td>φλέβες</td>\n",
       "    </tr>\n",
       "    <tr>\n",
       "      <th>788</th>\n",
       "      <td>πλὴν ἐλάττους οἱ πόροι καὶ τὰ φλέβια π...</td>\n",
       "      <td>πόροι</td>\n",
       "      <td>πόροι</td>\n",
       "    </tr>\n",
       "    <tr>\n",
       "      <th>712</th>\n",
       "      <td>Πάλιν δ’ ἐντεῦθεν εἰς τέτταρας σχίζονται...</td>\n",
       "      <td>ἐπανακάμψασα</td>\n",
       "      <td>ἐπανακάμψασα</td>\n",
       "    </tr>\n",
       "    <tr>\n",
       "      <th>1310</th>\n",
       "      <td>Ὑπὸ δὲ τὸ ὑπόζωμα κεῖται ἡ κοιλία τοι...</td>\n",
       "      <td>εὐθὺς</td>\n",
       "      <td>εὐθὺς</td>\n",
       "    </tr>\n",
       "    <tr>\n",
       "      <th>502</th>\n",
       "      <td>ἐν ἑκάστῃ γὰρ ἔχει αἷμα τῶν κοιλιῶν...</td>\n",
       "      <td>ἐν</td>\n",
       "      <td>ἐν</td>\n",
       "    </tr>\n",
       "  </tbody>\n",
       "</table>\n",
       "</div>"
      ],
      "text/plain": [
       "                                                   text    real_keyword  \\\n",
       "1189  Τούτου δ' αἴτιον ὅτι ἐν μὲν τοῖς ἐξ α...      πάμμικρον   \n",
       "701   Αἱ μὲν γὰρ φέρουσιν εἰς τὰ πλάγια καὶ ...            εἰς   \n",
       "1233  Πᾶσι δὲ τοῖς μὴ εὐθυεντέροις προϊοῦσιν...             ἐκ   \n",
       "1225  ἐνίοις μὲν γὰρ εὐρύτερον τὸ πρὸς τῇ ...     εὐρύτερον   \n",
       "173   Ἔστι δ’ ἡ μὲν ἀρτηρία χονδρώδης τὴν φυ...           κατὰ   \n",
       "1424  αἵ τε γὰρ φλέβες εἰσὶ κοῖλαι καὶ αἵμ...         φλέβες   \n",
       "788   πλὴν ἐλάττους οἱ πόροι καὶ τὰ φλέβια π...          πόροι   \n",
       "712   Πάλιν δ’ ἐντεῦθεν εἰς τέτταρας σχίζονται...  ἐπανακάμψασα   \n",
       "1310  Ὑπὸ δὲ τὸ ὑπόζωμα κεῖται ἡ κοιλία τοι...         εὐθὺς   \n",
       "502   ἐν ἑκάστῃ γὰρ ἔχει αἷμα τῶν κοιλιῶν...             ἐν   \n",
       "\n",
       "       function_found  \n",
       "1189       πάμμικρον  \n",
       "701              εἰς  \n",
       "1233              ἐκ  \n",
       "1225      εὐρύτερον  \n",
       "173             κατὰ  \n",
       "1424          φλέβες  \n",
       "788            πόροι  \n",
       "712    ἐπανακάμψασα  \n",
       "1310          εὐθὺς  \n",
       "502               ἐν  "
      ]
     },
     "execution_count": 263,
     "metadata": {},
     "output_type": "execute_result"
    }
   ],
   "source": [
    "# sample test_data_df where real_keyword != function_found\n",
    "test_data_df[test_data_df['real_keyword'] != test_data_df['function_found']].sample(10)"
   ]
  },
  {
   "attachments": {},
   "cell_type": "markdown",
   "metadata": {
    "collapsed": false
   },
   "source": [
    "# Create dictionaries from dendrosearch and conllu files (supplied by Jackobo)"
   ]
  },
  {
   "cell_type": "code",
   "execution_count": 167,
   "metadata": {
    "ExecuteTime": {
     "end_time": "2023-05-23T17:53:28.269912800Z",
     "start_time": "2023-05-23T17:53:27.067075Z"
    },
    "collapsed": false
   },
   "outputs": [
    {
     "data": {
      "text/plain": [
       "[('ἦρξε', 'ἄρχω'),\n",
       " ('Πλειστόλας', 'Πλειστόλας'),\n",
       " ('πλίνθοις', 'πλίνθος'),\n",
       " ('ἀποβάλοιμι', 'ἀποβάλλω'),\n",
       " ('ἐνεδύετο', 'ἐνδύω'),\n",
       " ('εὐτυχέως', 'εὐτυχής'),\n",
       " ('Τέμπεα', 'Τέμπη'),\n",
       " ('ἠρώτα', 'ἐρωτάω'),\n",
       " ('στεινῷ', 'στενός'),\n",
       " ('φανοτάτου', 'φανός')]"
      ]
     },
     "execution_count": 167,
     "metadata": {},
     "output_type": "execute_result"
    }
   ],
   "source": [
    "PUNCTUATION = ['.', \")\", \".\", \"·\", \"(\", \"[\", \"]\", \":\", \";\", \",\", \"?\", \"!\", \"،\", \"_\"]\n",
    "# extract from df a dictionary {word: lemma}\n",
    "lemma_dict = {}\n",
    "for index, row in df.iterrows():\n",
    "    lemma_dict[row['Keyword']] = row['Lemma']\n",
    "\n",
    "# load dendrosearch lemma dictionary\n",
    "dendrosearch_lemma_dict = {}\n",
    "with open('../assets/dendrosearch_lemma_dict.txt', 'r', encoding='utf-8') as f:\n",
    "    for line in f:\n",
    "        line = line.split()\n",
    "        # check if not punctuation\n",
    "        if len(line) > 1 and line[0] not in PUNCTUATION:\n",
    "            dendrosearch_lemma_dict[line[0]] = line[1]\n",
    "\n",
    "# create dictionary from all conllu files\n",
    "PATH = \"../assets/Lemmatization_training_files/\"\n",
    "conllu_lemma_dict = {}\n",
    "\n",
    "# iterate over all files in directory\n",
    "for f in os.listdir(PATH):\n",
    "    # if file is a conllu file\n",
    "    with open(os.path.join(PATH, f), 'r', encoding='utf-8') as f:\n",
    "        for line in f:\n",
    "            # conll line is: id | keyword | lemma | pos | _\n",
    "            # we want only keyword and lemma\n",
    "            line = line.split()\n",
    "            if len(line) > 2 and line[1] not in PUNCTUATION:\n",
    "                conllu_lemma_dict[line[1]] = line[2]\n",
    "\n"
   ]
  },
  {
   "attachments": {},
   "cell_type": "markdown",
   "metadata": {
    "collapsed": false
   },
   "source": [
    "## Create dictionary from INCEpTION files"
   ]
  },
  {
   "attachments": {},
   "cell_type": "markdown",
   "metadata": {
    "collapsed": false
   },
   "source": []
  },
  {
   "cell_type": "code",
   "execution_count": 266,
   "metadata": {
    "ExecuteTime": {
     "end_time": "2023-05-24T10:20:07.384506500Z",
     "start_time": "2023-05-24T10:20:07.338647300Z"
    },
    "collapsed": false
   },
   "outputs": [],
   "source": [
    "from cassis import *\n",
    "import zipfile\n",
    "import tempfile\n",
    "\n",
    "inception_dict = {}\n",
    "inception_sentences = []"
   ]
  },
  {
   "cell_type": "code",
   "execution_count": 267,
   "metadata": {
    "ExecuteTime": {
     "end_time": "2023-05-24T10:20:08.533882100Z",
     "start_time": "2023-05-24T10:20:07.994015600Z"
    },
    "collapsed": false
   },
   "outputs": [
    {
     "name": "stdout",
     "output_type": "stream",
     "text": [
      "C:\\Users\\roeyz\\AppData\\Local\\Temp\\tmpsiazm_an\n",
      "<cassis.typesystem.TypeSystem object at 0x000001E4EF759360>\n",
      "<cassis.typesystem.TypeSystem object at 0x000001E4EF759360>\n",
      "<cassis.typesystem.TypeSystem object at 0x000001E4EF759360>\n",
      "<cassis.typesystem.TypeSystem object at 0x000001E4EF759360>\n",
      "<cassis.typesystem.TypeSystem object at 0x000001E4EF759360>\n",
      "<cassis.typesystem.TypeSystem object at 0x000001E4EF759360>\n",
      "<cassis.typesystem.TypeSystem object at 0x000001E4EF759360>\n",
      "<cassis.typesystem.TypeSystem object at 0x000001E4EF759360>\n",
      "<cassis.typesystem.TypeSystem object at 0x000001E4EF759360>\n",
      "<cassis.typesystem.TypeSystem object at 0x000001E4EF759360>\n",
      "<cassis.typesystem.TypeSystem object at 0x000001E4EF759360>\n",
      "<cassis.typesystem.TypeSystem object at 0x000001E4EF759360>\n",
      "<cassis.typesystem.TypeSystem object at 0x000001E4EF759360>\n",
      "<cassis.typesystem.TypeSystem object at 0x000001E4EF759360>\n",
      "<cassis.typesystem.TypeSystem object at 0x000001E4EF759360>\n",
      "<cassis.typesystem.TypeSystem object at 0x000001E4EF759360>\n",
      "<cassis.typesystem.TypeSystem object at 0x000001E4EF759360>\n",
      "<cassis.typesystem.TypeSystem object at 0x000001E4EF759360>\n",
      "<cassis.typesystem.TypeSystem object at 0x000001E4EF759360>\n",
      "<cassis.typesystem.TypeSystem object at 0x000001E4EF759360>\n"
     ]
    }
   ],
   "source": [
    "# extract all files in inception folder to temp folder\n",
    "with tempfile.TemporaryDirectory() as tempdir:\n",
    "    for f in os.listdir(\"../assets/NER_assets/INCEpTION_files/\"):\n",
    "        if f.endswith(\".zip\"):\n",
    "            with zipfile.ZipFile(os.path.join(\"../assets/NER_assets/INCEpTION_files/\", f), 'r') as zip_ref:\n",
    "                zip_ref.extractall(tempdir)\n",
    "    print (tempdir)\n",
    "    # open typesystem and print content\n",
    "    with open('{0}/{1}'.format(tempdir, \"TypeSystem.xml\"), 'rb') as f:\n",
    "        typesystem = load_typesystem(f)\n",
    "\n",
    "    # iterate over all files in temp folder\n",
    "    for f in os.listdir(tempdir):\n",
    "        # if file is a xmi file\n",
    "        print (typesystem)\n",
    "        if f.endswith(\".xmi\"):\n",
    "            # load xmi file\n",
    "            with open(os.path.join(tempdir, f), 'rb') as f:\n",
    "                # load typesystem from temp folder\n",
    "                cas = load_cas_from_xmi(f, typesystem=typesystem)\n",
    "                for token in cas.select('de.tudarmstadt.ukp.dkpro.core.api.segmentation.type.Lemma'):\n",
    "                    inception_dict[token.get_covered_text()] = token.value\n",
    "                for sentence in cas.select(\"de.tudarmstadt.ukp.dkpro.core.api.segmentation.type.Sentence\"):\n",
    "                    inception_sentences.append(sentence.get_covered_text())\n"
   ]
  },
  {
   "cell_type": "code",
   "execution_count": 200,
   "metadata": {
    "ExecuteTime": {
     "end_time": "2023-05-24T08:14:50.765656500Z",
     "start_time": "2023-05-24T08:14:50.734379200Z"
    },
    "collapsed": false
   },
   "outputs": [
    {
     "data": {
      "text/plain": [
       "[('ὁρμᾶτ’', 'ὁρμάω'),\n",
       " ('ὅλος', 'ὅλος'),\n",
       " ('Πύθιον', 'Πύθιος'),\n",
       " ('ἱδρώοντα', 'ἱδρόω'),\n",
       " ('συνεῖναί', 'σύνειμι'),\n",
       " ('σκληρύνητε', 'σκληρύνω'),\n",
       " ('καταλαμβανόμενον', 'καταλαμβάνω'),\n",
       " ('ἐκπεφευγέναι', 'ἐκφεύγω'),\n",
       " ('γινώσκομεν', 'γιγνώσκω'),\n",
       " ('κνώσσουσ’', 'κνώσσω')]"
      ]
     },
     "execution_count": 200,
     "metadata": {},
     "output_type": "execute_result"
    }
   ],
   "source": [
    "# add to big dictionary and sample\n",
    "big_dict = {**lemma_dict, **dendrosearch_lemma_dict, **conllu_lemma_dict, **inception_dict}\n",
    "\n",
    "random.sample(list(big_dict.items()), 10)"
   ]
  },
  {
   "cell_type": "code",
   "execution_count": 201,
   "metadata": {
    "ExecuteTime": {
     "end_time": "2023-05-24T08:14:54.540552Z",
     "start_time": "2023-05-24T08:14:54.256175700Z"
    },
    "collapsed": false
   },
   "outputs": [],
   "source": [
    "# create two copies of dictionary, one in NFD, other in NFKC\n",
    "FIRST_FORMAT = 'NFD'\n",
    "SECOND_FORMAT = 'NFKC'\n",
    "\n",
    "big_dict_nfd = {}\n",
    "big_dict_nfkc = {}\n",
    "\n",
    "for key, value in big_dict.items():\n",
    "    big_dict_nfd[normalize(FIRST_FORMAT, key)] = normalize(FIRST_FORMAT, value)\n",
    "    big_dict_nfkc[normalize(SECOND_FORMAT, key)] = normalize(SECOND_FORMAT, value)"
   ]
  },
  {
   "cell_type": "code",
   "execution_count": 204,
   "metadata": {
    "ExecuteTime": {
     "end_time": "2023-05-24T08:15:50.985497600Z",
     "start_time": "2023-05-24T08:15:50.905927700Z"
    },
    "collapsed": false
   },
   "outputs": [
    {
     "name": "stdout",
     "output_type": "stream",
     "text": [
      "delta size: 168984\n"
     ]
    }
   ],
   "source": [
    "# check delta between two dictionaries\n",
    "delta = {k: big_dict_nfd[k] for k in set(big_dict_nfd) - set(big_dict_nfkc)}\n",
    "# delta size estimation\n",
    "print (\"delta size:\", len(delta))"
   ]
  },
  {
   "cell_type": "code",
   "execution_count": null,
   "metadata": {
    "collapsed": false
   },
   "outputs": [],
   "source": []
  },
  {
   "attachments": {},
   "cell_type": "markdown",
   "metadata": {
    "collapsed": false
   },
   "source": [
    "# Run NLP pipeline on INCEpTION and Coda files"
   ]
  },
  {
   "cell_type": "code",
   "execution_count": 269,
   "metadata": {
    "ExecuteTime": {
     "end_time": "2023-05-24T10:21:28.534730300Z",
     "start_time": "2023-05-24T10:21:28.502030100Z"
    },
    "collapsed": false
   },
   "outputs": [
    {
     "data": {
      "text/plain": [
       "['Ὀστέα χειρὸς εἰκοσιεπτὰ καὶ ποδὸς εἰκοσιτέσσαρα·',\n",
       " 'κάτω δὲ πρὸς τὴν χεῖρα τὸ ὀστέον ἄρθρον ἔχει·',\n",
       " 'Ταῦτα δὲ διαφύσεις ἔχει χονδρώδεις εἰς ὀξὺ συνηκούσας',\n",
       " 'ὸ δὲ τὸ ὑπόζωμα κεῖται ἡ κοιλία τοῖς ζῴοις, τοῖς μὲν ἔχουσιν οἰσοφάγον ᾗ τελευτᾷ τοῦτο τὸ μόριον, τοῖς δὲ μὴ ἔχουσιν εὐθὺς πρὸς τῷ στόματι',\n",
       " \"Ἀρτηρίη ἐξ ἑκατέρου φαρυγγέθρου τὴν ἔκφυσιν ποιευμένη ἐς \\nἄκρον πνεύμονος τελευτᾷ, κρίκοις ξυγκειμένη ὁμορυσμοῖς, τῶν περιηγέων ἁπτομένη κατ' ἐπίπεδον ἀλλήλων.\",\n",
       " 'ὃς ἐὰν ἐξυγρανθεὶς φλεγμήνῃ, σταφυλὴ καλεῖται καὶ πνίγει',\n",
       " 'Φυσωμένης δὲ τῆς ἀρτηρίας ἐν ἐνίοις μὲν οὐ κατάδηλον ποιεῖ, ἐν δὲ τοῖς μείζοσι τῶν ζῴων δῆλον ὅτι εἰσέρχεται τὸ πνεῦμα εἰς αὐτήν ',\n",
       " 'εἶτα εἰς ἑκάτερον τὸ ἰσχίον ἀφανίζεται ἑκατέρα πρῶτον, ἔπειτα δῆλαι γίγνονται πάλιν διατεταμέναι πρὸς τὸ ἰσχίον',\n",
       " 'Πρότερον δὲ τῇ θέσει ἡ ἀρτηρία κεῖται τοῦ οἰσοφάγου ἐν πᾶσι τοῖς ἔχουσιν αὐτήν·',\n",
       " 'καὶ ἀπὸ μιᾶς δύο ἐστὶ μόρια τῆς ἀρτηρίας, εἰς ἑκάτερον τὸ μέρος τείνοντα τοῦ πλεύμονος']"
      ]
     },
     "execution_count": 269,
     "metadata": {},
     "output_type": "execute_result"
    }
   ],
   "source": [
    "# merge sentences from inception and coda\n",
    "\n",
    "sentences = df['Quote'].tolist() + inception_sentences\n",
    "sentences = list(set(sentences))\n",
    "random.sample(sentences, 10)"
   ]
  },
  {
   "cell_type": "code",
   "execution_count": 283,
   "metadata": {
    "ExecuteTime": {
     "end_time": "2023-05-24T10:36:55.887458300Z",
     "start_time": "2023-05-24T10:36:36.338380400Z"
    },
    "collapsed": false
   },
   "outputs": [],
   "source": [
    "# run nlp pipeline on sentences\n",
    "# install spacy grc model if not already installed\n",
    "nlp = spacy.load(\"grc_proiel_sm\") # I use small model for speed but you should use trf (transformer) model for better accuracy\n",
    "\n",
    "# create DocBin object to store docs\n",
    "db = DocBin()\n",
    "# create df to record corrections\n",
    "corrections_df = pd.DataFrame(columns=['sentence', 'token', 'lemma', 'lemma_corrected', 'dictionary'])\n",
    "corrected_sentences = 0\n",
    "for sentence in sentences:\n",
    "    doc = nlp(sentence)\n",
    "    # we use our dictionary to replace lemmas which the model didn't recognize correctly\n",
    "    for token in doc:\n",
    "        # if token text is a lexical value in our dictionary\n",
    "        if token.text in big_dict_nfd:\n",
    "            if token.lemma_ != big_dict_nfd[token.text]:\n",
    "                corrections_df = corrections_df.append({'sentence': sentence,  'token': token.text, 'lemma': token.lemma_, 'lemma_corrected': big_dict_nfd[token.text], 'dictionary': 'big_dict_nfd'}, ignore_index=True)\n",
    "                token.lemma_ = big_dict_nfd[token.text]\n",
    "\n",
    "        elif token.text in big_dict_nfkc:\n",
    "            if token.lemma_ != big_dict_nfkc[token.text]:\n",
    "                corrections_df = corrections_df.append({'sentence': sentence,  'token': token.text, 'lemma': token.lemma_, 'lemma_corrected': big_dict_nfkc[token.text], 'dictionary': 'big_dict_nfkc'}, ignore_index=True)\n",
    "                token.lemma_ = big_dict_nfkc[token.text]\n",
    "    db.add(doc)\n"
   ]
  },
  {
   "cell_type": "code",
   "execution_count": 284,
   "metadata": {
    "ExecuteTime": {
     "end_time": "2023-05-24T10:36:55.908301200Z",
     "start_time": "2023-05-24T10:36:55.889513300Z"
    },
    "collapsed": false
   },
   "outputs": [
    {
     "name": "stdout",
     "output_type": "stream",
     "text": [
      "corrections_df size: (4495, 5)\n"
     ]
    }
   ],
   "source": [
    "print (\"corrections_df size:\", corrections_df.shape)"
   ]
  },
  {
   "cell_type": "code",
   "execution_count": 285,
   "metadata": {
    "ExecuteTime": {
     "end_time": "2023-05-24T10:37:02.102316900Z",
     "start_time": "2023-05-24T10:37:02.070420700Z"
    },
    "collapsed": false
   },
   "outputs": [
    {
     "data": {
      "text/html": [
       "<div>\n",
       "<style scoped>\n",
       "    .dataframe tbody tr th:only-of-type {\n",
       "        vertical-align: middle;\n",
       "    }\n",
       "\n",
       "    .dataframe tbody tr th {\n",
       "        vertical-align: top;\n",
       "    }\n",
       "\n",
       "    .dataframe thead th {\n",
       "        text-align: right;\n",
       "    }\n",
       "</style>\n",
       "<table border=\"1\" class=\"dataframe\">\n",
       "  <thead>\n",
       "    <tr style=\"text-align: right;\">\n",
       "      <th></th>\n",
       "      <th>sentence</th>\n",
       "      <th>token</th>\n",
       "      <th>lemma</th>\n",
       "      <th>lemma_corrected</th>\n",
       "      <th>dictionary</th>\n",
       "    </tr>\n",
       "  </thead>\n",
       "  <tbody>\n",
       "    <tr>\n",
       "      <th>916</th>\n",
       "      <td>Πάλιν δ’ ἐντεῦθεν εἰς τέτταρας σχίζονται...</td>\n",
       "      <td>τοῦ</td>\n",
       "      <td>τοῦ</td>\n",
       "      <td>ὁ</td>\n",
       "      <td>big_dict_nfd</td>\n",
       "    </tr>\n",
       "    <tr>\n",
       "      <th>2985</th>\n",
       "      <td>Ἐξήρτηται δ' ἐκ τῆς μεγάλης φλεβὸςκαὶ ...</td>\n",
       "      <td>φλέβες</td>\n",
       "      <td>φλέβες</td>\n",
       "      <td>φλέψ</td>\n",
       "      <td>big_dict_nfd</td>\n",
       "    </tr>\n",
       "    <tr>\n",
       "      <th>1435</th>\n",
       "      <td>Νεφροὶ δὲ ὁμοιορυσμοὶ, \\nτὴν χροιὴν δὲ ἐναλίγκ...</td>\n",
       "      <td>δὲ</td>\n",
       "      <td>δέ</td>\n",
       "      <td>δὲ</td>\n",
       "      <td>big_dict_nfkc</td>\n",
       "    </tr>\n",
       "    <tr>\n",
       "      <th>1789</th>\n",
       "      <td>καὶ πάλιν ἕτε ραι διὰ τῶν βουβώνων καὶ...</td>\n",
       "      <td>ἡ</td>\n",
       "      <td>ἡ</td>\n",
       "      <td>ὁ</td>\n",
       "      <td>big_dict_nfd</td>\n",
       "    </tr>\n",
       "    <tr>\n",
       "      <th>1013</th>\n",
       "      <td>Ἡ μὲν οὖν ἀρτηρία τοῦτον ἔχει τὸν τρ...</td>\n",
       "      <td>ἐκβήξῃ</td>\n",
       "      <td>ἐκβήξῃ</td>\n",
       "      <td>ἐκβήσσω</td>\n",
       "      <td>big_dict_nfd</td>\n",
       "    </tr>\n",
       "    <tr>\n",
       "      <th>1653</th>\n",
       "      <td>Τὸ δ' ἐπίπλοον ἀπὸ μέσης τῆς κοιλίας ...</td>\n",
       "      <td>ἄλλοις</td>\n",
       "      <td>ἄλλοις</td>\n",
       "      <td>ἄλλος</td>\n",
       "      <td>big_dict_nfd</td>\n",
       "    </tr>\n",
       "    <tr>\n",
       "      <th>3448</th>\n",
       "      <td>προσάγεταί τε γὰρ καὶ λαμβάνει τούτῳ κα...</td>\n",
       "      <td>καὶ</td>\n",
       "      <td>καὶ</td>\n",
       "      <td>καί</td>\n",
       "      <td>big_dict_nfd</td>\n",
       "    </tr>\n",
       "    <tr>\n",
       "      <th>4187</th>\n",
       "      <td>πλὴν ἐλάττους οἱ πόροι καὶ τὰ φλέβια π...</td>\n",
       "      <td>ταύτης</td>\n",
       "      <td>ταύτης</td>\n",
       "      <td>οὗτος</td>\n",
       "      <td>big_dict_nfd</td>\n",
       "    </tr>\n",
       "    <tr>\n",
       "      <th>2546</th>\n",
       "      <td>διότι ἡ καρδίη αἰσθάνεταί τε μάλιστα κα...</td>\n",
       "      <td>αἱ</td>\n",
       "      <td>αἱ</td>\n",
       "      <td>ὁ</td>\n",
       "      <td>big_dict_nfd</td>\n",
       "    </tr>\n",
       "    <tr>\n",
       "      <th>1052</th>\n",
       "      <td>Πρότερον δὲ τῇ θέσει ἡ ἀρτηρία κεῖται...</td>\n",
       "      <td>Πρότερον</td>\n",
       "      <td>Πρότερος</td>\n",
       "      <td>πρότερος</td>\n",
       "      <td>big_dict_nfd</td>\n",
       "    </tr>\n",
       "  </tbody>\n",
       "</table>\n",
       "</div>"
      ],
      "text/plain": [
       "                                               sentence      token      lemma  \\\n",
       "916   Πάλιν δ’ ἐντεῦθεν εἰς τέτταρας σχίζονται...       τοῦ       τοῦ   \n",
       "2985   Ἐξήρτηται δ' ἐκ τῆς μεγάλης φλεβὸςκαὶ ...    φλέβες    φλέβες   \n",
       "1435  Νεφροὶ δὲ ὁμοιορυσμοὶ, \\nτὴν χροιὴν δὲ ἐναλίγκ...         δὲ         δέ   \n",
       "1789  καὶ πάλιν ἕτε ραι διὰ τῶν βουβώνων καὶ...         ἡ         ἡ   \n",
       "1013  Ἡ μὲν οὖν ἀρτηρία τοῦτον ἔχει τὸν τρ...  ἐκβήξῃ  ἐκβήξῃ   \n",
       "1653   Τὸ δ' ἐπίπλοον ἀπὸ μέσης τῆς κοιλίας ...   ἄλλοις   ἄλλοις   \n",
       "3448  προσάγεταί τε γὰρ καὶ λαμβάνει τούτῳ κα...       καὶ       καὶ   \n",
       "4187  πλὴν ἐλάττους οἱ πόροι καὶ τὰ φλέβια π...    ταύτης    ταύτης   \n",
       "2546  διότι ἡ καρδίη αἰσθάνεταί τε μάλιστα κα...        αἱ        αἱ   \n",
       "1052  Πρότερον δὲ τῇ θέσει ἡ ἀρτηρία κεῖται...  Πρότερον  Πρότερος   \n",
       "\n",
       "     lemma_corrected     dictionary  \n",
       "916               ὁ   big_dict_nfd  \n",
       "2985           φλέψ   big_dict_nfd  \n",
       "1435              δὲ  big_dict_nfkc  \n",
       "1789              ὁ   big_dict_nfd  \n",
       "1013       ἐκβήσσω   big_dict_nfd  \n",
       "1653         ἄλλος   big_dict_nfd  \n",
       "3448            καί   big_dict_nfd  \n",
       "4187         οὗτος   big_dict_nfd  \n",
       "2546              ὁ   big_dict_nfd  \n",
       "1052       πρότερος   big_dict_nfd  "
      ]
     },
     "execution_count": 285,
     "metadata": {},
     "output_type": "execute_result"
    }
   ],
   "source": [
    "corrections_df.sample(10)\n"
   ]
  },
  {
   "cell_type": "code",
   "execution_count": 286,
   "metadata": {
    "ExecuteTime": {
     "end_time": "2023-05-24T10:38:38.675132400Z",
     "start_time": "2023-05-24T10:38:38.636653300Z"
    },
    "collapsed": false
   },
   "outputs": [
    {
     "data": {
      "text/html": [
       "<div>\n",
       "<style scoped>\n",
       "    .dataframe tbody tr th:only-of-type {\n",
       "        vertical-align: middle;\n",
       "    }\n",
       "\n",
       "    .dataframe tbody tr th {\n",
       "        vertical-align: top;\n",
       "    }\n",
       "\n",
       "    .dataframe thead th {\n",
       "        text-align: right;\n",
       "    }\n",
       "</style>\n",
       "<table border=\"1\" class=\"dataframe\">\n",
       "  <thead>\n",
       "    <tr style=\"text-align: right;\">\n",
       "      <th></th>\n",
       "      <th>sentence</th>\n",
       "      <th>token</th>\n",
       "      <th>lemma</th>\n",
       "      <th>lemma_corrected</th>\n",
       "    </tr>\n",
       "    <tr>\n",
       "      <th>dictionary</th>\n",
       "      <th></th>\n",
       "      <th></th>\n",
       "      <th></th>\n",
       "      <th></th>\n",
       "    </tr>\n",
       "  </thead>\n",
       "  <tbody>\n",
       "    <tr>\n",
       "      <th>big_dict_nfd</th>\n",
       "      <td>4144</td>\n",
       "      <td>4144</td>\n",
       "      <td>4144</td>\n",
       "      <td>4144</td>\n",
       "    </tr>\n",
       "    <tr>\n",
       "      <th>big_dict_nfkc</th>\n",
       "      <td>351</td>\n",
       "      <td>351</td>\n",
       "      <td>351</td>\n",
       "      <td>351</td>\n",
       "    </tr>\n",
       "  </tbody>\n",
       "</table>\n",
       "</div>"
      ],
      "text/plain": [
       "               sentence  token  lemma  lemma_corrected\n",
       "dictionary                                            \n",
       "big_dict_nfd       4144   4144   4144             4144\n",
       "big_dict_nfkc       351    351    351              351"
      ]
     },
     "execution_count": 286,
     "metadata": {},
     "output_type": "execute_result"
    }
   ],
   "source": [
    "# find how many corrected by each dictionary\n",
    "corrections_df.groupby('dictionary').count()\n"
   ]
  },
  {
   "cell_type": "code",
   "execution_count": 287,
   "metadata": {
    "ExecuteTime": {
     "end_time": "2023-05-24T10:38:59.790374800Z",
     "start_time": "2023-05-24T10:38:59.695736700Z"
    },
    "collapsed": false
   },
   "outputs": [
    {
     "data": {
      "text/html": [
       "<div>\n",
       "<style scoped>\n",
       "    .dataframe tbody tr th:only-of-type {\n",
       "        vertical-align: middle;\n",
       "    }\n",
       "\n",
       "    .dataframe tbody tr th {\n",
       "        vertical-align: top;\n",
       "    }\n",
       "\n",
       "    .dataframe thead th {\n",
       "        text-align: right;\n",
       "    }\n",
       "</style>\n",
       "<table border=\"1\" class=\"dataframe\">\n",
       "  <thead>\n",
       "    <tr style=\"text-align: right;\">\n",
       "      <th></th>\n",
       "      <th>sentence</th>\n",
       "      <th>token</th>\n",
       "      <th>lemma</th>\n",
       "      <th>lemma_corrected</th>\n",
       "      <th>dictionary</th>\n",
       "    </tr>\n",
       "  </thead>\n",
       "  <tbody>\n",
       "    <tr>\n",
       "      <th>129</th>\n",
       "      <td>Πρὸς δὲ τὸν καυλὸν τὸν τῆς κύστεως   \\r\\nσυνήρ...</td>\n",
       "      <td>Πρὸς</td>\n",
       "      <td>Πρός</td>\n",
       "      <td>πρός</td>\n",
       "      <td>big_dict_nfkc</td>\n",
       "    </tr>\n",
       "    <tr>\n",
       "      <th>167</th>\n",
       "      <td>ἐν τῇσιν ὀφρύσι διπλοῦν τὸ ὀστέον, καὶ ἡ σύγκλ...</td>\n",
       "      <td>σπονδύλους</td>\n",
       "      <td>σπονδύλος</td>\n",
       "      <td>σφόνδυλος</td>\n",
       "      <td>big_dict_nfkc</td>\n",
       "    </tr>\n",
       "    <tr>\n",
       "      <th>123</th>\n",
       "      <td>Τελευταία γὰρ ἡ κύστις κεῖται, \\r\\nτὴν μὲν ἐξά...</td>\n",
       "      <td>ἰνώδεσιν</td>\n",
       "      <td>ἰνώδες</td>\n",
       "      <td>ἰνώδης</td>\n",
       "      <td>big_dict_nfkc</td>\n",
       "    </tr>\n",
       "    <tr>\n",
       "      <th>1990</th>\n",
       "      <td>ἀρτηρίαι δὲ ἐκ τούτου πεφύκασιν ἔνθεν \\r\\nκαὶ ...</td>\n",
       "      <td>δὲ</td>\n",
       "      <td>δέ</td>\n",
       "      <td>δὲ</td>\n",
       "      <td>big_dict_nfkc</td>\n",
       "    </tr>\n",
       "    <tr>\n",
       "      <th>210</th>\n",
       "      <td>Κοιλίη δὲ ἥπατι παρακειμένη κατ' εὐώνυμον μέρο...</td>\n",
       "      <td>ἥπατι</td>\n",
       "      <td>ἥπατι</td>\n",
       "      <td>ἧπαρ</td>\n",
       "      <td>big_dict_nfkc</td>\n",
       "    </tr>\n",
       "    <tr>\n",
       "      <th>3141</th>\n",
       "      <td>ἰσχύουσι δὲ μάλιστα ἐν ἐκείνοισι τοῦ σώματος κ...</td>\n",
       "      <td>δὲ</td>\n",
       "      <td>δέ</td>\n",
       "      <td>δὲ</td>\n",
       "      <td>big_dict_nfkc</td>\n",
       "    </tr>\n",
       "    <tr>\n",
       "      <th>1802</th>\n",
       "      <td>δάκτυλοι ἄρθρα ἔχουσιν έκαστος τρία, ἂν μὲν ὑπ...</td>\n",
       "      <td>ἂν</td>\n",
       "      <td>ἐάν</td>\n",
       "      <td>ἄν</td>\n",
       "      <td>big_dict_nfkc</td>\n",
       "    </tr>\n",
       "    <tr>\n",
       "      <th>4023</th>\n",
       "      <td>τῷ δὲ \\r\\nδικραίῳ τούτῳ τὸ ὀστέον ἡ κνήμη καλε...</td>\n",
       "      <td>δὲ</td>\n",
       "      <td>δέ</td>\n",
       "      <td>δὲ</td>\n",
       "      <td>big_dict_nfkc</td>\n",
       "    </tr>\n",
       "    <tr>\n",
       "      <th>3078</th>\n",
       "      <td>ἄλλαι δύο φλέβες ἀπὸ τῆς κορυφῆς φέρονται ἐς τ...</td>\n",
       "      <td>κορυφῆς</td>\n",
       "      <td>κορυφή</td>\n",
       "      <td>κορύπτω</td>\n",
       "      <td>big_dict_nfkc</td>\n",
       "    </tr>\n",
       "    <tr>\n",
       "      <th>2601</th>\n",
       "      <td>αἱ μὲν γὰρ σφίσιν \\r\\nἑωυτῇσι συμβάλλουσιν, αἱ...</td>\n",
       "      <td>ταύτῃ</td>\n",
       "      <td>οὗτος</td>\n",
       "      <td>ταύτῃ</td>\n",
       "      <td>big_dict_nfkc</td>\n",
       "    </tr>\n",
       "  </tbody>\n",
       "</table>\n",
       "</div>"
      ],
      "text/plain": [
       "                                               sentence       token  \\\n",
       "129   Πρὸς δὲ τὸν καυλὸν τὸν τῆς κύστεως   \\r\\nσυνήρ...        Πρὸς   \n",
       "167   ἐν τῇσιν ὀφρύσι διπλοῦν τὸ ὀστέον, καὶ ἡ σύγκλ...  σπονδύλους   \n",
       "123   Τελευταία γὰρ ἡ κύστις κεῖται, \\r\\nτὴν μὲν ἐξά...    ἰνώδεσιν   \n",
       "1990  ἀρτηρίαι δὲ ἐκ τούτου πεφύκασιν ἔνθεν \\r\\nκαὶ ...          δὲ   \n",
       "210   Κοιλίη δὲ ἥπατι παρακειμένη κατ' εὐώνυμον μέρο...       ἥπατι   \n",
       "3141  ἰσχύουσι δὲ μάλιστα ἐν ἐκείνοισι τοῦ σώματος κ...          δὲ   \n",
       "1802  δάκτυλοι ἄρθρα ἔχουσιν έκαστος τρία, ἂν μὲν ὑπ...          ἂν   \n",
       "4023  τῷ δὲ \\r\\nδικραίῳ τούτῳ τὸ ὀστέον ἡ κνήμη καλε...          δὲ   \n",
       "3078  ἄλλαι δύο φλέβες ἀπὸ τῆς κορυφῆς φέρονται ἐς τ...     κορυφῆς   \n",
       "2601  αἱ μὲν γὰρ σφίσιν \\r\\nἑωυτῇσι συμβάλλουσιν, αἱ...       ταύτῃ   \n",
       "\n",
       "          lemma lemma_corrected     dictionary  \n",
       "129        Πρός            πρός  big_dict_nfkc  \n",
       "167   σπονδύλος       σφόνδυλος  big_dict_nfkc  \n",
       "123      ἰνώδες          ἰνώδης  big_dict_nfkc  \n",
       "1990         δέ              δὲ  big_dict_nfkc  \n",
       "210       ἥπατι            ἧπαρ  big_dict_nfkc  \n",
       "3141         δέ              δὲ  big_dict_nfkc  \n",
       "1802        ἐάν              ἄν  big_dict_nfkc  \n",
       "4023         δέ              δὲ  big_dict_nfkc  \n",
       "3078     κορυφή         κορύπτω  big_dict_nfkc  \n",
       "2601      οὗτος           ταύτῃ  big_dict_nfkc  "
      ]
     },
     "execution_count": 287,
     "metadata": {},
     "output_type": "execute_result"
    }
   ],
   "source": [
    "corrections_df[corrections_df['dictionary'] == 'big_dict_nfkc'].sample(10)"
   ]
  },
  {
   "cell_type": "code",
   "execution_count": 288,
   "metadata": {
    "ExecuteTime": {
     "end_time": "2023-05-24T10:39:29.362941Z",
     "start_time": "2023-05-24T10:39:29.250748300Z"
    },
    "collapsed": false
   },
   "outputs": [
    {
     "data": {
      "text/html": [
       "<div>\n",
       "<style scoped>\n",
       "    .dataframe tbody tr th:only-of-type {\n",
       "        vertical-align: middle;\n",
       "    }\n",
       "\n",
       "    .dataframe tbody tr th {\n",
       "        vertical-align: top;\n",
       "    }\n",
       "\n",
       "    .dataframe thead th {\n",
       "        text-align: right;\n",
       "    }\n",
       "</style>\n",
       "<table border=\"1\" class=\"dataframe\">\n",
       "  <thead>\n",
       "    <tr style=\"text-align: right;\">\n",
       "      <th></th>\n",
       "      <th>sentence</th>\n",
       "      <th>token</th>\n",
       "      <th>lemma</th>\n",
       "      <th>lemma_corrected</th>\n",
       "      <th>dictionary</th>\n",
       "    </tr>\n",
       "  </thead>\n",
       "  <tbody>\n",
       "    <tr>\n",
       "      <th>1000</th>\n",
       "      <td>Ἡ μὲν οὖν ἀρτηρία τοῦτον ἔχει τὸν τρ...</td>\n",
       "      <td>τὸ</td>\n",
       "      <td>τὸ</td>\n",
       "      <td>ὁ</td>\n",
       "      <td>big_dict_nfd</td>\n",
       "    </tr>\n",
       "    <tr>\n",
       "      <th>4315</th>\n",
       "      <td>Πᾶσαι δ’ αὗται εἰς μίαν φλέβα τελευτῶσι...</td>\n",
       "      <td>δ’</td>\n",
       "      <td>δ’</td>\n",
       "      <td>δέ</td>\n",
       "      <td>big_dict_nfd</td>\n",
       "    </tr>\n",
       "    <tr>\n",
       "      <th>3358</th>\n",
       "      <td>Ὑπὲρ δὲ τῶν ἐντέρων τὸ μεσεντέριόν ε...</td>\n",
       "      <td>μεσεντέριόν</td>\n",
       "      <td>μεσεντέριόν</td>\n",
       "      <td>μεσεντέριον</td>\n",
       "      <td>big_dict_nfd</td>\n",
       "    </tr>\n",
       "    <tr>\n",
       "      <th>967</th>\n",
       "      <td>πάντα γὰρ ὡς εἰπεῖν μεγάλα τὰ κερατοφό...</td>\n",
       "      <td>μεγάλα</td>\n",
       "      <td>μεγάλα</td>\n",
       "      <td>μέγας</td>\n",
       "      <td>big_dict_nfd</td>\n",
       "    </tr>\n",
       "    <tr>\n",
       "      <th>3515</th>\n",
       "      <td>μία δ’ ἑτέρα ἀφ’ ἑκατέρου τοῦ τόπου το...</td>\n",
       "      <td>μήνιγγα</td>\n",
       "      <td>μήνιγγα</td>\n",
       "      <td>μῆνιγξ</td>\n",
       "      <td>big_dict_nfd</td>\n",
       "    </tr>\n",
       "    <tr>\n",
       "      <th>2331</th>\n",
       "      <td>τὸ μὲν γὰρ ἄνω καὶ κάτω, τὸ δ' ἔμπρο...</td>\n",
       "      <td>δ'</td>\n",
       "      <td>δ'</td>\n",
       "      <td>δέ</td>\n",
       "      <td>big_dict_nfd</td>\n",
       "    </tr>\n",
       "    <tr>\n",
       "      <th>2751</th>\n",
       "      <td>τοῦτο γὰρ μεταξὺ τῆς τ' ἄνω, ἐν ᾗ το...</td>\n",
       "      <td>γὰρ</td>\n",
       "      <td>γὰρ</td>\n",
       "      <td>γάρ</td>\n",
       "      <td>big_dict_nfd</td>\n",
       "    </tr>\n",
       "    <tr>\n",
       "      <th>2866</th>\n",
       "      <td>Δύο φλέβες εἰσὶν ἐν τῷ θώρακι κατὰ τη...</td>\n",
       "      <td>τὸ</td>\n",
       "      <td>τὸ</td>\n",
       "      <td>ὁ</td>\n",
       "      <td>big_dict_nfd</td>\n",
       "    </tr>\n",
       "    <tr>\n",
       "      <th>3044</th>\n",
       "      <td>Διότι φημὶ τὸν ἐγκέφαλον εἶναι τὸν ἑρ...</td>\n",
       "      <td>φημὶ</td>\n",
       "      <td>φημὶ</td>\n",
       "      <td>φημί</td>\n",
       "      <td>big_dict_nfd</td>\n",
       "    </tr>\n",
       "    <tr>\n",
       "      <th>5</th>\n",
       "      <td>Ἔτι δ’ ἄλ λαι ἀπὸ τῆς μεγάλης φλεβὸς ...</td>\n",
       "      <td>ἀποσχίζονται</td>\n",
       "      <td>ἀποσχίζομαι</td>\n",
       "      <td>ἀποσχίζω</td>\n",
       "      <td>big_dict_nfd</td>\n",
       "    </tr>\n",
       "  </tbody>\n",
       "</table>\n",
       "</div>"
      ],
      "text/plain": [
       "                                               sentence           token  \\\n",
       "1000  Ἡ μὲν οὖν ἀρτηρία τοῦτον ἔχει τὸν τρ...             τὸ   \n",
       "4315  Πᾶσαι δ’ αὗται εἰς μίαν φλέβα τελευτῶσι...              δ’   \n",
       "3358   Ὑπὲρ δὲ τῶν ἐντέρων τὸ μεσεντέριόν ε...   μεσεντέριόν   \n",
       "967   πάντα γὰρ ὡς εἰπεῖν μεγάλα τὰ κερατοφό...         μεγάλα   \n",
       "3515  μία δ’ ἑτέρα ἀφ’ ἑκατέρου τοῦ τόπου το...        μήνιγγα   \n",
       "2331  τὸ μὲν γὰρ ἄνω καὶ κάτω, τὸ δ' ἔμπρο...              δ'   \n",
       "2751  τοῦτο γὰρ μεταξὺ τῆς τ' ἄνω, ἐν ᾗ το...            γὰρ   \n",
       "2866  Δύο φλέβες εἰσὶν ἐν τῷ θώρακι κατὰ τη...             τὸ   \n",
       "3044  Διότι φημὶ τὸν ἐγκέφαλον εἶναι τὸν ἑρ...           φημὶ   \n",
       "5     Ἔτι δ’ ἄλ λαι ἀπὸ τῆς μεγάλης φλεβὸς ...  ἀποσχίζονται   \n",
       "\n",
       "              lemma lemma_corrected    dictionary  \n",
       "1000            τὸ              ὁ  big_dict_nfd  \n",
       "4315             δ’             δέ  big_dict_nfd  \n",
       "3358  μεσεντέριόν    μεσεντέριον  big_dict_nfd  \n",
       "967         μεγάλα          μέγας  big_dict_nfd  \n",
       "3515       μήνιγγα         μῆνιγξ  big_dict_nfd  \n",
       "2331             δ'             δέ  big_dict_nfd  \n",
       "2751           γὰρ            γάρ  big_dict_nfd  \n",
       "2866            τὸ              ὁ  big_dict_nfd  \n",
       "3044          φημὶ           φημί  big_dict_nfd  \n",
       "5     ἀποσχίζομαι      ἀποσχίζω  big_dict_nfd  "
      ]
     },
     "execution_count": 288,
     "metadata": {},
     "output_type": "execute_result"
    }
   ],
   "source": [
    "corrections_df[corrections_df['dictionary'] == 'big_dict_nfd'].sample(10)"
   ]
  },
  {
   "cell_type": "code",
   "execution_count": null,
   "metadata": {
    "collapsed": false
   },
   "outputs": [],
   "source": [
    "# save to spacy file\n",
    "db.to_disk(\"../assets/NER_assets/corrected_sentences.spacy\")\n"
   ]
  }
 ],
 "metadata": {
  "kernelspec": {
   "display_name": "Python 3",
   "language": "python",
   "name": "python3"
  },
  "language_info": {
   "codemirror_mode": {
    "name": "ipython",
    "version": 3
   },
   "file_extension": ".py",
   "mimetype": "text/x-python",
   "name": "python",
   "nbconvert_exporter": "python",
   "pygments_lexer": "ipython3",
   "version": "3.10.4"
  }
 },
 "nbformat": 4,
 "nbformat_minor": 0
}
