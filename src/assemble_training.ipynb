{
 "cells": [
  {
   "cell_type": "code",
   "execution_count": null,
   "metadata": {},
   "outputs": [],
   "source": [
    "!python -m spacy train ../configs/senter.cfg --output ../training/senter --gpu-id 0 --paths.train corpus/train/grc_perseus-ud-train.spacy --paths.dev corpus/dev/grc_perseus-ud-dev.spacy --nlp.lang=${vars.lang}\""
   ]
  },
  {
   "cell_type": "markdown",
   "metadata": {},
   "source": [
    "# Train Lemmatizer"
   ]
  },
  {
   "cell_type": "code",
   "execution_count": null,
   "metadata": {},
   "outputs": [],
   "source": [
    "import spacy\n",
    "from spacy.tokens import Doc, DocBin\n",
    "nlp = spacy.load(\"grc_proiel_trf\")"
   ]
  },
  {
   "cell_type": "code",
   "execution_count": null,
   "metadata": {},
   "outputs": [],
   "source": [
    "corpus = DocBin().from_disk(\"../corpus/train/lemma_train/train_lemma_NFKD.spacy\")\n"
   ]
  },
  {
   "cell_type": "code",
   "execution_count": null,
   "metadata": {},
   "outputs": [],
   "source": [
    "for docs in corpus.get_docs(nlp.vocab):\n",
    "    for doc in docs:\n",
    "        print(doc.text, \" | \", doc.lemma_)"
   ]
  },
  {
   "cell_type": "code",
   "execution_count": null,
   "metadata": {},
   "outputs": [],
   "source": [
    "# debug vector-based lemmatizer of new dataset 15th September 2023\n",
    "!python -m spacy debug data ../configs/lemmatizer_vec.cfg --paths.train ../corpus/train/lemma_train/ --paths.dev ../corpus/dev/lemma_dev/ --nlp.lang=grc"
   ]
  },
  {
   "cell_type": "code",
   "execution_count": null,
   "metadata": {},
   "outputs": [],
   "source": [
    "#  train large lemmatizer with new dataset 15th september 2023\n",
    "!python -m spacy train ../configs/lemmatizer_vec.cfg  --output ../training/lemmatizer/large_16_oct --paths.train ../corpus/train/lemma_train/ --paths.dev ../corpus/dev/lemma_dev/ --paths.vectors ../vectors/large --gpu-id 0 --nlp.lang=grc"
   ]
  },
  {
   "cell_type": "code",
   "execution_count": null,
   "metadata": {},
   "outputs": [],
   "source": [
    "#  train large lemmatizer with new dataset 15th september 2023\n",
    "!python -m spacy train ../configs/lemmatizer_sm.cfg  --output ../training/lemmatizer/sm_16_oct --paths.train ../corpus/train/lemma_train/ --paths.dev ../corpus/dev/lemma_dev/ --gpu-id 0 --nlp.lang=grc"
   ]
  },
  {
   "cell_type": "code",
   "execution_count": null,
   "metadata": {},
   "outputs": [],
   "source": [
    "# debug vector-based lemmatizer of new dataset 15th September 2023\n",
    "!python -m spacy debug data ../configs/lemmatizer_sm.cfg --paths.train ../corpus/train/lemma_train/ --paths.dev ../corpus/dev/lemma_dev/ --nlp.lang=grc"
   ]
  },
  {
   "cell_type": "code",
   "execution_count": null,
   "metadata": {},
   "outputs": [],
   "source": [
    "# debug vector-based lemmatizer of new dataset 3rd September 2023\n",
    "!python -m spacy debug data ../configs/lemmatizer_sm.cfg --paths.train ../corpus/train/lemma_train/ --paths.dev ../corpus/dev/lemma_dev/ --nlp.lang=grc"
   ]
  },
  {
   "cell_type": "code",
   "execution_count": null,
   "metadata": {},
   "outputs": [],
   "source": [
    "#  train lemmatizer with new dataset 15th september 2023\n",
    "!python -m spacy train ../configs/lemmatizer_sm.cfg  --output ../training/lemmatizer/small_4_oct --paths.train ../corpus/train/lemma_train/ --paths.dev ../corpus/dev/lemma_dev/ --gpu-id 0 --nlp.lang=grc"
   ]
  },
  {
   "cell_type": "code",
   "execution_count": null,
   "metadata": {},
   "outputs": [],
   "source": [
    "#  train lemmatizer with new dataset 3rd september 2023\n",
    "!python -m spacy train ../configs/lemmatizer_sm.cfg  --output ../training/lemmatizer/small_3_sep --paths.train ../corpus/train/lemma_train/ --paths.dev ../corpus/dev/lemma_dev/ --gpu-id 0 --nlp.lang=grc"
   ]
  },
  {
   "cell_type": "code",
   "execution_count": null,
   "metadata": {},
   "outputs": [],
   "source": [
    "!python -m spacy train ../configs/lemmatizer_sm.cfg  --output ../training/lemmatizer/small --paths.train ../corpus/train/lemma_train/ --paths.dev ../corpus/dev/lemma_dev/ --gpu-id 0 --nlp.lang=grc"
   ]
  },
  {
   "cell_type": "code",
   "execution_count": null,
   "metadata": {},
   "outputs": [],
   "source": [
    "!python -m spacy train ../configs/lemmatizer_vec.cfg  --output ../training/lemmatizer/t_large --paths.train ../corpus/train/t_lemma_train/  --paths.dev ../corpus/dev/t_lemma_dev/ --paths.vectors ../vectors/large --gpu-id 0 --nlp.lang=grc"
   ]
  },
  {
   "cell_type": "code",
   "execution_count": null,
   "metadata": {},
   "outputs": [],
   "source": [
    "!python -m spacy train ../configs/lemmatizer_trf.cfg  --output ../training/lemmatizer/trf --paths.train ../corpus/train/lemma_train/ --paths.dev ../corpus/dev/lemma_dev/ --gpu-id 0 --nlp.lang=grc\n"
   ]
  },
  {
   "cell_type": "code",
   "execution_count": null,
   "metadata": {},
   "outputs": [],
   "source": [
    "!python -m spacy debug data ../configs/lemmatizer_trf.cfg --paths.train corpus/train/lemma_train --paths.dev corpus/dev/lemma_dev/ --nlp.lang=grc"
   ]
  },
  {
   "cell_type": "markdown",
   "metadata": {},
   "source": [
    "## Same training, NFKD only"
   ]
  },
  {
   "cell_type": "code",
   "execution_count": null,
   "metadata": {},
   "outputs": [],
   "source": [
    "# debug vector-based lemmatizer NFKD only\n",
    "!python -m spacy debug data ../configs/lemmatizer_sm.cfg --paths.train ../corpus/train/lemma_train_NFKD/ --paths.dev ../corpus/dev/lemma_dev_NFKD/ --nlp.lang=grc"
   ]
  },
  {
   "cell_type": "code",
   "execution_count": null,
   "metadata": {},
   "outputs": [],
   "source": [
    "!python -m spacy train ../configs/lemmatizer_sm_NFKD_only.cfg  --output ../training/lemmatizer_NFKD/small --paths.train ../corpus/train/lemma_train_NFKD/ --paths.dev ../corpus/dev/lemma_dev_NFKD/ --gpu-id 0 --nlp.lang=grc"
   ]
  },
  {
   "cell_type": "markdown",
   "metadata": {},
   "source": [
    "# train transformer-based pipeline for POS and morphology"
   ]
  },
  {
   "cell_type": "code",
   "execution_count": null,
   "metadata": {},
   "outputs": [],
   "source": [
    "# Debug PoS data for transformer with new fixed dataset 18th october 2023\n",
    "!python -m spacy debug data ../configs/transformer_proiel.cfg --paths.train ../corpus/train/pos_train/ --paths.dev ../corpus/dev/pos_dev/ --paths.lemmatizer_model ../training/lemmatizer/large_16_oct/model-best --nlp.lang=grc"
   ]
  },
  {
   "cell_type": "code",
   "execution_count": null,
   "metadata": {},
   "outputs": [],
   "source": [
    "# Training the transformer with attributes woth new dataset 15 september 2023\n",
    "!python -m spacy train ../configs/transformer_proiel.cfg --output ../training/transformer/proiel/assembled/lg_lemmatizer_18_oct --paths.train ../corpus/train/pos_train/ --paths.dev ../corpus/dev/pos_dev/ --paths.lemmatizer_model ../training/lemmatizer/large_16_oct/model-best --training.logger.run_name \"greCy_pos_lg_lem_18_oct\" --gpu-id 0 --nlp.lang=grc\n"
   ]
  },
  {
   "cell_type": "code",
   "execution_count": null,
   "metadata": {},
   "outputs": [],
   "source": [
    "# Debug PoS data for transformer with new dataset 15th september 2023\n",
    "!python -m spacy debug data ../configs/transformer_proiel.cfg --paths.train ../corpus/train/pos_train/ --paths.dev ../corpus/dev/pos_dev/ --paths.lemmatizer_model ../training/lemmatizer/small_15_sep/model-best --nlp.lang=grc"
   ]
  },
  {
   "cell_type": "code",
   "execution_count": null,
   "metadata": {},
   "outputs": [],
   "source": [
    "# Debug PoS data for transformer with new dataset 3rd september 2023\n",
    "!python -m spacy debug data ../configs/transformer_proiel.cfg --paths.train ../corpus/train/pos_train/ --paths.dev ../corpus/dev/pos_dev/ --paths.lemmatizer_model ../training/lemmatizer/small_3_sep/model-best --nlp.lang=grc"
   ]
  },
  {
   "cell_type": "code",
   "execution_count": null,
   "metadata": {},
   "outputs": [],
   "source": [
    "# Training the transformer with attributes woth new dataset 15 september 2023\n",
    "!python -m spacy train ../configs/transformer_proiel.cfg --output ../training/transformer/proiel/assembled/sm_lemmatizer_15_sep --paths.train ../corpus/train/pos_train/ --paths.dev ../corpus/dev/pos_dev/ --paths.lemmatizer_model ../training/lemmatizer/small_15_sep/model-best --training.logger.run_name \"greCy_pos_sm_lem_15_sep\" --gpu-id 0 --nlp.lang=grc\n"
   ]
  },
  {
   "cell_type": "code",
   "execution_count": null,
   "metadata": {},
   "outputs": [],
   "source": [
    "# Training the transformer with attributes woth new dataset 3rd september 2023\n",
    "!python -m spacy train ../configs/transformer_proiel.cfg --output ../training/transformer/proiel/assembled/sm_lemmatizer_3_sep --paths.train ../corpus/train/pos_train/ --paths.dev ../corpus/dev/pos_dev/ --paths.lemmatizer_model ../training/lemmatizer/small_3_sep/model-best --training.logger.run_name \"greCy_pos_sm_lem_3_sep\" --gpu-id 0 --nlp.lang=grc"
   ]
  },
  {
   "cell_type": "code",
   "execution_count": null,
   "metadata": {},
   "outputs": [],
   "source": [
    "# Training the transformer with attributes\n",
    "!python -m spacy debug data ../configs/transformer_proiel.cfg --paths.train ../corpus/train/pos_train/ --paths.dev ../corpus/dev/pos_dev/ --paths.lemmatizer_model ../training/lemmatizer/small/model-best --nlp.lang=grc"
   ]
  },
  {
   "cell_type": "code",
   "execution_count": null,
   "metadata": {},
   "outputs": [],
   "source": [
    "!python -m spacy train ../configs/transformer_proiel.cfg --output ../training/transformer/proiel/assembled/sm_lemmatizer --paths.train ../corpus/train/pos_train/ --paths.dev ../corpus/dev/pos_dev/ --paths.lemmatizer_model ../training/lemmatizer/small/model-best --training.logger.run_name \"greCy_pos_sm_lem\" --gpu-id 0 --nlp.lang=grc"
   ]
  },
  {
   "cell_type": "code",
   "execution_count": null,
   "metadata": {},
   "outputs": [],
   "source": [
    "!python -m spacy train ../configs/transformer_proiel.cfg --output ../training/transformer/proiel/assembled/sm_lemmatizer --paths.train ../corpus/train/pos_train/ --paths.dev ../corpus/dev/pos_dev/ --paths.lemmatizer_model ../training/lemmatizer/small/model-best --training.logger.run_name \"greCy_pos_sm_lem\" --gpu-id 0 --nlp.lang=grc"
   ]
  },
  {
   "cell_type": "code",
   "execution_count": null,
   "metadata": {},
   "outputs": [],
   "source": [
    "!python -m spacy train ../configs/transformer_proiel_pranaydeeps.cfg --output ../training/transformer/proiel/assembled/A_GreekBert_sm_lemmatizer --paths.train ../corpus/train/pos_train/ --paths.dev ../corpus/dev/pos_dev/ --paths.lemmatizer_model ../training/lemmatizer/small/model-best --training.logger.run_name \"A_GreekBert_Grecy_pos_sm_lem\" --gpu-id 0 --nlp.lang=grc"
   ]
  },
  {
   "cell_type": "code",
   "execution_count": null,
   "metadata": {},
   "outputs": [],
   "source": [
    "import spacy\n",
    "from spacy.tokens import DocBin\n",
    "nlp = spacy.load(\"grc_proiel_trf\") # Use your preferred model here\n"
   ]
  },
  {
   "cell_type": "code",
   "execution_count": null,
   "metadata": {},
   "outputs": [],
   "source": [
    "# load grc_proiel-ud-train_NFKD.spacy\n",
    "pos_corpus = DocBin().from_disk(\"../corpus/train/pos_train/grc_proiel-ud-train_NFKD.spacy\")\n",
    "pos_corpus_docs = list(pos_corpus.get_docs(nlp.vocab))\n",
    "\n",
    "for doc in pos_corpus_docs:\n",
    "    if len(doc.vocab.strings) > 0:\n",
    "        label_to_index = dict(doc.vocab.strings)\n",
    "        print(label_to_index)"
   ]
  },
  {
   "cell_type": "code",
   "execution_count": null,
   "metadata": {},
   "outputs": [],
   "source": [
    "# load grc_proiel-ud-train_NFKD.spacy\n",
    "pos_corpus = DocBin().from_disk(\"../corpus/train/pos_train/grc_proiel-ud-train_NFKD.spacy\")\n",
    "pos_corpus_docs = list(pos_corpus.get_docs(nlp.vocab))\n",
    "\n",
    "for doc in pos_corpus_docs:\n",
    "    # find tokens with attribute Df\n",
    "    for token in doc:\n",
    "        print(token.tag_)"
   ]
  },
  {
   "cell_type": "code",
   "execution_count": null,
   "metadata": {},
   "outputs": [],
   "source": [
    "doc = nlp(\"This is a sentence.\")\n",
    "label_to_index = doc.vocab.strings\n",
    "print(label_to_index)"
   ]
  },
  {
   "cell_type": "code",
   "execution_count": null,
   "metadata": {},
   "outputs": [],
   "source": [
    "for doc in docs:\n",
    "    doc = nlp(doc)\n",
    "    for token in doc:\n",
    "        print(token.text, token.lemma_, token.pos_)"
   ]
  },
  {
   "cell_type": "code",
   "execution_count": null,
   "metadata": {},
   "outputs": [],
   "source": [
    "for doc in docs:\n",
    "    print(doc.text)\n",
    "    label_to_index = doc.vocab.strings\n",
    "    label_to_index_dict = dict(label_to_index)\n",
    "    print(label_to_index_dict)"
   ]
  },
  {
   "cell_type": "code",
   "execution_count": null,
   "metadata": {},
   "outputs": [],
   "source": [
    "!python -m spacy debug data ../configs/transformer_proiel.cfg --paths.train ../corpus/train/pos_train/pos_train_NFKD.spacy --paths.dev ../corpus/dev/pos_dev/pos_dev_NFKD.spacy --paths.lemmatizer_model ../training/lemmatizer/t_large/model-best --paths.vectors ../vectors/large --nlp.lang=grc"
   ]
  },
  {
   "cell_type": "code",
   "execution_count": null,
   "metadata": {},
   "outputs": [],
   "source": [
    "# train POS pipeline with large lemmatizer\n",
    "!python -m spacy train ../configs/transformer_proiel.cfg --output ../training/transformer/proiel/assembled/t_lg_lemmatizer --paths.train ../corpus/train/pos_train/pos_train_NFKD.spacy --paths.dev ../corpus/dev/pos_dev/pos_dev_NFKD.spacy --paths.lemmatizer_model ../training/lemmatizer/t_large/model-best --paths.vectors ../vectors/large --training.logger.run_name \"t_greCy_pos_lg_lem\" --gpu-id 0 --nlp.lang=grc"
   ]
  },
  {
   "cell_type": "code",
   "execution_count": null,
   "metadata": {},
   "outputs": [],
   "source": [
    "# train POS pipeline with trf lemmatizer\n",
    "!python -m spacy train ../configs/transformer_proiel.cfg --output ../training/transformer/proiel/assembled/trf_lemmatizer --paths.train ../corpus/train/pos_train/ --paths.dev ../corpus/dev/pos_dev/ --paths.lemmatizer_model ../training/lemmatizer/trf/model-best --training.logger.run_name \"greCy_pos_trf_lem\" --gpu-id 0 --nlp.lang=grc"
   ]
  },
  {
   "cell_type": "markdown",
   "metadata": {},
   "source": [
    "## same training, NFKD only"
   ]
  },
  {
   "cell_type": "code",
   "execution_count": null,
   "metadata": {},
   "outputs": [],
   "source": [
    "# Training the transformer with attributes\n",
    "!python -m spacy debug data ../configs/transformer_proiel_NFKD_only.cfg --paths.train ../corpus/train/pos_train_NFKD/ --paths.dev ../corpus/dev/pos_dev_NFKD/ --paths.lemmatizer_model ../training/lemmatizer_NFKD/small/model-best --nlp.lang=grc"
   ]
  },
  {
   "cell_type": "code",
   "execution_count": null,
   "metadata": {},
   "outputs": [],
   "source": [
    "!python -m spacy train ../configs/transformer_proiel_NFKD_only.cfg --output ../training/transformer/proiel/assembled/sm_lemmatizer_NFKD_only --paths.train ../corpus/train/pos_train_NFKD/ --paths.dev ../corpus/dev/pos_dev_NFKD/ --paths.lemmatizer_model ../training/lemmatizer_NFKD/small/model-best --training.logger.run_name \"greCy_pos_sm_lem_NFKD_only\" --gpu-id 0 --nlp.lang=grc"
   ]
  },
  {
   "cell_type": "markdown",
   "metadata": {},
   "source": [
    "# train the NER model"
   ]
  },
  {
   "cell_type": "code",
   "execution_count": null,
   "metadata": {},
   "outputs": [],
   "source": [
    "# train the NER model (sm) with new data 18 october 2023\n",
    "!python -m spacy train ../configs/ner_2Xnorm_sm_15_sep.cfg --output ../training/ATLOMY_G_NER_pipeline/lg_18_oct/ --paths.train ../corpus/train/ner_train/ --paths.dev ../corpus/dev/ner_dev/ --paths.source_path ../training/transformer/proiel/assembled/lg_lemmatizer_18_oct/model-best --training.logger.run_name \"greCy_NER_2xnorm_lg_18_oct\" --gpu-id 0 --nlp.lang=grc"
   ]
  },
  {
   "cell_type": "code",
   "execution_count": null,
   "metadata": {},
   "outputs": [],
   "source": [
    "# train the NER model (sm) with new data 29 september 2023\n",
    "!python -m spacy train ../configs/ner_2Xnorm_sm_15_sep.cfg --output ../training/ATLOMY_G_NER_pipeline/sm_29_sep/ --paths.train ../corpus/train/ner_train/ --paths.dev ../corpus/dev/ner_dev/ --paths.source_path ../training/transformer/proiel/assembled/sm_lemmatizer_3_sep/model-best --training.logger.run_name \"greCy_NER_2xnorm_sm_29_sep\" --gpu-id 0 --nlp.lang=grc"
   ]
  },
  {
   "cell_type": "code",
   "execution_count": null,
   "metadata": {},
   "outputs": [],
   "source": [
    "# train the NER model (sm) with new data 29 september 2023\n",
    "!python -m spacy train ../configs/ner_2Xnorm_sm_15_sep.cfg --output ../training/ATLOMY_G_NER_pipeline/sm_29_sep/ --paths.train ../corpus/train/ner_train/ --paths.dev ../corpus/dev/ner_dev/ --paths.source_path ../training/transformer/proiel/assembled/sm_lemmatizer_3_sep/model-best --training.logger.run_name \"greCy_NER_2xnorm_sm_29_sep\" --gpu-id 0 --nlp.lang=grc"
   ]
  },
  {
   "cell_type": "code",
   "execution_count": null,
   "metadata": {},
   "outputs": [],
   "source": [
    "# train the NER model (sm) with new data 4rd september 2023\n",
    "!python -m spacy train ../configs/ner_2Xnorm_sm_15_sep.cfg --output ../training/ATLOMY_G_NER_pipeline/sm_15_sep/ --paths.train ../corpus/train/ner_train/ --paths.dev ../corpus/dev/ner_dev/ --paths.source_path ../training/transformer/proiel/assembled/sm_lemmatizer_15_sep/model-best --training.logger.run_name \"greCy_NER_2xnorm_sm_15_sep\" --gpu-id 0 --nlp.lang=grc"
   ]
  },
  {
   "cell_type": "code",
   "execution_count": null,
   "metadata": {},
   "outputs": [],
   "source": [
    "# train the NER model (sm) with new data 4rd september 2023\n",
    "!python -m spacy train ../configs/ner_2Xnorm_sm_3_sep.cfg --output ../training/ATLOMY_G_NER_pipeline/sm_3_sep/ --paths.train ../corpus/train/ner_train/ --paths.dev ../corpus/dev/ner_dev/ --gpu-id 0 --nlp.lang=grc"
   ]
  },
  {
   "cell_type": "code",
   "execution_count": null,
   "metadata": {},
   "outputs": [],
   "source": [
    "# train the NER model (sm)\n",
    "!python -m spacy train ../configs/ner_2Xnorm_sm.cfg --output ../training/ATLOMY_G_NER_pipeline/sm/ --paths.train ../corpus/train/ner_train/ --paths.dev ../corpus/dev/ner_dev/ --gpu-id 0 --nlp.lang=grc"
   ]
  },
  {
   "cell_type": "code",
   "execution_count": null,
   "metadata": {},
   "outputs": [],
   "source": [
    "# train the NER model (pranaydeeps Ancient-Greek-Bert with sm lemmatizer)\n",
    "!python -m spacy train ../configs/ner_2Xnorm_sm_pranaydeeps.cfg --output ../training/ATLOMY_G_NER_pipeline/A_GreekBert_sm/ --paths.train ../corpus/train/ner_train/ --paths.dev ../corpus/dev/ner_dev/ --gpu-id 0 --nlp.lang=grc"
   ]
  },
  {
   "cell_type": "code",
   "execution_count": null,
   "metadata": {},
   "outputs": [],
   "source": [
    "# train the NER model (lg)\n",
    "!python -m spacy train ../configs/ner_2Xnorm_sm.cfg --output ../training/ATLOMY_G_NER_pipeline/lg/ --paths.train ../corpus/train/ner_train/ --paths.dev ../corpus/dev/ner_dev/ --gpu-id 0 --nlp.lang=grc"
   ]
  },
  {
   "cell_type": "code",
   "execution_count": null,
   "metadata": {},
   "outputs": [],
   "source": [
    "# train the NER model (trf)\n",
    "!python -m spacy train ../configs/ner_2Xnorm_sm.cfg --output ../training/ATLOMY_G_NER_pipeline/trf/ --paths.train ../corpus/train/ner_train/ --paths.dev ../corpus/dev/ner_dev/ --gpu-id 0 --nlp.lang=grc"
   ]
  },
  {
   "cell_type": "code",
   "execution_count": null,
   "metadata": {},
   "outputs": [],
   "source": [
    "# Training the transformer with attributes\n",
    "\n",
    "!python -m spacy debug data ../configs/transformer.cfg --paths.train corpus/train/ --paths.dev corpus/dev/ --nlp.lang=grc"
   ]
  },
  {
   "cell_type": "code",
   "execution_count": null,
   "metadata": {},
   "outputs": [],
   "source": [
    "# Training the transformer with attributes\n",
    "!python -m spacy debug data ../configs/new_transformer.cfg --paths.train ../corpus/train/grc_proiel-ud-train.spacy --paths.dev ../corpus/dev/grc_proiel-ud-dev.spacy --nlp.lang=grc"
   ]
  },
  {
   "cell_type": "code",
   "execution_count": null,
   "metadata": {},
   "outputs": [],
   "source": [
    "!python -m spacy train ../configs/new_transformer.cfg --output ../training/transformer/assembled --gpu-id 0 --paths.train ../corpus/train/grc_proiel-ud-train.spacy --paths.dev ../corpus/dev/grc_proiel-ud-dev.spacy --nlp.lang=grc\n"
   ]
  },
  {
   "cell_type": "code",
   "execution_count": null,
   "metadata": {},
   "outputs": [],
   "source": [
    "!python -m spacy benchmark accuracy ../training/transformer/assembled/model-best ../corpus/test/grc_proiel-ud-test.spacy --gpu-id 0 "
   ]
  },
  {
   "cell_type": "markdown",
   "metadata": {},
   "source": [
    "## same training, NFKD only"
   ]
  },
  {
   "cell_type": "code",
   "execution_count": null,
   "metadata": {},
   "outputs": [],
   "source": [
    "# train the NER model (sm_NFKD-only)\n",
    "!python -m spacy train ../configs/ner_NFKD_only_sm.cfg --output ../training/ATLOMY_G_NER_pipeline/sm_NFKD_only/ --paths.train ../corpus/train/ner_train/ner_train_NFKD.spacy --paths.dev ../corpus/dev/ner_dev/ner_dev_NFKD.spacy --gpu-id 0 --nlp.lang=grc"
   ]
  },
  {
   "cell_type": "code",
   "execution_count": null,
   "metadata": {},
   "outputs": [],
   "source": [
    "# train the NER model (sm_NFKD-only)\n",
    "!python -m spacy train ../configs/ner_NFKD_only_sm.cfg --output ../training/ATLOMY_G_NER_pipeline/sm_NFKD_only/ --paths.train ../corpus/train/ner_train_NFKD/ --paths.dev ../corpus/dev/ner_dev_NFKD/ --gpu-id 0 --nlp.lang=grc"
   ]
  },
  {
   "attachments": {},
   "cell_type": "markdown",
   "metadata": {},
   "source": [
    "## Training a trainable lemmatizer on assembled pipeline"
   ]
  },
  {
   "cell_type": "code",
   "execution_count": null,
   "metadata": {},
   "outputs": [],
   "source": [
    "!python -m spacy debug config ../configs/new_lemmatizer_trf.cfg  --paths.train ../corpus/train/lemma_train/Merged_lemma_train_dataset.spacy --paths.dev ../corpus/dev/lemma_dev/Merged_lemma_dev_dataset.spacy --nlp.lang=grc"
   ]
  },
  {
   "cell_type": "code",
   "execution_count": null,
   "metadata": {},
   "outputs": [],
   "source": [
    "!python -m spacy debug data ../configs/new_lemmatizer_trf.cfg  --paths.train ../corpus/train/lemma_train/Merged_lemma_train_dataset.spacy --paths.dev ../corpus/dev/lemma_dev/Merged_lemma_dev_dataset.spacy --nlp.lang=grc"
   ]
  },
  {
   "cell_type": "code",
   "execution_count": null,
   "metadata": {},
   "outputs": [],
   "source": [
    "!python -m spacy train ../configs/new_lemmatizer_trf.cfg  --output ../training/transformer/new_lemmatizer  --gpu-id 0 --paths.train ../corpus/train/lemma_train/Merged_lemma_train_dataset.spacy --paths.dev ../corpus/dev/lemma_dev/Merged_lemma_dev_dataset.spacy --nlp.lang=grc"
   ]
  },
  {
   "cell_type": "code",
   "execution_count": null,
   "metadata": {},
   "outputs": [],
   "source": [
    "!python -m spacy train configs/${vars.config_ltrf}.cfg --output training/transformer/lemmatizer --gpu-id ${vars.gpu} --paths.train corpus/train --paths.dev corpus/dev --nlp.lang=${vars.lang}\"\n"
   ]
  },
  {
   "cell_type": "code",
   "execution_count": null,
   "metadata": {},
   "outputs": [],
   "source": [
    "import os\n",
    "os.environ[\"TOKENIZERS_PARALLELISM\"] = \"false\""
   ]
  },
  {
   "cell_type": "code",
   "execution_count": null,
   "metadata": {},
   "outputs": [],
   "source": [
    "import torch\n",
    "torch.cuda.empty_cache()"
   ]
  },
  {
   "cell_type": "code",
   "execution_count": null,
   "metadata": {},
   "outputs": [],
   "source": [
    "!python -m spacy debug data configs/lemmatizer_trf.cfg --paths.train corpus/train/lemma_train/Merged_lemma_train_dataset.spacy --paths.dev corpus/dev/lemma_dev/Merged_lemma_dev_dataset.spacy --nlp.lang=grc --verbose"
   ]
  },
  {
   "cell_type": "code",
   "execution_count": null,
   "metadata": {},
   "outputs": [],
   "source": [
    "!python -m spacy train configs/lemmatizer_trf.cfg --output training/lemmatizer_mostfiles --gpu-id 0 --paths.train corpus/train/lemma_train/Merged_lemma_train_dataset.spacy --paths.dev corpus/dev/lemma_dev/Merged_lemma_dev_dataset.spacy --nlp.lang=grc --verbose"
   ]
  },
  {
   "cell_type": "code",
   "execution_count": null,
   "metadata": {},
   "outputs": [],
   "source": [
    "!python -m spacy benchmark accuracy /root/Projects/Atlomy/git/greCy_ATLOMY/training/lemmatizer_mostfiles/model-best /root/Projects/Atlomy/git/greCy_ATLOMY/corpus/test/grc_proiel-ud-test.spacy --gpu-id 0 "
   ]
  },
  {
   "cell_type": "code",
   "execution_count": null,
   "metadata": {},
   "outputs": [],
   "source": [
    "!python -m spacy train configs/transformer.cfg --output training/lemmatizer_mostfiles/assembled --gpu-id 0 --paths.train corpus/train/grc_proiel-ud-train.spacy --paths.dev corpus/dev/grc_proiel-ud-dev.spacy --nlp.lang=grc\n"
   ]
  },
  {
   "cell_type": "code",
   "execution_count": null,
   "metadata": {},
   "outputs": [],
   "source": [
    "!python -m spacy benchmark accuracy training/lemmatizer_mostfiles/assembled/model-best corpus/test/grc_proiel-ud-test.spacy --gpu-id 0 --displacy-limit 200 --displacy-path training/lemmatizer_mostfiles/assembled/model-best"
   ]
  },
  {
   "cell_type": "code",
   "execution_count": null,
   "metadata": {},
   "outputs": [],
   "source": [
    "!python -m spacy evaluate /root/Projects/Atlomy/git/greCy_ATLOMY/training/transformer/assembled/model-best /root/Projects/Atlomy/git/greCy_ATLOMY/corpus/test/test.spacy --gpu-id 0 --displacy-limit 200 --displacy-path /root/Projects/Atlomy/git/greCy_ATLOMY/training/transformer/assembled/model-best"
   ]
  },
  {
   "cell_type": "markdown",
   "metadata": {},
   "source": [
    "# Model Tests"
   ]
  },
  {
   "cell_type": "code",
   "execution_count": null,
   "metadata": {},
   "outputs": [],
   "source": [
    "import spacy\n",
    "spacy.require_gpu()\n",
    "nlp = spacy.load(\"/root/Projects/Atlomy/git/greCy_ATLOMY/training/transformer/assembled/model-best\")"
   ]
  },
  {
   "cell_type": "code",
   "execution_count": null,
   "metadata": {},
   "outputs": [],
   "source": [
    "import unicodedata\n",
    "φλέψ = \"φλέψ\"\n",
    "#normalize texwor\n",
    "def normalize_text(text):\n",
    "    return unicodedata.normalize('NFKD', text)\n",
    "\n",
    "φλέψ = normalize_text(φλέψ)\n"
   ]
  },
  {
   "cell_type": "code",
   "execution_count": null,
   "metadata": {},
   "outputs": [],
   "source": [
    "texttest = normalize_text(\"Ταῦτ’ οὖν εἴς τε τὸν παρόντα καὶ τὸν ἑξῆς ἅπαντα λόγον οἷον ὑποθέσεις τινὰς τῶν ἀποδείξεων λαμβάνοντες ἐν ἑκάστῳ τῶν ὀργάνων τὴν ἐξ αὐτῶν ὠφέλειαν ἐροῦμεν ἀπὸ τῶν δακτύλων αὖθις ἀρξάμενοι. ἐπειδὴ γὰρ τὴν τῶν ὀστῶν κατασκευὴν ἐν αὐτοῖς ἐπιτηδειοτάτην ὀργάνοις ἀντιληπτικοῖς ἡ φύσις ἐποίησεν, ἦν δ’ ἀμήχανον αὐτοῖς τοῖς ὀστοῖς οὕτω γεώδεσί τε καὶ λιθώδεσιν οὖσι μεταδοῦναι τῆς καθ’ ὁρμὴν κινήσεως, ἐξεῦρεν, ὅτῳ τρόπῳ δι’ ἑτέρων αὐτὰ κινήσει. τῶν οὖν κατὰ τὸν πῆχυν μυῶν ἀποφύσασα τένοντας εὐθὺ τῶν δακτύλων ἤγαγεν. ἃ γὰρ οἱ παλαιοὶ καλοῦσι νεῦρα, ταυτὶ τὰ προφανῆ, τὰ κινοῦντα τοὺς δακτύλους, οἱ τένοντές εἰσιν·\")"
   ]
  },
  {
   "cell_type": "code",
   "execution_count": null,
   "metadata": {},
   "outputs": [],
   "source": [
    "doc = nlp(texttest)\n",
    "for sent in doc.sents:\n",
    "    print(sent.text)\n",
    "#for ent in doc.ents:\n",
    "#    print(ent.text, ent.start_char, ent.end_char, ent.label_)\n",
    "for token in doc:\n",
    "     print(token.text, token.pos_, token.dep_, token.ent_type_, token.lemma_)"
   ]
  },
  {
   "cell_type": "code",
   "execution_count": null,
   "metadata": {},
   "outputs": [],
   "source": [
    "!python -m spacy benchmark speed /root/Projects/Atlomy/git/greCy_ATLOMY/training/transformer/assembled/model-best /root/Projects/Atlomy/git/greCy_ATLOMY/corpus/test/grc_proiel-ud-test.spacy --gpu-id 0"
   ]
  },
  {
   "cell_type": "code",
   "execution_count": null,
   "metadata": {},
   "outputs": [],
   "source": [
    "\n",
    "# benchmark newest dataset 3rd sep. 2023\n",
    "!python -m spacy benchmark accuracy ../training/ATLOMY_G_NER_pipeline/sm_3_sep//model-best ../corpus/test/ner_test/ --gpu-id 0\n"
   ]
  },
  {
   "cell_type": "code",
   "execution_count": null,
   "metadata": {},
   "outputs": [],
   "source": [
    "# benchmark newest dataset 3rd sep. 2023\n",
    "!python -m spacy benchmark accuracy ../training/ATLOMY_G_NER_pipeline/sm/model-best ../corpus/test/ner_test/ --gpu-id 0\n"
   ]
  },
  {
   "cell_type": "code",
   "execution_count": null,
   "metadata": {},
   "outputs": [],
   "source": [
    "# benchmark dataset before August corrections\n",
    "!python -m spacy benchmark accuracy ../training/ATLOMY_G_NER_pipeline/sm/model-best ../corpus/test/ner_test/ --gpu-id 0\n"
   ]
  },
  {
   "cell_type": "code",
   "execution_count": null,
   "metadata": {},
   "outputs": [],
   "source": [
    "!python -m spacy benchmark accuracy ../training/ATLOMY_G_NER_pipeline/A_GreekBert_sm/model-best ../corpus/test/ner_test/ --gpu-id 0\n"
   ]
  },
  {
   "cell_type": "code",
   "execution_count": null,
   "metadata": {},
   "outputs": [],
   "source": [
    "import spacy"
   ]
  },
  {
   "cell_type": "code",
   "execution_count": null,
   "metadata": {},
   "outputs": [],
   "source": [
    "import unicodedata\n",
    "#normalize texwor\n",
    "def normalize_text(text):\n",
    "    return unicodedata.normalize('NFKD', text)\n"
   ]
  },
  {
   "cell_type": "code",
   "execution_count": null,
   "metadata": {},
   "outputs": [],
   "source": [
    "#text = \"καὶ γὰρ ἀναπνεῖ καὶ ἐκπνεῖ ταύτῃ καὶ ὁ πταρμὸς διὰ ταύτης γίνεται πνεύματος ἀθρόου ἔξοδος σημεῖον οἰωνιστικὸν καὶ ἱερὸν μόνον τῶν πνευμάτων\"\n",
    "text =(\"Ταῦτ’ οὖν εἴς τε τὸν παρόντα καὶ τὸν ἑξῆς ἅπαντα λόγον οἷον ὑποθέσεις τινὰς τῶν ἀποδείξεων λαμβάνοντες ἐν ἑκάστῳ τῶν ὀργάνων τὴν ἐξ αὐτῶν ὠφέλειαν ἐροῦμεν ἀπὸ τῶν δακτύλων αὖθις ἀρξάμενοι.\")\n",
    "text_n = normalize_text(\"Ταῦτ’ οὖν εἴς τε τὸν παρόντα καὶ τὸν ἑξῆς ἅπαντα λόγον οἷον ὑποθέσεις τινὰς τῶν ἀποδείξεων λαμβάνοντες ἐν ἑκάστῳ τῶν ὀργάνων τὴν ἐξ αὐτῶν ὠφέλειαν ἐροῦμεν ἀπὸ τῶν δακτύλων αὖθις ἀρξάμενοι.\")\n"
   ]
  },
  {
   "cell_type": "code",
   "execution_count": null,
   "metadata": {},
   "outputs": [],
   "source": [
    "nlp = spacy.load(\"training/transformer_mostfiles/assembled/model-best/\")"
   ]
  },
  {
   "cell_type": "code",
   "execution_count": null,
   "metadata": {},
   "outputs": [],
   "source": [
    "#test non nfkd\n",
    "doc = nlp(text)\n",
    "for token in doc:\n",
    "    print(token.text,  token.lemma_, token.pos_, token.dep_)\n"
   ]
  },
  {
   "cell_type": "code",
   "execution_count": null,
   "metadata": {},
   "outputs": [],
   "source": [
    "#test nfkd\n",
    "doc = nlp(text_n)\n",
    "for token in doc:\n",
    "    print(token.text,  token.lemma_, token.pos_, token.dep_)\n"
   ]
  },
  {
   "cell_type": "code",
   "execution_count": null,
   "metadata": {},
   "outputs": [],
   "source": [
    "doc = nlp(text)\n",
    "for token in doc:\n",
    "    print(token.text,  token.lemma_, token.pos_, token.dep_)"
   ]
  },
  {
   "cell_type": "code",
   "execution_count": null,
   "metadata": {},
   "outputs": [],
   "source": [
    "nlp = spacy.load(\"training/transformer/assembled/model-best/\")\n",
    "doc = nlp(text)\n",
    "for token in doc:\n",
    "    print(token.text,  token.lemma_, token.pos_, token.dep_)"
   ]
  },
  {
   "cell_type": "code",
   "execution_count": null,
   "metadata": {},
   "outputs": [],
   "source": [
    "nlp = spacy.load(\"training/NER/model-best/\")\n",
    "doc = nlp(text)\n",
    "for token in doc:\n",
    "    print(token.text,  token.lemma_, token.pos_, token.dep_)"
   ]
  },
  {
   "cell_type": "markdown",
   "metadata": {},
   "source": [
    "# Model Package"
   ]
  },
  {
   "cell_type": "code",
   "execution_count": null,
   "metadata": {},
   "outputs": [],
   "source": [
    "!python -m spacy package '../training/ATLOMY_G_NER_pipeline/lg_18_oct/model-best' '../packages/lg_18_oct/' --name \"trf_18_oct\" --version 0.2"
   ]
  },
  {
   "cell_type": "code",
   "execution_count": null,
   "metadata": {},
   "outputs": [],
   "source": []
  }
 ],
 "metadata": {
  "kernelspec": {
   "display_name": "Python 3 (ipykernel)",
   "language": "python",
   "name": "python3"
  },
  "language_info": {
   "codemirror_mode": {
    "name": "ipython",
    "version": 3
   },
   "file_extension": ".py",
   "mimetype": "text/x-python",
   "name": "python",
   "nbconvert_exporter": "python",
   "pygments_lexer": "ipython3",
   "version": "3.11.5"
  },
  "orig_nbformat": 4
 },
 "nbformat": 4,
 "nbformat_minor": 2
}
