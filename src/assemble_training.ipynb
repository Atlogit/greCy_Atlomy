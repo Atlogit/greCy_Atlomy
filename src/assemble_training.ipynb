{
 "cells": [
  {
   "cell_type": "code",
   "execution_count": null,
   "metadata": {},
   "outputs": [],
   "source": [
    "# Training the transformer pipline with db proiel and pos_dev from december SageMaker 2023\n",
    "!python -m spacy train ../configs/transformer_proiel_SageMaker.cfg --output ../training/transformer/proiel/assembled/pos_trf_17_dec --paths.vectors ../vectors/large --paths.log_dataset_dir ../corpus --paths.train ../corpus/train/pos_train/ --paths.dev ../corpus/dev/pos_dev/ --paths.lemmatizer_model ../training/SageMaker/lemmatizer/trf_17_dec/model-best/ --training.logger.run_name \"greCy_pos_trf_lem_17_dec\" --gpu-id 0 --nlp.lang=grc"
   ]
  },
  {
   "cell_type": "code",
   "execution_count": null,
   "metadata": {},
   "outputs": [],
   "source": [
    "# Debug PoS data for transformer with lemmatizer (full texts db) 8th November 2023\n",
    "!python -m spacy debug data ../configs/transformer_proiel_SageMaker.cfg --paths.train ../corpus/train/pos_train/ --paths.dev ../corpus/dev/pos_dev/ --paths.lemmatizer_model ../training/SageMaker/lemmatizer/sm_5_dec/model-best --nlp.lang=grc\n"
   ]
  },
  {
   "cell_type": "code",
   "execution_count": null,
   "metadata": {},
   "outputs": [],
   "source": [
    "# Training the transformer pipline with db proiel and pos_dev from december SageMaker 2023\n",
    "!python -m spacy train ../configs/transformer_proiel_SageMaker.cfg --output ../training/transformer/proiel/assembled/pos_test_7_dec --paths.train ../corpus/train/pos_train/ --paths.dev ../corpus/dev/pos_dev/ --paths.lemmatizer_model ../training/SageMaker/lemmatizer/sm_5_dec/model-best --training.logger.run_name \"greCy_pos_sm_lem_7_dec\" --gpu-id 0 --nlp.lang=grc"
   ]
  },
  {
   "cell_type": "code",
   "execution_count": null,
   "metadata": {},
   "outputs": [],
   "source": [
    "!python -m spacy debug data ../configs/ner_2Xnorm_sm_10_dec.cfg --paths.train ../corpus/train/ner_train/ --paths.dev ../corpus/dev/ner_dev/ --paths.source_path ../training/transformer/proiel/assembled/pos_test_7_dec/model-best --training.logger.run_name \"greCy_NER_2xnorm_lg_10_dec\" --nlp.lang=grc\n"
   ]
  },
  {
   "cell_type": "code",
   "execution_count": null,
   "metadata": {},
   "outputs": [],
   "source": [
    "\n",
    "# train the NER model (sm) with full txts db 10 December  2023\n",
    "!python -m spacy train ../configs/ner_2Xnorm_sm_10_dec.cfg --output ../training/ATLOMY_G_NER_pipeline/sm_10_dec/ --paths.train ../corpus/train/ner_train/ --paths.dev ../corpus/dev/ner_dev/ --training.logger.run_name \"greCy_NER_2xnorm_sm_10_dec\" --gpu-id 0 --nlp.lang=grc\n",
    "#../training/transformer/proiel/assembled/pos_test_7_dec"
   ]
  },
  {
   "cell_type": "markdown",
   "metadata": {},
   "source": [
    "# Latest Training"
   ]
  },
  {
   "cell_type": "code",
   "execution_count": null,
   "metadata": {},
   "outputs": [],
   "source": [
    "!python -m spacy train ../configs/lemmatizer_sm.cfg  --output ../training/lemmatizer/small_20_nov --paths.train ../corpus/mnyfolder/lemma_train/ --paths.dev ../corpus/mnyfolder/lemma_dev/ --gpu-id 0 --nlp.lang=grc"
   ]
  },
  {
   "cell_type": "code",
   "execution_count": null,
   "metadata": {},
   "outputs": [],
   "source": [
    "!python -m spacy train ../configs/senter.cfg --output ../training/senter --gpu-id 0 --paths.train corpus/train/grc_perseus-ud-train.spacy --paths.dev corpus/dev/grc_perseus-ud-dev.spacy --nlp.lang=${vars.lang}\""
   ]
  },
  {
   "cell_type": "code",
   "execution_count": null,
   "metadata": {},
   "outputs": [],
   "source": []
  },
  {
   "cell_type": "markdown",
   "metadata": {},
   "source": [
    "# Train Lemmatizer"
   ]
  },
  {
   "cell_type": "code",
   "execution_count": null,
   "metadata": {},
   "outputs": [],
   "source": [
    "!python -m spacy debug data ../configs/lemmatizer_vec.cfg --paths.train ../corpus/train/lemma_train/ --paths.dev ../corpus/dev/lemma_dev/ --paths.vectors ../vectors/large --nlp.lang=grc "
   ]
  },
  {
   "cell_type": "code",
   "execution_count": null,
   "metadata": {},
   "outputs": [],
   "source": [
    "!python -m spacy debug data ../configs/lemmatizer_vec.cfg --paths.train ../corpus/train/lemma_train/ --paths.dev ../corpus/dev/lemma_dev/ --paths.vectors ../vectors/large --nlp.lang=grc "
   ]
  },
  {
   "cell_type": "code",
   "execution_count": null,
   "metadata": {},
   "outputs": [],
   "source": [
    "#  train large lemmatizer with full texts db 11 may 2024\n",
    "!python -m spacy train ../configs/lemmatizer_vec.cfg  --output ../training/lemmatizer/large_11_may_2024 --paths.train ../corpus/train/lemma_train/ --paths.dev ../corpus/dev/lemma_dev/ --paths.vectors ../vectors/large --gpu-id 0 --nlp.lang=grc"
   ]
  },
  {
   "cell_type": "code",
   "execution_count": null,
   "metadata": {},
   "outputs": [],
   "source": [
    "#  train large lemmatizer with full texts db 6 February 2024\n",
    "!python -m spacy train ../configs/lemmatizer_vec.cfg  --output ../training/lemmatizer/large_27_feb_2024 --paths.train ../corpus/train/lemma_train/ --paths.dev ../corpus/dev/lemma_dev/ --paths.vectors ../vectors/large --gpu-id 0 --nlp.lang=grc"
   ]
  },
  {
   "cell_type": "code",
   "execution_count": null,
   "metadata": {},
   "outputs": [],
   "source": [
    "import spacy\n",
    "from spacy.tokens import Doc, DocBin\n",
    "nlp = spacy.load(\"grc_proiel_trf\")"
   ]
  },
  {
   "cell_type": "code",
   "execution_count": null,
   "metadata": {},
   "outputs": [],
   "source": [
    "corpus = DocBin().from_disk(\"../corpus/train/lemma_train/train_lemma_NFKD.spacy\")\n"
   ]
  },
  {
   "cell_type": "code",
   "execution_count": null,
   "metadata": {},
   "outputs": [],
   "source": [
    "for docs in corpus.get_docs(nlp.vocab):\n",
    "    for doc in docs:\n",
    "        print(doc.text, \" | \", doc.lemma_)"
   ]
  },
  {
   "cell_type": "code",
   "execution_count": null,
   "metadata": {},
   "outputs": [],
   "source": [
    "# debug vector-based lemmatizer of new dataset 15th September 2023\n",
    "!python -m spacy debug data ../configs/lemmatizer_vec.cfg --paths.train ../corpus/train/lemma_train/ --paths.dev ../corpus/dev/lemma_dev/ --paths.vectors ../vectors/large --nlp.lang=grc"
   ]
  },
  {
   "cell_type": "code",
   "execution_count": null,
   "metadata": {},
   "outputs": [],
   "source": [
    "# debug vector-based lemmatizer of new dataset 15th September 2023\n",
    "!python -m spacy debug data ../configs/lemmatizer_vec.cfg --paths.train ../corpus/mnyfolder/train/ --paths.dev ../corpus/dev/mnyfolder/dev/ --nlp.lang=grc"
   ]
  },
  {
   "cell_type": "code",
   "execution_count": null,
   "metadata": {},
   "outputs": [],
   "source": [
    "#  train large lemmatizer with full texts db 8 November 2023\n",
    "!python -m spacy train ../corpus/mnyfolder/lemmatizer_vec.cfg  --output ../training/lemmatizer/large_8_nov --paths.train ../corpus/mnyfolder/train/ --paths.dev ../corpus/mnyfolder/dev/ --paths.vectors ../vectors/large --gpu-id 0 --nlp.lang=grc"
   ]
  },
  {
   "cell_type": "code",
   "execution_count": null,
   "metadata": {},
   "outputs": [],
   "source": [
    "# check cuda memory\n",
    "!nvidia-smi"
   ]
  },
  {
   "cell_type": "code",
   "execution_count": null,
   "metadata": {},
   "outputs": [],
   "source": [
    "import gc\n",
    "import torch\n",
    "torch.cuda.empty_cache()\n",
    "gc.collect()"
   ]
  },
  {
   "cell_type": "code",
   "execution_count": null,
   "metadata": {},
   "outputs": [],
   "source": [
    "# debug vector-based lemmatizer of new dataset 15th September 2023\n",
    "!python -m spacy debug data ../configs/lemmatizer_sm.cfg --paths.train ../corpus/train/lemma_train/ --paths.dev ../corpus/dev/lemma_dev/ --nlp.lang=grc"
   ]
  },
  {
   "cell_type": "code",
   "execution_count": null,
   "metadata": {},
   "outputs": [],
   "source": [
    "#  train lemmatizer with new dataset 15th september 2023\n",
    "!python -m spacy train ../configs/lemmatizer_sm.cfg  --output ../training/lemmatizer/small_4_oct --paths.train ../corpus/train/lemma_train/ --paths.dev ../corpus/dev/lemma_dev/ --gpu-id 0 --nlp.lang=grc"
   ]
  },
  {
   "cell_type": "code",
   "execution_count": null,
   "metadata": {},
   "outputs": [],
   "source": [
    "#  train lemmatizer with new dataset 3rd september 2023\n",
    "!python -m spacy train ../configs/lemmatizer_sm.cfg  --output ../training/lemmatizer/small_3_sep --paths.train ../corpus/train/lemma_train/ --paths.dev ../corpus/dev/lemma_dev/ --gpu-id 0 --nlp.lang=grc"
   ]
  },
  {
   "cell_type": "code",
   "execution_count": null,
   "metadata": {},
   "outputs": [],
   "source": [
    "!python -m spacy train ../configs/lemmatizer_sm.cfg  --output ../training/lemmatizer/small --paths.train ../corpus/train/lemma_train/ --paths.dev ../corpus/dev/lemma_dev/ --gpu-id 0 --nlp.lang=grc"
   ]
  },
  {
   "cell_type": "code",
   "execution_count": null,
   "metadata": {},
   "outputs": [],
   "source": [
    "!python -m spacy train ../configs/lemmatizer_vec.cfg  --output ../training/lemmatizer/t_large --paths.train ../corpus/train/t_lemma_train/  --paths.dev ../corpus/dev/t_lemma_dev/ --paths.vectors ../vectors/large --gpu-id 0 --nlp.lang=grc"
   ]
  },
  {
   "cell_type": "code",
   "execution_count": null,
   "metadata": {},
   "outputs": [],
   "source": [
    "!python -m spacy train ../configs/lemmatizer_trf.cfg  --output ../training/lemmatizer/trf --paths.train ../corpus/train/lemma_train/ --paths.dev ../corpus/dev/lemma_dev/ --gpu-id 0 --nlp.lang=grc\n"
   ]
  },
  {
   "cell_type": "markdown",
   "metadata": {},
   "source": [
    "## Same training, NFKD only"
   ]
  },
  {
   "cell_type": "code",
   "execution_count": null,
   "metadata": {},
   "outputs": [],
   "source": [
    "# debug vector-based lemmatizer NFKD only\n",
    "!python -m spacy debug data ../configs/lemmatizer_sm.cfg --paths.train ../corpus/train/lemma_train_NFKD/ --paths.dev ../corpus/dev/lemma_dev_NFKD/ --nlp.lang=grc"
   ]
  },
  {
   "cell_type": "code",
   "execution_count": null,
   "metadata": {},
   "outputs": [],
   "source": [
    "!python -m spacy train ../configs/lemmatizer_sm_NFKD_only.cfg  --output ../training/lemmatizer_NFKD/small --paths.train ../corpus/train/lemma_train_NFKD/ --paths.dev ../corpus/dev/lemma_dev_NFKD/ --gpu-id 0 --nlp.lang=grc"
   ]
  },
  {
   "cell_type": "markdown",
   "metadata": {},
   "source": [
    "# train transformer-based pipeline for POS and morphology"
   ]
  },
  {
   "cell_type": "code",
   "execution_count": null,
   "metadata": {},
   "outputs": [],
   "source": [
    "# Debug PoS data for transformer with lemmatizer (full texts db) 8th November 2023\n",
    "!python -m spacy debug data ../configs/transformer_proiel.cfg --paths.train ../corpus/train/pos_train/ --paths.dev ../corpus/dev/pos_dev/ --paths.lemmatizer_model ../training/lemmatizer/large_8_nov/model-best --nlp.lang=grc\n"
   ]
  },
  {
   "cell_type": "code",
   "execution_count": null,
   "metadata": {},
   "outputs": [],
   "source": [
    "# Training the transformer pipline with db proiel and pos_dev from 18th October 2023\n",
    "!python -m spacy train ../configs/transformer_proiel.cfg --output ../training/transformer/proiel/assembled/lg_lemmatizer_12_nov --paths.train ../corpus/train/pos_train/ --paths.dev ../corpus/dev/pos_dev/ --paths.lemmatizer_model ../training/lemmatizer/large_8_nov/model-best --training.logger.run_name \"greCy_pos_lg_lem_12_nov\" --gpu-id 0 --nlp.lang=grc"
   ]
  },
  {
   "cell_type": "code",
   "execution_count": null,
   "metadata": {},
   "outputs": [],
   "source": [
    "# Training the transformer with attributes woth new dataset 15 september 2023\n",
    "!python -m spacy train ../configs/transformer_proiel.cfg --output ../training/transformer/proiel/assembled/lg_lemmatizer_18_oct --paths.train ../corpus/train/pos_train/ --paths.dev ../corpus/dev/pos_dev/ --paths.lemmatizer_model ../training/lemmatizer/large_16_oct/model-best --training.logger.run_name \"greCy_pos_lg_lem_18_oct\" --gpu-id 0 --nlp.lang=grc\n"
   ]
  },
  {
   "cell_type": "code",
   "execution_count": null,
   "metadata": {},
   "outputs": [],
   "source": [
    "# Training the transformer with attributes woth new dataset 15 september 2023\n",
    "!python -m spacy train ../configs/transformer_proiel.cfg --output ../training/transformer/proiel/assembled/sm_lemmatizer_15_sep --paths.train ../corpus/train/pos_train/ --paths.dev ../corpus/dev/pos_dev/ --paths.lemmatizer_model ../training/lemmatizer/small_15_sep/model-best --training.logger.run_name \"greCy_pos_sm_lem_15_sep\" --gpu-id 0 --nlp.lang=grc\n"
   ]
  },
  {
   "cell_type": "code",
   "execution_count": null,
   "metadata": {},
   "outputs": [],
   "source": [
    "# Training the transformer with attributes woth new dataset 3rd september 2023\n",
    "!python -m spacy train ../configs/transformer_proiel.cfg --output ../training/transformer/proiel/assembled/sm_lemmatizer_3_sep --paths.train ../corpus/train/pos_train/ --paths.dev ../corpus/dev/pos_dev/ --paths.lemmatizer_model ../training/lemmatizer/small_3_sep/model-best --training.logger.run_name \"greCy_pos_sm_lem_3_sep\" --gpu-id 0 --nlp.lang=grc"
   ]
  },
  {
   "cell_type": "code",
   "execution_count": null,
   "metadata": {},
   "outputs": [],
   "source": [
    "# Training the transformer with attributes\n",
    "!python -m spacy debug data ../configs/transformer_proiel.cfg --paths.train ../corpus/train/pos_train/ --paths.dev ../corpus/dev/pos_dev/ --paths.lemmatizer_model ../training/lemmatizer/small/model-best --nlp.lang=grc"
   ]
  },
  {
   "cell_type": "code",
   "execution_count": null,
   "metadata": {},
   "outputs": [],
   "source": [
    "!python -m spacy train ../configs/transformer_proiel.cfg --output ../training/transformer/proiel/assembled/sm_lemmatizer --paths.train ../corpus/train/pos_train/ --paths.dev ../corpus/dev/pos_dev/ --paths.lemmatizer_model ../training/lemmatizer/small/model-best --training.logger.run_name \"greCy_pos_sm_lem\" --gpu-id 0 --nlp.lang=grc"
   ]
  },
  {
   "cell_type": "code",
   "execution_count": null,
   "metadata": {},
   "outputs": [],
   "source": [
    "!python -m spacy train ../configs/transformer_proiel.cfg --output ../training/transformer/proiel/assembled/sm_lemmatizer --paths.train ../corpus/train/pos_train/ --paths.dev ../corpus/dev/pos_dev/ --paths.lemmatizer_model ../training/lemmatizer/small/model-best --training.logger.run_name \"greCy_pos_sm_lem\" --gpu-id 0 --nlp.lang=grc"
   ]
  },
  {
   "cell_type": "code",
   "execution_count": null,
   "metadata": {},
   "outputs": [],
   "source": [
    "!python -m spacy train ../configs/transformer_proiel_pranaydeeps.cfg --output ../training/transformer/proiel/assembled/A_GreekBert_sm_lemmatizer --paths.train ../corpus/train/pos_train/ --paths.dev ../corpus/dev/pos_dev/ --paths.lemmatizer_model ../training/lemmatizer/small/model-best --training.logger.run_name \"A_GreekBert_Grecy_pos_sm_lem\" --gpu-id 0 --nlp.lang=grc"
   ]
  },
  {
   "cell_type": "code",
   "execution_count": null,
   "metadata": {},
   "outputs": [],
   "source": [
    "import spacy\n",
    "from spacy.tokens import DocBin\n",
    "nlp = spacy.load(\"grc_proiel_trf\") # Use your preferred model here\n"
   ]
  },
  {
   "cell_type": "code",
   "execution_count": null,
   "metadata": {},
   "outputs": [],
   "source": [
    "# load grc_proiel-ud-train_NFKD.spacy\n",
    "pos_corpus = DocBin().from_disk(\"../corpus/train/pos_train/grc_proiel-ud-train_NFKD.spacy\")\n",
    "pos_corpus_docs = list(pos_corpus.get_docs(nlp.vocab))\n",
    "\n",
    "for doc in pos_corpus_docs:\n",
    "    if len(doc.vocab.strings) > 0:\n",
    "        label_to_index = dict(doc.vocab.strings)\n",
    "        print(label_to_index)"
   ]
  },
  {
   "cell_type": "code",
   "execution_count": null,
   "metadata": {},
   "outputs": [],
   "source": [
    "# load grc_proiel-ud-train_NFKD.spacy\n",
    "pos_corpus = DocBin().from_disk(\"../corpus/train/pos_train/grc_proiel-ud-train_NFKD.spacy\")\n",
    "pos_corpus_docs = list(pos_corpus.get_docs(nlp.vocab))\n",
    "\n",
    "for doc in pos_corpus_docs:\n",
    "    # find tokens with attribute Df\n",
    "    for token in doc:\n",
    "        print(token.tag_)"
   ]
  },
  {
   "cell_type": "code",
   "execution_count": null,
   "metadata": {},
   "outputs": [],
   "source": [
    "doc = nlp(\"This is a sentence.\")\n",
    "label_to_index = doc.vocab.strings\n",
    "print(label_to_index)"
   ]
  },
  {
   "cell_type": "code",
   "execution_count": null,
   "metadata": {},
   "outputs": [],
   "source": [
    "for doc in docs:\n",
    "    doc = nlp(doc)\n",
    "    for token in doc:\n",
    "        print(token.text, token.lemma_, token.pos_)"
   ]
  },
  {
   "cell_type": "code",
   "execution_count": null,
   "metadata": {},
   "outputs": [],
   "source": [
    "for doc in docs:\n",
    "    print(doc.text)\n",
    "    label_to_index = doc.vocab.strings\n",
    "    label_to_index_dict = dict(label_to_index)\n",
    "    print(label_to_index_dict)"
   ]
  },
  {
   "cell_type": "code",
   "execution_count": null,
   "metadata": {},
   "outputs": [],
   "source": [
    "!python -m spacy debug data ../configs/transformer_proiel.cfg --paths.train ../corpus/train/pos_train/pos_train_NFKD.spacy --paths.dev ../corpus/dev/pos_dev/pos_dev_NFKD.spacy --paths.lemmatizer_model ../training/lemmatizer/t_large/model-best --paths.vectors ../vectors/large --nlp.lang=grc"
   ]
  },
  {
   "cell_type": "code",
   "execution_count": null,
   "metadata": {},
   "outputs": [],
   "source": [
    "# train POS pipeline with large lemmatizer\n",
    "!python -m spacy train ../configs/transformer_proiel.cfg --output ../training/transformer/proiel/assembled/t_lg_lemmatizer --paths.train ../corpus/train/pos_train/pos_train_NFKD.spacy --paths.dev ../corpus/dev/pos_dev/pos_dev_NFKD.spacy --paths.lemmatizer_model ../training/lemmatizer/t_large/model-best --paths.vectors ../vectors/large --training.logger.run_name \"t_greCy_pos_lg_lem\" --gpu-id 0 --nlp.lang=grc"
   ]
  },
  {
   "cell_type": "code",
   "execution_count": null,
   "metadata": {},
   "outputs": [],
   "source": [
    "# train POS pipeline with trf lemmatizer\n",
    "!python -m spacy train ../configs/transformer_proiel.cfg --output ../training/transformer/proiel/assembled/trf_lemmatizer --paths.train ../corpus/train/pos_train/ --paths.dev ../corpus/dev/pos_dev/ --paths.lemmatizer_model ../training/lemmatizer/trf/model-best --training.logger.run_name \"greCy_pos_trf_lem\" --gpu-id 0 --nlp.lang=grc"
   ]
  },
  {
   "cell_type": "markdown",
   "metadata": {},
   "source": [
    "## same training, NFKD only"
   ]
  },
  {
   "cell_type": "code",
   "execution_count": null,
   "metadata": {},
   "outputs": [],
   "source": [
    "# Training the transformer with attributes\n",
    "!python -m spacy debug data ../configs/transformer_proiel_NFKD_only.cfg --paths.train ../corpus/train/pos_train_NFKD/ --paths.dev ../corpus/dev/pos_dev_NFKD/ --paths.lemmatizer_model ../training/lemmatizer_NFKD/small/model-best --nlp.lang=grc"
   ]
  },
  {
   "cell_type": "code",
   "execution_count": null,
   "metadata": {},
   "outputs": [],
   "source": [
    "!python -m spacy train ../configs/transformer_proiel_NFKD_only.cfg --output ../training/transformer/proiel/assembled/sm_lemmatizer_NFKD_only --paths.train ../corpus/train/pos_train_NFKD/ --paths.dev ../corpus/dev/pos_dev_NFKD/ --paths.lemmatizer_model ../training/lemmatizer_NFKD/small/model-best --training.logger.run_name \"greCy_pos_sm_lem_NFKD_only\" --gpu-id 0 --nlp.lang=grc"
   ]
  },
  {
   "cell_type": "markdown",
   "metadata": {},
   "source": [
    "# train the NER model"
   ]
  },
  {
   "cell_type": "code",
   "execution_count": null,
   "metadata": {},
   "outputs": [],
   "source": [
    "# train the spancat model with full txts db 21 may 2024\n",
    "!python -m spacy train ../configs/ner_2Xnorm-SpanCategorizer_new.cfg --output ../training/ATLOMY_G_NER_pipeline/spancat_210524_new/ --paths.train ../corpus/train/spancat_train/ --paths.dev ../corpus/dev/spancat_dev/ --paths.source_path ../training/SageMaker/transformer/PROIEL/Assembled/pos-trf-11-may-2024/model-best --training.logger.run_name \"greCy_NER_2xnorm_spancat_210524_newcfg\" --gpu-id 0 --nlp.lang=grc\n"
   ]
  },
  {
   "cell_type": "code",
   "execution_count": 6,
   "metadata": {},
   "outputs": [
    {
     "name": "stdout",
     "output_type": "stream",
     "text": [
      "\u001b[38;5;2m✔ Created output directory:\n",
      "../training/ATLOMY_G_NER_pipeline/spancat_210524_NFKD_batcher\u001b[0m\n",
      "\u001b[38;5;4mℹ Saving to output directory:\n",
      "../training/ATLOMY_G_NER_pipeline/spancat_210524_NFKD_batcher\u001b[0m\n",
      "\u001b[38;5;4mℹ Using GPU: 0\u001b[0m\n",
      "\u001b[1m\n",
      "=========================== Initializing pipeline ===========================\u001b[0m\n",
      "/root/anaconda3/envs/atlomy_nlp/lib/python3.11/site-packages/spacy_transformers/layers/hf_shim.py:137: UserWarning: Error loading saved torch state_dict with strict=True, likely due to differences between 'transformers' versions. Attempting to load with strict=False as a fallback...\n",
      "\n",
      "If you see errors or degraded performance, download a newer compatible model or retrain your custom model with the current 'transformers' and 'spacy-transformers' versions. For more details and available updates, run: python -m spacy validate\n",
      "  warnings.warn(warn_msg)\n",
      "/root/anaconda3/envs/atlomy_nlp/lib/python3.11/site-packages/spacy/util.py:910: UserWarning: [W095] Model 'grc_pipeline' (0.0.0) was trained with spaCy v3.5.3 and may not be 100% compatible with the current version (3.7.4). If you see errors or degraded performance, download a newer compatible model or retrain your custom model with the current spaCy version. For more details and available updates, run: python -m spacy validate\n",
      "  warnings.warn(warn_msg)\n",
      "\u001b[38;5;2m✔ Initialized pipeline\u001b[0m\n",
      "\u001b[1m\n",
      "============================= Training pipeline =============================\u001b[0m\n",
      "\u001b[38;5;4mℹ Pipeline: ['transformer', 'spancat']\u001b[0m\n",
      "\u001b[38;5;4mℹ Frozen components: ['transformer']\u001b[0m\n",
      "\u001b[38;5;4mℹ Set annotations on update for: ['transformer']\u001b[0m\n",
      "\u001b[38;5;4mℹ Initial learn rate: 0.0\u001b[0m\n",
      "E    #       LOSS SPANCAT  SPANS_SC_F  SPANS_SC_P  SPANS_SC_R  SCORE \n",
      "---  ------  ------------  ----------  ----------  ----------  ------\n",
      "\u001b[34m\u001b[1mwandb\u001b[0m: Currently logged in as: \u001b[33matlomy\u001b[0m (\u001b[33matlomy-nlp\u001b[0m). Use \u001b[1m`wandb login --relogin`\u001b[0m to force relogin\n",
      "\u001b[34m\u001b[1mwandb\u001b[0m: wandb version 0.17.0 is available!  To upgrade, please run:\n",
      "\u001b[34m\u001b[1mwandb\u001b[0m:  $ pip install wandb --upgrade\n",
      "\u001b[34m\u001b[1mwandb\u001b[0m: Tracking run with wandb version 0.15.4\n",
      "\u001b[34m\u001b[1mwandb\u001b[0m: Run data is saved locally in \u001b[35m\u001b[1m/root/Projects/Atlomy/git/greCy_ATLOMY/src/wandb/run-20240521_204116-jpk0blk1\u001b[0m\n",
      "\u001b[34m\u001b[1mwandb\u001b[0m: Run \u001b[1m`wandb offline`\u001b[0m to turn off syncing.\n",
      "\u001b[34m\u001b[1mwandb\u001b[0m: Syncing run \u001b[33msplendid-smoke-185\u001b[0m\n",
      "\u001b[34m\u001b[1mwandb\u001b[0m: ⭐️ View project at \u001b[34m\u001b[4mhttps://wandb.ai/atlomy-nlp/Category%20Types%20%28Greek%20NER%29\u001b[0m\n",
      "\u001b[34m\u001b[1mwandb\u001b[0m: 🚀 View run at \u001b[34m\u001b[4mhttps://wandb.ai/atlomy-nlp/Category%20Types%20%28Greek%20NER%29/runs/jpk0blk1\u001b[0m\n",
      "  0       0       2253.78        2.56        1.31       70.03    0.39\n",
      " 10     200     394888.87        3.86        6.21        2.80    0.04\n",
      "\u001b[34m\u001b[1mwandb\u001b[0m: Adding directory to artifact (./../training/ATLOMY_G_NER_pipeline/spancat_210524_NFKD_batcher/model-last)... Done. 0.7s\n",
      " 20     400      16510.70       52.11       75.53       39.78    0.50\n",
      "\u001b[34m\u001b[1mwandb\u001b[0m: Adding directory to artifact (./../training/ATLOMY_G_NER_pipeline/spancat_210524_NFKD_batcher/model-last)... Done. 0.7s\n",
      " 31     600      13313.35       60.14       77.78       49.02    0.57\n",
      "\u001b[34m\u001b[1mwandb\u001b[0m: Adding directory to artifact (./../training/ATLOMY_G_NER_pipeline/spancat_210524_NFKD_batcher/model-last)... Done. 0.7s\n",
      " 41     800      12124.06       63.19       78.99       52.66    0.60\n",
      "\u001b[34m\u001b[1mwandb\u001b[0m: Adding directory to artifact (./../training/ATLOMY_G_NER_pipeline/spancat_210524_NFKD_batcher/model-last)... Done. 0.7s\n",
      " 52    1000      11340.94       64.98       81.43       54.06    0.62\n",
      "\u001b[34m\u001b[1mwandb\u001b[0m: Adding directory to artifact (./../training/ATLOMY_G_NER_pipeline/spancat_210524_NFKD_batcher/model-last)... Done. 0.7s\n",
      " 63    1200      10771.74       66.11       81.82       55.46    0.63\n",
      "\u001b[34m\u001b[1mwandb\u001b[0m: Adding directory to artifact (./../training/ATLOMY_G_NER_pipeline/spancat_210524_NFKD_batcher/model-last)... Done. 0.8s\n",
      " 74    1400      10184.70       66.33       81.89       55.74    0.63\n",
      "\u001b[34m\u001b[1mwandb\u001b[0m: Adding directory to artifact (./../training/ATLOMY_G_NER_pipeline/spancat_210524_NFKD_batcher/model-last)... Done. 0.7s\n",
      " 84    1600       9639.31       67.55       82.59       57.14    0.65\n",
      "\u001b[34m\u001b[1mwandb\u001b[0m: Adding directory to artifact (./../training/ATLOMY_G_NER_pipeline/spancat_210524_NFKD_batcher/model-last)... Done. 0.7s\n",
      " 95    1800       9337.35       67.33       81.93       57.14    0.64\n",
      "\u001b[34m\u001b[1mwandb\u001b[0m: Adding directory to artifact (./../training/ATLOMY_G_NER_pipeline/spancat_210524_NFKD_batcher/model-last)... Done. 0.7s\n",
      "105    2000       8976.12       67.33       82.52       56.86    0.64\n",
      "\u001b[34m\u001b[1mwandb\u001b[0m: Adding directory to artifact (./../training/ATLOMY_G_NER_pipeline/spancat_210524_NFKD_batcher/model-last)... Done. 0.7s\n",
      "116    2200       8491.53       67.33       81.93       57.14    0.64\n",
      "\u001b[34m\u001b[1mwandb\u001b[0m: Adding directory to artifact (./../training/ATLOMY_G_NER_pipeline/spancat_210524_NFKD_batcher/model-last)... Done. 0.7s\n",
      "126    2400       8354.80       67.43       81.67       57.42    0.64\n",
      "\u001b[34m\u001b[1mwandb\u001b[0m: Adding directory to artifact (./../training/ATLOMY_G_NER_pipeline/spancat_210524_NFKD_batcher/model-last)... Done. 0.7s\n",
      "137    2600       7929.97       67.87       82.40       57.70    0.65\n",
      "\u001b[34m\u001b[1mwandb\u001b[0m: Adding directory to artifact (./../training/ATLOMY_G_NER_pipeline/spancat_210524_NFKD_batcher/model-last)... Done. 0.7s\n",
      "148    2800       7649.03       68.74       82.68       58.82    0.66\n",
      "\u001b[34m\u001b[1mwandb\u001b[0m: Adding directory to artifact (./../training/ATLOMY_G_NER_pipeline/spancat_210524_NFKD_batcher/model-last)... Done. 0.8s\n",
      "158    3000       7324.86       68.63       82.35       58.82    0.66\n",
      "\u001b[34m\u001b[1mwandb\u001b[0m: Adding directory to artifact (./../training/ATLOMY_G_NER_pipeline/spancat_210524_NFKD_batcher/model-last)... Done. 0.7s\n",
      "169    3200       6988.59       68.51       81.47       59.10    0.66\n",
      "\u001b[34m\u001b[1mwandb\u001b[0m: Adding directory to artifact (./../training/ATLOMY_G_NER_pipeline/spancat_210524_NFKD_batcher/model-last)... Done. 0.7s\n",
      "180    3400       6693.90       68.28       80.84       59.10    0.65\n",
      "\u001b[34m\u001b[1mwandb\u001b[0m: Adding directory to artifact (./../training/ATLOMY_G_NER_pipeline/spancat_210524_NFKD_batcher/model-last)... Done. 0.7s\n",
      "190    3600       6554.53       67.96       80.46       58.82    0.65\n",
      "\u001b[34m\u001b[1mwandb\u001b[0m: Adding directory to artifact (./../training/ATLOMY_G_NER_pipeline/spancat_210524_NFKD_batcher/model-last)... Done. 0.7s\n",
      "201    3800       6439.38       67.42       79.47       58.54    0.65\n",
      "\u001b[34m\u001b[1mwandb\u001b[0m: Adding directory to artifact (./../training/ATLOMY_G_NER_pipeline/spancat_210524_NFKD_batcher/model-last)... Done. 0.7s\n",
      "211    4000       6089.62       67.95       79.92       59.10    0.65\n",
      "\u001b[34m\u001b[1mwandb\u001b[0m: Adding directory to artifact (./../training/ATLOMY_G_NER_pipeline/spancat_210524_NFKD_batcher/model-last)... Done. 0.7s\n",
      "222    4200       6062.16       68.17       80.00       59.38    0.65\n",
      "\u001b[34m\u001b[1mwandb\u001b[0m: Adding directory to artifact (./../training/ATLOMY_G_NER_pipeline/spancat_210524_NFKD_batcher/model-last)... Done. 0.7s\n",
      "233    4400       5848.82       68.49       80.38       59.66    0.66\n",
      "\u001b[34m\u001b[1mwandb\u001b[0m: Adding directory to artifact (./../training/ATLOMY_G_NER_pipeline/spancat_210524_NFKD_batcher/model-last)... Done. 0.7s\n",
      "243    4600       5611.22       68.28       80.30       59.38    0.66\n",
      "\u001b[34m\u001b[1mwandb\u001b[0m: Adding directory to artifact (./../training/ATLOMY_G_NER_pipeline/spancat_210524_NFKD_batcher/model-last)... Done. 0.7s\n",
      "254    4800       5527.82       68.17       80.53       59.10    0.65\n",
      "\u001b[34m\u001b[1mwandb\u001b[0m: Adding directory to artifact (./../training/ATLOMY_G_NER_pipeline/spancat_210524_NFKD_batcher/model-last)... Done. 0.7s\n",
      "265    5000       5283.07       68.40       81.15       59.10    0.66\n",
      "\u001b[34m\u001b[1mwandb\u001b[0m: Adding directory to artifact (./../training/ATLOMY_G_NER_pipeline/spancat_210524_NFKD_batcher/model-last)... Done. 0.7s\n",
      "275    5200       5137.44       68.28       80.84       59.10    0.65\n",
      "\u001b[34m\u001b[1mwandb\u001b[0m: Adding directory to artifact (./../training/ATLOMY_G_NER_pipeline/spancat_210524_NFKD_batcher/model-last)... Done. 0.7s\n",
      "286    5400       5098.23       68.51       81.47       59.10    0.66\n",
      "\u001b[34m\u001b[1mwandb\u001b[0m: Adding directory to artifact (./../training/ATLOMY_G_NER_pipeline/spancat_210524_NFKD_batcher/model-last)... Done. 0.9s\n",
      "296    5600       4789.32       68.51       81.47       59.10    0.66\n",
      "\u001b[34m\u001b[1mwandb\u001b[0m: Adding directory to artifact (./../training/ATLOMY_G_NER_pipeline/spancat_210524_NFKD_batcher/model-last)... Done. 0.7s\n",
      "307    5800       4652.04       68.40       81.15       59.10    0.66\n",
      "\u001b[34m\u001b[1mwandb\u001b[0m: Adding directory to artifact (./../training/ATLOMY_G_NER_pipeline/spancat_210524_NFKD_batcher/model-last)... Done. 0.8s\n",
      "317    6000       4592.38       68.40       81.15       59.10    0.66\n",
      "\u001b[34m\u001b[1mwandb\u001b[0m: Adding directory to artifact (./../training/ATLOMY_G_NER_pipeline/spancat_210524_NFKD_batcher/model-last)... Done. 0.7s\n",
      "328    6200       4521.42       68.40       81.15       59.10    0.66\n",
      "\u001b[34m\u001b[1mwandb\u001b[0m: Adding directory to artifact (./../training/ATLOMY_G_NER_pipeline/spancat_210524_NFKD_batcher/model-last)... Done. 0.7s\n",
      "339    6400       4411.04       68.28       80.84       59.10    0.65\n",
      "\u001b[34m\u001b[1mwandb\u001b[0m: Adding directory to artifact (./../training/ATLOMY_G_NER_pipeline/spancat_210524_NFKD_batcher/model-last)... Done. 0.9s\n",
      "349    6600       4166.99       68.39       80.61       59.38    0.66\n",
      "\u001b[34m\u001b[1mwandb\u001b[0m: Adding directory to artifact (./../training/ATLOMY_G_NER_pipeline/spancat_210524_NFKD_batcher/model-last)... Done. 0.7s\n",
      "360    6800       4102.86       68.17       80.53       59.10    0.65\n",
      "\u001b[34m\u001b[1mwandb\u001b[0m: Adding directory to artifact (./../training/ATLOMY_G_NER_pipeline/spancat_210524_NFKD_batcher/model-last)... Done. 0.8s\n",
      "370    7000       4128.54       68.06       80.23       59.10    0.65\n",
      "\u001b[34m\u001b[1mwandb\u001b[0m: Adding directory to artifact (./../training/ATLOMY_G_NER_pipeline/spancat_210524_NFKD_batcher/model-last)... Done. 0.7s\n",
      "381    7200       3999.26       68.17       80.53       59.10    0.65\n",
      "\u001b[34m\u001b[1mwandb\u001b[0m: Adding directory to artifact (./../training/ATLOMY_G_NER_pipeline/spancat_210524_NFKD_batcher/model-last)... Done. 0.7s\n",
      "391    7400       4039.45       68.39       80.61       59.38    0.66\n",
      "\u001b[34m\u001b[1mwandb\u001b[0m: Adding directory to artifact (./../training/ATLOMY_G_NER_pipeline/spancat_210524_NFKD_batcher/model-last)... Done. 0.7s\n",
      "402    7600       3873.63       68.39       80.61       59.38    0.66\n",
      "\u001b[34m\u001b[1mwandb\u001b[0m: Adding directory to artifact (./../training/ATLOMY_G_NER_pipeline/spancat_210524_NFKD_batcher/model-last)... Done. 0.7s\n",
      "413    7800       3807.02       68.39       80.61       59.38    0.66\n",
      "\u001b[34m\u001b[1mwandb\u001b[0m: Adding directory to artifact (./../training/ATLOMY_G_NER_pipeline/spancat_210524_NFKD_batcher/model-last)... Done. 0.7s\n",
      "\u001b[34m\u001b[1mwandb\u001b[0m: Waiting for W&B process to finish... \u001b[32m(success).\u001b[0m\n",
      "\u001b[34m\u001b[1mwandb\u001b[0m: \n",
      "\u001b[34m\u001b[1mwandb\u001b[0m: Run history:\n",
      "\u001b[34m\u001b[1mwandb\u001b[0m: loss_spancat ▁█▁▁▁▁▁▁▁▁▁▁▁▁▁▁▁▁▁▁▁▁▁▁▁▁▁▁▁▁▁▁▁▁▁▁▁▁▁▁\n",
      "\u001b[34m\u001b[1mwandb\u001b[0m:        score ▅▁▆▇▇███████████████████████████████████\n",
      "\u001b[34m\u001b[1mwandb\u001b[0m:   spans_sc_f ▁▁▆▇▇███████████████████████████████████\n",
      "\u001b[34m\u001b[1mwandb\u001b[0m:   spans_sc_p ▁▁▇█████████████████████████████████████\n",
      "\u001b[34m\u001b[1mwandb\u001b[0m:   spans_sc_r █▁▅▆▆▆▆▇▇▇▇▇▇▇▇▇▇▇▇▇▇▇▇▇▇▇▇▇▇▇▇▇▇▇▇▇▇▇▇▇\n",
      "\u001b[34m\u001b[1mwandb\u001b[0m:        speed ▁▆▆▇▆█▃▃▃▇█▆▃█▇▆█▃▆█▃▇▆█▂▆▃█▃▆▃███▃▃▂▃▆█\n",
      "\u001b[34m\u001b[1mwandb\u001b[0m:    token_acc ▁▁▁▁▁▁▁▁▁▁▁▁▁▁▁▁▁▁▁▁▁▁▁▁▁▁▁▁▁▁▁▁▁▁▁▁▁▁▁▁\n",
      "\u001b[34m\u001b[1mwandb\u001b[0m:      token_f ▁▁▁▁▁▁▁▁▁▁▁▁▁▁▁▁▁▁▁▁▁▁▁▁▁▁▁▁▁▁▁▁▁▁▁▁▁▁▁▁\n",
      "\u001b[34m\u001b[1mwandb\u001b[0m:      token_p ▁▁▁▁▁▁▁▁▁▁▁▁▁▁▁▁▁▁▁▁▁▁▁▁▁▁▁▁▁▁▁▁▁▁▁▁▁▁▁▁\n",
      "\u001b[34m\u001b[1mwandb\u001b[0m:      token_r ▁▁▁▁▁▁▁▁▁▁▁▁▁▁▁▁▁▁▁▁▁▁▁▁▁▁▁▁▁▁▁▁▁▁▁▁▁▁▁▁\n",
      "\u001b[34m\u001b[1mwandb\u001b[0m: \n",
      "\u001b[34m\u001b[1mwandb\u001b[0m: Run summary:\n",
      "\u001b[34m\u001b[1mwandb\u001b[0m: loss_spancat 3807.01868\n",
      "\u001b[34m\u001b[1mwandb\u001b[0m:        score 0.65635\n",
      "\u001b[34m\u001b[1mwandb\u001b[0m:   spans_sc_f 0.68387\n",
      "\u001b[34m\u001b[1mwandb\u001b[0m:   spans_sc_p 0.80608\n",
      "\u001b[34m\u001b[1mwandb\u001b[0m:   spans_sc_r 0.59384\n",
      "\u001b[34m\u001b[1mwandb\u001b[0m:        speed 12142.73115\n",
      "\u001b[34m\u001b[1mwandb\u001b[0m:    token_acc 1.0\n",
      "\u001b[34m\u001b[1mwandb\u001b[0m:      token_f 1.0\n",
      "\u001b[34m\u001b[1mwandb\u001b[0m:      token_p 1.0\n",
      "\u001b[34m\u001b[1mwandb\u001b[0m:      token_r 1.0\n",
      "\u001b[34m\u001b[1mwandb\u001b[0m: \n",
      "\u001b[34m\u001b[1mwandb\u001b[0m: 🚀 View run \u001b[33msplendid-smoke-185\u001b[0m at: \u001b[34m\u001b[4mhttps://wandb.ai/atlomy-nlp/Category%20Types%20%28Greek%20NER%29/runs/jpk0blk1\u001b[0m\n",
      "\u001b[34m\u001b[1mwandb\u001b[0m: Synced 6 W&B file(s), 0 media file(s), 468 artifact file(s) and 0 other file(s)\n",
      "\u001b[34m\u001b[1mwandb\u001b[0m: Find logs at: \u001b[35m\u001b[1m./wandb/run-20240521_204116-jpk0blk1/logs\u001b[0m\n",
      "\u001b[38;5;2m✔ Saved pipeline to output directory\u001b[0m\n",
      "../training/ATLOMY_G_NER_pipeline/spancat_210524_NFKD_batcher/model-last\n"
     ]
    }
   ],
   "source": [
    "# train the spancat model with full txts db 21 may 2024 with NFKD ONLY\n",
    "!python -m spacy train ../configs/ner_2Xnorm-SpanCategorizer.cfg --output ../training/ATLOMY_G_NER_pipeline/spancat_210524_NFKD_batcher/ --paths.train ../corpus/train/spancat_train/spancat_train_NFKD.spacy --paths.dev ../corpus/dev/spancat_dev/spancat_dev_NFKD.spacy --paths.source_path ../training/SageMaker/transformer/PROIEL/Assembled/pos-trf-11-may-2024/model-best --training.logger.run_name \"greCy_NER_2xnorm_spancat_210524_NFKD_batcher\" --gpu-id 0 --nlp.lang=grc\n"
   ]
  },
  {
   "cell_type": "code",
   "execution_count": 5,
   "metadata": {},
   "outputs": [
    {
     "name": "stdout",
     "output_type": "stream",
     "text": [
      "\u001b[38;5;2m✔ Created output directory:\n",
      "../training/ATLOMY_G_NER_pipeline/spancat_210524_NFKD\u001b[0m\n",
      "\u001b[38;5;4mℹ Saving to output directory:\n",
      "../training/ATLOMY_G_NER_pipeline/spancat_210524_NFKD\u001b[0m\n",
      "\u001b[38;5;4mℹ Using GPU: 0\u001b[0m\n",
      "\u001b[1m\n",
      "=========================== Initializing pipeline ===========================\u001b[0m\n",
      "/root/anaconda3/envs/atlomy_nlp/lib/python3.11/site-packages/spacy_transformers/layers/hf_shim.py:137: UserWarning: Error loading saved torch state_dict with strict=True, likely due to differences between 'transformers' versions. Attempting to load with strict=False as a fallback...\n",
      "\n",
      "If you see errors or degraded performance, download a newer compatible model or retrain your custom model with the current 'transformers' and 'spacy-transformers' versions. For more details and available updates, run: python -m spacy validate\n",
      "  warnings.warn(warn_msg)\n",
      "/root/anaconda3/envs/atlomy_nlp/lib/python3.11/site-packages/spacy/util.py:910: UserWarning: [W095] Model 'grc_pipeline' (0.0.0) was trained with spaCy v3.5.3 and may not be 100% compatible with the current version (3.7.4). If you see errors or degraded performance, download a newer compatible model or retrain your custom model with the current spaCy version. For more details and available updates, run: python -m spacy validate\n",
      "  warnings.warn(warn_msg)\n",
      "\u001b[38;5;2m✔ Initialized pipeline\u001b[0m\n",
      "\u001b[1m\n",
      "============================= Training pipeline =============================\u001b[0m\n",
      "\u001b[38;5;4mℹ Pipeline: ['transformer', 'spancat']\u001b[0m\n",
      "\u001b[38;5;4mℹ Frozen components: ['transformer']\u001b[0m\n",
      "\u001b[38;5;4mℹ Set annotations on update for: ['transformer']\u001b[0m\n",
      "\u001b[38;5;4mℹ Initial learn rate: 0.0\u001b[0m\n",
      "E    #       LOSS SPANCAT  SPANS_SC_F  SPANS_SC_P  SPANS_SC_R  SCORE \n",
      "---  ------  ------------  ----------  ----------  ----------  ------\n",
      "\u001b[34m\u001b[1mwandb\u001b[0m: Currently logged in as: \u001b[33matlomy\u001b[0m (\u001b[33matlomy-nlp\u001b[0m). Use \u001b[1m`wandb login --relogin`\u001b[0m to force relogin\n",
      "\u001b[34m\u001b[1mwandb\u001b[0m: wandb version 0.17.0 is available!  To upgrade, please run:\n",
      "\u001b[34m\u001b[1mwandb\u001b[0m:  $ pip install wandb --upgrade\n",
      "\u001b[34m\u001b[1mwandb\u001b[0m: Tracking run with wandb version 0.15.4\n",
      "\u001b[34m\u001b[1mwandb\u001b[0m: Run data is saved locally in \u001b[35m\u001b[1m/root/Projects/Atlomy/git/greCy_ATLOMY/src/wandb/run-20240521_195839-qhoxtdn1\u001b[0m\n",
      "\u001b[34m\u001b[1mwandb\u001b[0m: Run \u001b[1m`wandb offline`\u001b[0m to turn off syncing.\n",
      "\u001b[34m\u001b[1mwandb\u001b[0m: Syncing run \u001b[33mpleasant-feather-184\u001b[0m\n",
      "\u001b[34m\u001b[1mwandb\u001b[0m: ⭐️ View project at \u001b[34m\u001b[4mhttps://wandb.ai/atlomy-nlp/Category%20Types%20%28Greek%20NER%29\u001b[0m\n",
      "\u001b[34m\u001b[1mwandb\u001b[0m: 🚀 View run at \u001b[34m\u001b[4mhttps://wandb.ai/atlomy-nlp/Category%20Types%20%28Greek%20NER%29/runs/qhoxtdn1\u001b[0m\n",
      "  0       0      18319.19        1.68        0.85       70.03    0.36\n",
      " 29     200    1776408.98        2.87        5.38        1.96    0.03\n",
      "\u001b[34m\u001b[1mwandb\u001b[0m: Adding directory to artifact (./../training/ATLOMY_G_NER_pipeline/spancat_210524_NFKD/model-last)... Done. 0.7s\n",
      " 58     400      47250.92       57.85       78.10       45.94    0.56\n",
      "\u001b[34m\u001b[1mwandb\u001b[0m: Adding directory to artifact (./../training/ATLOMY_G_NER_pipeline/spancat_210524_NFKD/model-last)... Done. 0.9s\n",
      " 87     600      36583.13       62.50       78.72       51.82    0.60\n",
      "\u001b[34m\u001b[1mwandb\u001b[0m: Adding directory to artifact (./../training/ATLOMY_G_NER_pipeline/spancat_210524_NFKD/model-last)... Done. 0.8s\n",
      "116     800      32519.97       66.78       82.04       56.30    0.65\n",
      "\u001b[34m\u001b[1mwandb\u001b[0m: Adding directory to artifact (./../training/ATLOMY_G_NER_pipeline/spancat_210524_NFKD/model-last)... Done. 0.8s\n",
      "145    1000      30134.62       68.00       83.95       57.14    0.66\n",
      "\u001b[34m\u001b[1mwandb\u001b[0m: Adding directory to artifact (./../training/ATLOMY_G_NER_pipeline/spancat_210524_NFKD/model-last)... Done. 1.0s\n",
      "174    1200      27070.76       66.89       82.99       56.02    0.65\n",
      "\u001b[34m\u001b[1mwandb\u001b[0m: Adding directory to artifact (./../training/ATLOMY_G_NER_pipeline/spancat_210524_NFKD/model-last)... Done. 0.7s\n",
      "203    1400      25679.85       67.32       81.35       57.42    0.65\n",
      "\u001b[34m\u001b[1mwandb\u001b[0m: Adding directory to artifact (./../training/ATLOMY_G_NER_pipeline/spancat_210524_NFKD/model-last)... Done. 0.7s\n",
      "232    1600      23668.80       68.09       82.47       57.98    0.66\n",
      "\u001b[34m\u001b[1mwandb\u001b[0m: Adding directory to artifact (./../training/ATLOMY_G_NER_pipeline/spancat_210524_NFKD/model-last)... Done. 0.8s\n",
      "261    1800      22257.11       68.63       82.35       58.82    0.66\n",
      "\u001b[34m\u001b[1mwandb\u001b[0m: Adding directory to artifact (./../training/ATLOMY_G_NER_pipeline/spancat_210524_NFKD/model-last)... Done. 0.9s\n",
      "290    2000      20493.54       68.52       82.03       58.82    0.66\n",
      "\u001b[34m\u001b[1mwandb\u001b[0m: Adding directory to artifact (./../training/ATLOMY_G_NER_pipeline/spancat_210524_NFKD/model-last)... Done. 0.7s\n",
      "318    2200      19127.41       67.96       80.46       58.82    0.66\n",
      "\u001b[34m\u001b[1mwandb\u001b[0m: Adding directory to artifact (./../training/ATLOMY_G_NER_pipeline/spancat_210524_NFKD/model-last)... Done. 0.7s\n",
      "347    2400      18247.64       67.42       80.00       58.26    0.65\n",
      "\u001b[34m\u001b[1mwandb\u001b[0m: Adding directory to artifact (./../training/ATLOMY_G_NER_pipeline/spancat_210524_NFKD/model-last)... Done. 0.7s\n",
      "376    2600      17219.58       67.10       79.62       57.98    0.65\n",
      "\u001b[34m\u001b[1mwandb\u001b[0m: Adding directory to artifact (./../training/ATLOMY_G_NER_pipeline/spancat_210524_NFKD/model-last)... Done. 0.7s\n",
      "405    2800      16263.91       67.21       79.92       57.98    0.65\n",
      "\u001b[34m\u001b[1mwandb\u001b[0m: Adding directory to artifact (./../training/ATLOMY_G_NER_pipeline/spancat_210524_NFKD/model-last)... Done. 0.7s\n",
      "434    3000      15403.58       66.77       79.23       57.70    0.65\n",
      "\u001b[34m\u001b[1mwandb\u001b[0m: Adding directory to artifact (./../training/ATLOMY_G_NER_pipeline/spancat_210524_NFKD/model-last)... Done. 0.7s\n",
      "463    3200      14686.06       67.42       79.47       58.54    0.65\n",
      "\u001b[34m\u001b[1mwandb\u001b[0m: Adding directory to artifact (./../training/ATLOMY_G_NER_pipeline/spancat_210524_NFKD/model-last)... Done. 0.7s\n",
      "492    3400      13702.15       66.56       78.63       57.70    0.65\n",
      "\u001b[34m\u001b[1mwandb\u001b[0m: Adding directory to artifact (./../training/ATLOMY_G_NER_pipeline/spancat_210524_NFKD/model-last)... Done. 0.7s\n",
      "521    3600      13175.54       66.77       78.71       57.98    0.65\n",
      "\u001b[34m\u001b[1mwandb\u001b[0m: Adding directory to artifact (./../training/ATLOMY_G_NER_pipeline/spancat_210524_NFKD/model-last)... Done. 0.7s\n",
      "551    3800      12545.34       66.45       77.82       57.98    0.64\n",
      "\u001b[34m\u001b[1mwandb\u001b[0m: Adding directory to artifact (./../training/ATLOMY_G_NER_pipeline/spancat_210524_NFKD/model-last)... Done. 0.7s\n",
      "580    4000      12127.89       66.24       77.24       57.98    0.64\n",
      "\u001b[34m\u001b[1mwandb\u001b[0m: Adding directory to artifact (./../training/ATLOMY_G_NER_pipeline/spancat_210524_NFKD/model-last)... Done. 0.7s\n",
      "609    4200      11392.96       66.56       77.61       58.26    0.65\n",
      "\u001b[34m\u001b[1mwandb\u001b[0m: Adding directory to artifact (./../training/ATLOMY_G_NER_pipeline/spancat_210524_NFKD/model-last)... Done. 0.7s\n",
      "638    4400      10894.77       66.56       77.61       58.26    0.65\n",
      "\u001b[34m\u001b[1mwandb\u001b[0m: Adding directory to artifact (./../training/ATLOMY_G_NER_pipeline/spancat_210524_NFKD/model-last)... Done. 0.7s\n",
      "667    4600      10354.14       66.77       78.20       58.26    0.65\n",
      "\u001b[34m\u001b[1mwandb\u001b[0m: Adding directory to artifact (./../training/ATLOMY_G_NER_pipeline/spancat_210524_NFKD/model-last)... Done. 0.7s\n",
      "696    4800       9829.48       66.56       78.11       57.98    0.65\n",
      "\u001b[34m\u001b[1mwandb\u001b[0m: Adding directory to artifact (./../training/ATLOMY_G_NER_pipeline/spancat_210524_NFKD/model-last)... Done. 0.9s\n",
      "725    5000       9437.55       66.56       78.11       57.98    0.65\n",
      "\u001b[34m\u001b[1mwandb\u001b[0m: Adding directory to artifact (./../training/ATLOMY_G_NER_pipeline/spancat_210524_NFKD/model-last)... Done. 0.7s\n",
      "754    5200       9195.66       66.34       78.03       57.70    0.64\n",
      "\u001b[34m\u001b[1mwandb\u001b[0m: Adding directory to artifact (./../training/ATLOMY_G_NER_pipeline/spancat_210524_NFKD/model-last)... Done. 0.7s\n",
      "783    5400       8826.65       66.34       78.03       57.70    0.64\n",
      "\u001b[34m\u001b[1mwandb\u001b[0m: Adding directory to artifact (./../training/ATLOMY_G_NER_pipeline/spancat_210524_NFKD/model-last)... Done. 0.9s\n",
      "812    5600       8495.90       66.24       77.74       57.70    0.64\n",
      "\u001b[34m\u001b[1mwandb\u001b[0m: Adding directory to artifact (./../training/ATLOMY_G_NER_pipeline/spancat_210524_NFKD/model-last)... Done. 0.9s\n",
      "841    5800       8210.19       66.45       77.82       57.98    0.64\n",
      "\u001b[34m\u001b[1mwandb\u001b[0m: Adding directory to artifact (./../training/ATLOMY_G_NER_pipeline/spancat_210524_NFKD/model-last)... Done. 0.9s\n",
      "869    6000       7903.59       66.24       77.74       57.70    0.64\n",
      "\u001b[34m\u001b[1mwandb\u001b[0m: Adding directory to artifact (./../training/ATLOMY_G_NER_pipeline/spancat_210524_NFKD/model-last)... Done. 0.9s\n",
      "898    6200       7807.53       66.02       77.65       57.42    0.64\n",
      "\u001b[34m\u001b[1mwandb\u001b[0m: Adding directory to artifact (./../training/ATLOMY_G_NER_pipeline/spancat_210524_NFKD/model-last)... Done. 0.9s\n",
      "927    6400       7455.36       65.92       77.36       57.42    0.64\n",
      "\u001b[34m\u001b[1mwandb\u001b[0m: Adding directory to artifact (./../training/ATLOMY_G_NER_pipeline/spancat_210524_NFKD/model-last)... Done. 1.0s\n",
      "958    6600       7363.10       66.13       77.44       57.70    0.64\n",
      "\u001b[34m\u001b[1mwandb\u001b[0m: Adding directory to artifact (./../training/ATLOMY_G_NER_pipeline/spancat_210524_NFKD/model-last)... Done. 0.9s\n",
      "987    6800       7012.27       66.13       77.44       57.70    0.64\n",
      "\u001b[34m\u001b[1mwandb\u001b[0m: Adding directory to artifact (./../training/ATLOMY_G_NER_pipeline/spancat_210524_NFKD/model-last)... Done. 0.9s\n",
      "\u001b[34m\u001b[1mwandb\u001b[0m: Waiting for W&B process to finish... \u001b[32m(success).\u001b[0m\n",
      "\u001b[34m\u001b[1mwandb\u001b[0m: \n",
      "\u001b[34m\u001b[1mwandb\u001b[0m: Run history:\n",
      "\u001b[34m\u001b[1mwandb\u001b[0m: loss_spancat ▁█▁▁▁▁▁▁▁▁▁▁▁▁▁▁▁▁▁▁▁▁▁▁▁▁▁▁▁▁▁▁▁▁▁\n",
      "\u001b[34m\u001b[1mwandb\u001b[0m:        score ▅▁▇▇███████████████████████████████\n",
      "\u001b[34m\u001b[1mwandb\u001b[0m:   spans_sc_f ▁▁▇▇███████████████████████████████\n",
      "\u001b[34m\u001b[1mwandb\u001b[0m:   spans_sc_p ▁▁█████████████████▇▇▇▇█████▇▇▇▇▇▇▇\n",
      "\u001b[34m\u001b[1mwandb\u001b[0m:   spans_sc_r █▁▆▆▇▇▇▇▇▇▇▇▇▇▇▇▇▇▇▇▇▇▇▇▇▇▇▇▇▇▇▇▇▇▇\n",
      "\u001b[34m\u001b[1mwandb\u001b[0m:        speed ▁▇█▆▇▇▇▇▄▂█▄▇▅▂▇▂▂▇▁▇▇▇▂▇▂▇▇▆▇▆▇▆▇▆\n",
      "\u001b[34m\u001b[1mwandb\u001b[0m:    token_acc ▁▁▁▁▁▁▁▁▁▁▁▁▁▁▁▁▁▁▁▁▁▁▁▁▁▁▁▁▁▁▁▁▁▁▁\n",
      "\u001b[34m\u001b[1mwandb\u001b[0m:      token_f ▁▁▁▁▁▁▁▁▁▁▁▁▁▁▁▁▁▁▁▁▁▁▁▁▁▁▁▁▁▁▁▁▁▁▁\n",
      "\u001b[34m\u001b[1mwandb\u001b[0m:      token_p ▁▁▁▁▁▁▁▁▁▁▁▁▁▁▁▁▁▁▁▁▁▁▁▁▁▁▁▁▁▁▁▁▁▁▁\n",
      "\u001b[34m\u001b[1mwandb\u001b[0m:      token_r ▁▁▁▁▁▁▁▁▁▁▁▁▁▁▁▁▁▁▁▁▁▁▁▁▁▁▁▁▁▁▁▁▁▁▁\n",
      "\u001b[34m\u001b[1mwandb\u001b[0m: \n",
      "\u001b[34m\u001b[1mwandb\u001b[0m: Run summary:\n",
      "\u001b[34m\u001b[1mwandb\u001b[0m: loss_spancat 7012.26669\n",
      "\u001b[34m\u001b[1mwandb\u001b[0m:        score 0.6418\n",
      "\u001b[34m\u001b[1mwandb\u001b[0m:   spans_sc_f 0.66132\n",
      "\u001b[34m\u001b[1mwandb\u001b[0m:   spans_sc_p 0.77444\n",
      "\u001b[34m\u001b[1mwandb\u001b[0m:   spans_sc_r 0.57703\n",
      "\u001b[34m\u001b[1mwandb\u001b[0m:        speed 8670.08811\n",
      "\u001b[34m\u001b[1mwandb\u001b[0m:    token_acc 1.0\n",
      "\u001b[34m\u001b[1mwandb\u001b[0m:      token_f 1.0\n",
      "\u001b[34m\u001b[1mwandb\u001b[0m:      token_p 1.0\n",
      "\u001b[34m\u001b[1mwandb\u001b[0m:      token_r 1.0\n",
      "\u001b[34m\u001b[1mwandb\u001b[0m: \n",
      "\u001b[34m\u001b[1mwandb\u001b[0m: 🚀 View run \u001b[33mpleasant-feather-184\u001b[0m at: \u001b[34m\u001b[4mhttps://wandb.ai/atlomy-nlp/Category%20Types%20%28Greek%20NER%29/runs/qhoxtdn1\u001b[0m\n",
      "\u001b[34m\u001b[1mwandb\u001b[0m: Synced 6 W&B file(s), 0 media file(s), 408 artifact file(s) and 0 other file(s)\n",
      "\u001b[34m\u001b[1mwandb\u001b[0m: Find logs at: \u001b[35m\u001b[1m./wandb/run-20240521_195839-qhoxtdn1/logs\u001b[0m\n",
      "\u001b[38;5;2m✔ Saved pipeline to output directory\u001b[0m\n",
      "../training/ATLOMY_G_NER_pipeline/spancat_210524_NFKD/model-last\n"
     ]
    }
   ],
   "source": [
    "# train the spancat model with full txts db 21 may 2024 with NFKD ONLY\n",
    "!python -m spacy train ../configs/ner_2Xnorm-SpanCategorizer.cfg --output ../training/ATLOMY_G_NER_pipeline/spancat_210524_NFKD/ --paths.train ../corpus/train/spancat_train/spancat_train_NFKD.spacy --paths.dev ../corpus/dev/spancat_dev/spancat_dev_NFKD.spacy --paths.source_path ../training/SageMaker/transformer/PROIEL/Assembled/pos-trf-11-may-2024/model-best --training.logger.run_name \"greCy_NER_2xnorm_spancat_210524_NFKD\" --gpu-id 0 --nlp.lang=grc\n"
   ]
  },
  {
   "cell_type": "code",
   "execution_count": 1,
   "metadata": {},
   "outputs": [
    {
     "name": "stdout",
     "output_type": "stream",
     "text": [
      "/root/anaconda3/envs/atlomy_nlp/lib/python3.11/site-packages/spacy_transformers/layers/hf_shim.py:137: UserWarning: Error loading saved torch state_dict with strict=True, likely due to differences between 'transformers' versions. Attempting to load with strict=False as a fallback...\n",
      "\n",
      "If you see errors or degraded performance, download a newer compatible model or retrain your custom model with the current 'transformers' and 'spacy-transformers' versions. For more details and available updates, run: python -m spacy validate\n",
      "  warnings.warn(warn_msg)\n",
      "\u001b[1m\n",
      "============================ Data file validation ============================\u001b[0m\n",
      "/root/anaconda3/envs/atlomy_nlp/lib/python3.11/site-packages/spacy/util.py:910: UserWarning: [W095] Model 'grc_pipeline' (0.0.0) was trained with spaCy v3.5.3 and may not be 100% compatible with the current version (3.7.4). If you see errors or degraded performance, download a newer compatible model or retrain your custom model with the current spaCy version. For more details and available updates, run: python -m spacy validate\n",
      "  warnings.warn(warn_msg)\n",
      "\u001b[38;5;2m✔ Pipeline can be initialized with data\u001b[0m\n",
      "\u001b[38;5;2m✔ Corpus is loadable\u001b[0m\n",
      "\u001b[1m\n",
      "=============================== Training stats ===============================\u001b[0m\n",
      "Language: grc\n",
      "Training pipeline: transformer, spancat\n",
      "Frozen components: transformer\n",
      "824 training docs\n",
      "106 evaluation docs\n",
      "\u001b[38;5;2m✔ No overlap between training and evaluation data\u001b[0m\n",
      "\u001b[38;5;3m⚠ Low number of examples to train a new pipeline (824)\u001b[0m\n",
      "\u001b[1m\n",
      "============================== Vocab & Vectors ==============================\u001b[0m\n",
      "\u001b[38;5;4mℹ 17242 total word(s) in the data (4977 unique)\u001b[0m\n",
      "\u001b[38;5;4mℹ floret vectors with 200000 vectors, 300 dimensions, 2-10 char n-gram\n",
      "subwords\u001b[0m\n",
      "\u001b[1m\n",
      "============================ Span Categorization ============================\u001b[0m\n",
      "\n",
      "Spans Key   Labels                        \n",
      "---------   ------------------------------\n",
      "sc          {'Pathology', 'Symmetry/Opposition', 'Topography', 'Technical Appellation', 'Action Verbs', 'Division', 'Medical', 'Physiology', 'Body Part', 'Adjectives/Qualities'}\n",
      "\n",
      "\u001b[2K\u001b[38;5;3m⚠ Low number of examples for label 'Pathology' in key 'sc' (14)\u001b[0m\n",
      "\u001b[2K\u001b[38;5;3m⚠ Low number of examples for label 'Symmetry/Opposition' in key 'sc'\n",
      "(20)\u001b[0m\n",
      "\u001b[2K\u001b[38;5;4mℹ Span characteristics for spans_key 'sc'\u001b[0m\n",
      "\u001b[38;5;4mℹ SD = Span Distinctiveness, BD = Boundary Distinctiveness\u001b[0m\n",
      "\n",
      "Span Type               Length     SD     BD      N\n",
      "---------------------   ------   ----   ----   ----\n",
      "Body Part                 1.01   1.98   0.62   1976\n",
      "Adjectives/Qualities      1.00   2.74   0.93    838\n",
      "Topography                1.02   1.79   0.62   1816\n",
      "Medical                   1.14   3.57   1.61    130\n",
      "Pathology                 1.00   7.12   4.33     14\n",
      "Physiology                1.00   4.74   1.71    132\n",
      "Technical Appellation     1.18   4.22   2.42     82\n",
      "Division                  1.00   2.73   1.91    108\n",
      "Action Verbs              1.02   4.58   1.83    134\n",
      "Symmetry/Opposition       1.00   4.10   3.56     20\n",
      "---------------------   ------   ----   ----   ----\n",
      "Wgt. Average              1.02   2.29   0.83      -\n",
      "\n",
      "\u001b[38;5;4mℹ Over 90% of spans have lengths of 1 -- 1 (min=1, max=6). The most\n",
      "common span lengths are: 1 (98.29%). If you are using the n-gram suggester, note\n",
      "that omitting infrequent n-gram lengths can greatly improve speed and memory\n",
      "usage.\u001b[0m\n",
      "\u001b[38;5;2m✔ Spans are distinct from the rest of the corpus\u001b[0m\n",
      "\u001b[38;5;3m⚠ Boundary tokens are not distinct from the rest of the corpus\u001b[0m\n",
      "\u001b[38;5;2m✔ Examples without occurrences available for all labels\u001b[0m\n",
      "\u001b[1m\n",
      "================================== Summary ==================================\u001b[0m\n",
      "\u001b[38;5;2m✔ 5 checks passed\u001b[0m\n",
      "\u001b[38;5;3m⚠ 4 warnings\u001b[0m\n"
     ]
    }
   ],
   "source": [
    "!python -m spacy debug data ../configs/ner_2Xnorm-SpanCategorizer.cfg --paths.train ../corpus/train/spancat_train/ --paths.dev ../corpus/dev/spancat_dev/ --paths.source_path ../training/SageMaker/transformer/PROIEL/Assembled/pos-trf-11-may-2024/model-best --training.logger.run_name \"greCy_NER_2xnorm_spancat_110524\" --nlp.lang=grc\n"
   ]
  },
  {
   "cell_type": "code",
   "execution_count": 4,
   "metadata": {},
   "outputs": [
    {
     "name": "stdout",
     "output_type": "stream",
     "text": [
      "\u001b[38;5;4mℹ Saving to output directory:\n",
      "../training/ATLOMY_G_NER_pipeline/spancat_210524\u001b[0m\n",
      "\u001b[38;5;4mℹ Using GPU: 0\u001b[0m\n",
      "\u001b[1m\n",
      "=========================== Initializing pipeline ===========================\u001b[0m\n",
      "/root/anaconda3/envs/atlomy_nlp/lib/python3.11/site-packages/spacy_transformers/layers/hf_shim.py:137: UserWarning: Error loading saved torch state_dict with strict=True, likely due to differences between 'transformers' versions. Attempting to load with strict=False as a fallback...\n",
      "\n",
      "If you see errors or degraded performance, download a newer compatible model or retrain your custom model with the current 'transformers' and 'spacy-transformers' versions. For more details and available updates, run: python -m spacy validate\n",
      "  warnings.warn(warn_msg)\n",
      "/root/anaconda3/envs/atlomy_nlp/lib/python3.11/site-packages/spacy/util.py:910: UserWarning: [W095] Model 'grc_pipeline' (0.0.0) was trained with spaCy v3.5.3 and may not be 100% compatible with the current version (3.7.4). If you see errors or degraded performance, download a newer compatible model or retrain your custom model with the current spaCy version. For more details and available updates, run: python -m spacy validate\n",
      "  warnings.warn(warn_msg)\n",
      "\u001b[38;5;2m✔ Initialized pipeline\u001b[0m\n",
      "\u001b[1m\n",
      "============================= Training pipeline =============================\u001b[0m\n",
      "\u001b[38;5;4mℹ Pipeline: ['transformer', 'spancat']\u001b[0m\n",
      "\u001b[38;5;4mℹ Frozen components: ['transformer']\u001b[0m\n",
      "\u001b[38;5;4mℹ Set annotations on update for: ['transformer']\u001b[0m\n",
      "\u001b[38;5;4mℹ Initial learn rate: 0.0\u001b[0m\n",
      "E    #       LOSS SPANCAT  SPANS_SC_F  SPANS_SC_P  SPANS_SC_R  SCORE \n",
      "---  ------  ------------  ----------  ----------  ----------  ------\n",
      "\u001b[34m\u001b[1mwandb\u001b[0m: Currently logged in as: \u001b[33matlomy\u001b[0m (\u001b[33matlomy-nlp\u001b[0m). Use \u001b[1m`wandb login --relogin`\u001b[0m to force relogin\n",
      "\u001b[34m\u001b[1mwandb\u001b[0m: wandb version 0.17.0 is available!  To upgrade, please run:\n",
      "\u001b[34m\u001b[1mwandb\u001b[0m:  $ pip install wandb --upgrade\n",
      "\u001b[34m\u001b[1mwandb\u001b[0m: Tracking run with wandb version 0.15.4\n",
      "\u001b[34m\u001b[1mwandb\u001b[0m: Run data is saved locally in \u001b[35m\u001b[1m/root/Projects/Atlomy/git/greCy_ATLOMY/src/wandb/run-20240521_193448-jyd29b53\u001b[0m\n",
      "\u001b[34m\u001b[1mwandb\u001b[0m: Run \u001b[1m`wandb offline`\u001b[0m to turn off syncing.\n",
      "\u001b[34m\u001b[1mwandb\u001b[0m: Syncing run \u001b[33mgolden-terrain-183\u001b[0m\n",
      "\u001b[34m\u001b[1mwandb\u001b[0m: ⭐️ View project at \u001b[34m\u001b[4mhttps://wandb.ai/atlomy-nlp/Category%20Types%20%28Greek%20NER%29\u001b[0m\n",
      "\u001b[34m\u001b[1mwandb\u001b[0m: 🚀 View run at \u001b[34m\u001b[4mhttps://wandb.ai/atlomy-nlp/Category%20Types%20%28Greek%20NER%29/runs/jyd29b53\u001b[0m\n",
      "  0       0      19816.99        1.68        0.85       70.03    0.36\n",
      " 14     200    1720196.31        2.04        3.79        1.40    0.02\n",
      "\u001b[34m\u001b[1mwandb\u001b[0m: Adding directory to artifact (./../training/ATLOMY_G_NER_pipeline/spancat_210524/model-last)... Done. 0.7s\n",
      " 28     400      47462.43       56.74       77.29       44.82    0.55\n",
      "\u001b[34m\u001b[1mwandb\u001b[0m: Adding directory to artifact (./../training/ATLOMY_G_NER_pipeline/spancat_210524/model-last)... Done. 0.7s\n",
      " 42     600      36293.66       61.30       78.85       50.14    0.59\n",
      "\u001b[34m\u001b[1mwandb\u001b[0m: Adding directory to artifact (./../training/ATLOMY_G_NER_pipeline/spancat_210524/model-last)... Done. 0.7s\n",
      " 56     800      33136.74       65.43       82.20       54.34    0.63\n",
      "\u001b[34m\u001b[1mwandb\u001b[0m: Adding directory to artifact (./../training/ATLOMY_G_NER_pipeline/spancat_210524/model-last)... Done. 0.9s\n",
      " 70    1000      30817.41       66.22       82.16       55.46    0.64\n",
      "\u001b[34m\u001b[1mwandb\u001b[0m: Adding directory to artifact (./../training/ATLOMY_G_NER_pipeline/spancat_210524/model-last)... Done. 1.4s\n",
      " 84    1200      28028.78       66.11       81.82       55.46    0.64\n",
      "\u001b[34m\u001b[1mwandb\u001b[0m: Adding directory to artifact (./../training/ATLOMY_G_NER_pipeline/spancat_210524/model-last)... Done. 0.7s\n",
      " 99    1400      26543.09       66.89       80.63       57.14    0.65\n",
      "\u001b[34m\u001b[1mwandb\u001b[0m: Adding directory to artifact (./../training/ATLOMY_G_NER_pipeline/spancat_210524/model-last)... Done. 0.7s\n",
      "113    1600      24891.05       66.56       80.24       56.86    0.64\n",
      "\u001b[34m\u001b[1mwandb\u001b[0m: Adding directory to artifact (./../training/ATLOMY_G_NER_pipeline/spancat_210524/model-last)... Done. 0.7s\n",
      "127    1800      23504.86       67.43       80.54       57.98    0.65\n",
      "\u001b[34m\u001b[1mwandb\u001b[0m: Adding directory to artifact (./../training/ATLOMY_G_NER_pipeline/spancat_210524/model-last)... Done. 0.7s\n",
      "141    2000      21824.77       67.64       80.62       58.26    0.66\n",
      "\u001b[34m\u001b[1mwandb\u001b[0m: Adding directory to artifact (./../training/ATLOMY_G_NER_pipeline/spancat_210524/model-last)... Done. 0.7s\n",
      "155    2200      20500.19       67.64       80.62       58.26    0.66\n",
      "\u001b[34m\u001b[1mwandb\u001b[0m: Adding directory to artifact (./../training/ATLOMY_G_NER_pipeline/spancat_210524/model-last)... Done. 0.8s\n",
      "169    2400      19409.36       67.42       79.73       58.40    0.65\n",
      "\u001b[34m\u001b[1mwandb\u001b[0m: Adding directory to artifact (./../training/ATLOMY_G_NER_pipeline/spancat_210524/model-last)... Done. 0.7s\n",
      "183    2600      18804.14       67.21       79.65       58.12    0.65\n",
      "\u001b[34m\u001b[1mwandb\u001b[0m: Adding directory to artifact (./../training/ATLOMY_G_NER_pipeline/spancat_210524/model-last)... Done. 0.7s\n",
      "197    2800      17739.65       67.20       79.13       58.40    0.65\n",
      "\u001b[34m\u001b[1mwandb\u001b[0m: Adding directory to artifact (./../training/ATLOMY_G_NER_pipeline/spancat_210524/model-last)... Done. 0.7s\n",
      "211    3000      16535.38       67.10       79.35       58.12    0.65\n",
      "\u001b[34m\u001b[1mwandb\u001b[0m: Adding directory to artifact (./../training/ATLOMY_G_NER_pipeline/spancat_210524/model-last)... Done. 0.7s\n",
      "225    3200      16003.77       67.21       79.65       58.12    0.65\n",
      "\u001b[34m\u001b[1mwandb\u001b[0m: Adding directory to artifact (./../training/ATLOMY_G_NER_pipeline/spancat_210524/model-last)... Done. 0.7s\n",
      "239    3400      15356.05       67.31       79.43       58.40    0.65\n",
      "\u001b[34m\u001b[1mwandb\u001b[0m: Adding directory to artifact (./../training/ATLOMY_G_NER_pipeline/spancat_210524/model-last)... Done. 0.7s\n",
      "253    3600      14671.67       67.20       78.61       58.68    0.65\n",
      "\u001b[34m\u001b[1mwandb\u001b[0m: Adding directory to artifact (./../training/ATLOMY_G_NER_pipeline/spancat_210524/model-last)... Done. 0.7s\n",
      "267    3800      13833.07       66.99       78.03       58.68    0.65\n",
      "\u001b[34m\u001b[1mwandb\u001b[0m: Adding directory to artifact (./../training/ATLOMY_G_NER_pipeline/spancat_210524/model-last)... Done. 0.7s\n",
      "281    4000      13378.40       66.99       78.03       58.68    0.65\n",
      "\u001b[34m\u001b[1mwandb\u001b[0m: Adding directory to artifact (./../training/ATLOMY_G_NER_pipeline/spancat_210524/model-last)... Done. 0.8s\n",
      "295    4200      13065.27       67.09       78.32       58.68    0.65\n",
      "\u001b[34m\u001b[1mwandb\u001b[0m: Adding directory to artifact (./../training/ATLOMY_G_NER_pipeline/spancat_210524/model-last)... Done. 0.7s\n",
      "309    4400      12474.24       66.67       78.15       58.12    0.65\n",
      "\u001b[34m\u001b[1mwandb\u001b[0m: Adding directory to artifact (./../training/ATLOMY_G_NER_pipeline/spancat_210524/model-last)... Done. 0.7s\n",
      "323    4600      11962.28       66.67       78.15       58.12    0.65\n",
      "\u001b[34m\u001b[1mwandb\u001b[0m: Adding directory to artifact (./../training/ATLOMY_G_NER_pipeline/spancat_210524/model-last)... Done. 1.0s\n",
      "337    4800      11311.72       66.67       78.15       58.12    0.65\n",
      "\u001b[34m\u001b[1mwandb\u001b[0m: Adding directory to artifact (./../training/ATLOMY_G_NER_pipeline/spancat_210524/model-last)... Done. 0.8s\n",
      "351    5000      10854.46       66.24       77.99       57.56    0.64\n",
      "\u001b[34m\u001b[1mwandb\u001b[0m: Adding directory to artifact (./../training/ATLOMY_G_NER_pipeline/spancat_210524/model-last)... Done. 0.8s\n",
      "365    5200      10366.28       66.13       77.69       57.56    0.64\n",
      "\u001b[34m\u001b[1mwandb\u001b[0m: Adding directory to artifact (./../training/ATLOMY_G_NER_pipeline/spancat_210524/model-last)... Done. 0.8s\n",
      "379    5400       9954.76       66.13       77.69       57.56    0.64\n",
      "\u001b[34m\u001b[1mwandb\u001b[0m: Adding directory to artifact (./../training/ATLOMY_G_NER_pipeline/spancat_210524/model-last)... Done. 0.8s\n",
      "393    5600       9682.23       66.24       77.99       57.56    0.64\n",
      "\u001b[34m\u001b[1mwandb\u001b[0m: Adding directory to artifact (./../training/ATLOMY_G_NER_pipeline/spancat_210524/model-last)... Done. 0.8s\n",
      "408    5800       9639.56       66.56       78.37       57.84    0.65\n",
      "\u001b[34m\u001b[1mwandb\u001b[0m: Adding directory to artifact (./../training/ATLOMY_G_NER_pipeline/spancat_210524/model-last)... Done. 0.8s\n",
      "422    6000       9111.31       66.67       78.41       57.98    0.65\n",
      "\u001b[34m\u001b[1mwandb\u001b[0m: Adding directory to artifact (./../training/ATLOMY_G_NER_pipeline/spancat_210524/model-last)... Done. 0.8s\n",
      "437    6200       8831.61       66.35       77.53       57.98    0.64\n",
      "\u001b[34m\u001b[1mwandb\u001b[0m: Adding directory to artifact (./../training/ATLOMY_G_NER_pipeline/spancat_210524/model-last)... Done. 0.8s\n",
      "451    6400       8734.55       66.24       77.74       57.70    0.64\n",
      "\u001b[34m\u001b[1mwandb\u001b[0m: Adding directory to artifact (./../training/ATLOMY_G_NER_pipeline/spancat_210524/model-last)... Done. 0.8s\n",
      "465    6600       8101.98       66.13       77.44       57.70    0.64\n",
      "\u001b[34m\u001b[1mwandb\u001b[0m: Adding directory to artifact (./../training/ATLOMY_G_NER_pipeline/spancat_210524/model-last)... Done. 0.8s\n",
      "479    6800       8034.75       65.71       76.78       57.42    0.64\n",
      "\u001b[34m\u001b[1mwandb\u001b[0m: Adding directory to artifact (./../training/ATLOMY_G_NER_pipeline/spancat_210524/model-last)... Done. 0.8s\n",
      "494    7000       7753.30       65.71       76.78       57.42    0.64\n",
      "\u001b[34m\u001b[1mwandb\u001b[0m: Adding directory to artifact (./../training/ATLOMY_G_NER_pipeline/spancat_210524/model-last)... Done. 0.8s\n",
      "\u001b[34m\u001b[1mwandb\u001b[0m: Waiting for W&B process to finish... \u001b[32m(success).\u001b[0m\n",
      "\u001b[34m\u001b[1mwandb\u001b[0m: \n",
      "\u001b[34m\u001b[1mwandb\u001b[0m: Run history:\n",
      "\u001b[34m\u001b[1mwandb\u001b[0m: loss_spancat ▁█▁▁▁▁▁▁▁▁▁▁▁▁▁▁▁▁▁▁▁▁▁▁▁▁▁▁▁▁▁▁▁▁▁▁\n",
      "\u001b[34m\u001b[1mwandb\u001b[0m:        score ▅▁▇▇████████████████████████████████\n",
      "\u001b[34m\u001b[1mwandb\u001b[0m:   spans_sc_f ▁▁▇▇████████████████████████████████\n",
      "\u001b[34m\u001b[1mwandb\u001b[0m:   spans_sc_p ▁▁██████████████████████████████████\n",
      "\u001b[34m\u001b[1mwandb\u001b[0m:   spans_sc_r █▁▅▆▆▇▇▇▇▇▇▇▇▇▇▇▇▇▇▇▇▇▇▇▇▇▇▇▇▇▇▇▇▇▇▇\n",
      "\u001b[34m\u001b[1mwandb\u001b[0m:        speed ▁█▆▆▆▅▃▆█▇▇▇▆▇▃█▆▆▆▃▂▆█▇▆▇▅▃▇▃▅▇▆█▇▇\n",
      "\u001b[34m\u001b[1mwandb\u001b[0m:    token_acc ▁▁▁▁▁▁▁▁▁▁▁▁▁▁▁▁▁▁▁▁▁▁▁▁▁▁▁▁▁▁▁▁▁▁▁▁\n",
      "\u001b[34m\u001b[1mwandb\u001b[0m:      token_f ▁▁▁▁▁▁▁▁▁▁▁▁▁▁▁▁▁▁▁▁▁▁▁▁▁▁▁▁▁▁▁▁▁▁▁▁\n",
      "\u001b[34m\u001b[1mwandb\u001b[0m:      token_p ▁▁▁▁▁▁▁▁▁▁▁▁▁▁▁▁▁▁▁▁▁▁▁▁▁▁▁▁▁▁▁▁▁▁▁▁\n",
      "\u001b[34m\u001b[1mwandb\u001b[0m:      token_r ▁▁▁▁▁▁▁▁▁▁▁▁▁▁▁▁▁▁▁▁▁▁▁▁▁▁▁▁▁▁▁▁▁▁▁▁\n",
      "\u001b[34m\u001b[1mwandb\u001b[0m: \n",
      "\u001b[34m\u001b[1mwandb\u001b[0m: Run summary:\n",
      "\u001b[34m\u001b[1mwandb\u001b[0m: loss_spancat 7753.29547\n",
      "\u001b[34m\u001b[1mwandb\u001b[0m:        score 0.63779\n",
      "\u001b[34m\u001b[1mwandb\u001b[0m:   spans_sc_f 0.65705\n",
      "\u001b[34m\u001b[1mwandb\u001b[0m:   spans_sc_p 0.76779\n",
      "\u001b[34m\u001b[1mwandb\u001b[0m:   spans_sc_r 0.57423\n",
      "\u001b[34m\u001b[1mwandb\u001b[0m:        speed 10639.38415\n",
      "\u001b[34m\u001b[1mwandb\u001b[0m:    token_acc 1.0\n",
      "\u001b[34m\u001b[1mwandb\u001b[0m:      token_f 1.0\n",
      "\u001b[34m\u001b[1mwandb\u001b[0m:      token_p 1.0\n",
      "\u001b[34m\u001b[1mwandb\u001b[0m:      token_r 1.0\n",
      "\u001b[34m\u001b[1mwandb\u001b[0m: \n",
      "\u001b[34m\u001b[1mwandb\u001b[0m: 🚀 View run \u001b[33mgolden-terrain-183\u001b[0m at: \u001b[34m\u001b[4mhttps://wandb.ai/atlomy-nlp/Category%20Types%20%28Greek%20NER%29/runs/jyd29b53\u001b[0m\n",
      "\u001b[34m\u001b[1mwandb\u001b[0m: Synced 6 W&B file(s), 0 media file(s), 420 artifact file(s) and 0 other file(s)\n",
      "\u001b[34m\u001b[1mwandb\u001b[0m: Find logs at: \u001b[35m\u001b[1m./wandb/run-20240521_193448-jyd29b53/logs\u001b[0m\n",
      "\u001b[38;5;2m✔ Saved pipeline to output directory\u001b[0m\n",
      "../training/ATLOMY_G_NER_pipeline/spancat_210524/model-last\n"
     ]
    }
   ],
   "source": [
    "# train the spancat model with full txts db 21 may 2024\n",
    "!python -m spacy train ../configs/ner_2Xnorm-SpanCategorizer.cfg --output ../training/ATLOMY_G_NER_pipeline/spancat_210524/ --paths.train ../corpus/train/spancat_train/ --paths.dev ../corpus/dev/spancat_dev/ --paths.source_path ../training/SageMaker/transformer/PROIEL/Assembled/pos-trf-11-may-2024/model-best --training.logger.run_name \"greCy_NER_2xnorm_spancat_210524\" --gpu-id 0 --nlp.lang=grc\n"
   ]
  },
  {
   "cell_type": "code",
   "execution_count": 13,
   "metadata": {},
   "outputs": [
    {
     "name": "stdout",
     "output_type": "stream",
     "text": [
      "\u001b[38;5;4mℹ Saving to output directory:\n",
      "../training/ATLOMY_G_NER_pipeline/spancat_110524\u001b[0m\n",
      "\u001b[38;5;4mℹ Using GPU: 0\u001b[0m\n",
      "\u001b[1m\n",
      "=========================== Initializing pipeline ===========================\u001b[0m\n",
      "/root/anaconda3/envs/atlomy_nlp/lib/python3.11/site-packages/spacy_transformers/layers/hf_shim.py:137: UserWarning: Error loading saved torch state_dict with strict=True, likely due to differences between 'transformers' versions. Attempting to load with strict=False as a fallback...\n",
      "\n",
      "If you see errors or degraded performance, download a newer compatible model or retrain your custom model with the current 'transformers' and 'spacy-transformers' versions. For more details and available updates, run: python -m spacy validate\n",
      "  warnings.warn(warn_msg)\n",
      "/root/anaconda3/envs/atlomy_nlp/lib/python3.11/site-packages/spacy/util.py:910: UserWarning: [W095] Model 'grc_pipeline' (0.0.0) was trained with spaCy v3.5.3 and may not be 100% compatible with the current version (3.7.4). If you see errors or degraded performance, download a newer compatible model or retrain your custom model with the current spaCy version. For more details and available updates, run: python -m spacy validate\n",
      "  warnings.warn(warn_msg)\n",
      "\u001b[38;5;2m✔ Initialized pipeline\u001b[0m\n",
      "\u001b[1m\n",
      "============================= Training pipeline =============================\u001b[0m\n",
      "\u001b[38;5;4mℹ Pipeline: ['transformer', 'spancat']\u001b[0m\n",
      "\u001b[38;5;4mℹ Frozen components: ['transformer']\u001b[0m\n",
      "\u001b[38;5;4mℹ Set annotations on update for: ['transformer']\u001b[0m\n",
      "\u001b[38;5;4mℹ Initial learn rate: 0.0\u001b[0m\n",
      "E    #       LOSS SPANCAT  SPANS_SC_F  SPANS_SC_P  SPANS_SC_R  SCORE \n",
      "---  ------  ------------  ----------  ----------  ----------  ------\n",
      "\u001b[34m\u001b[1mwandb\u001b[0m: W&B API key is configured. Use \u001b[1m`wandb login --relogin`\u001b[0m to force relogin\n",
      "\u001b[34m\u001b[1mwandb\u001b[0m: wandb version 0.17.0 is available!  To upgrade, please run:\n",
      "\u001b[34m\u001b[1mwandb\u001b[0m:  $ pip install wandb --upgrade\n",
      "\u001b[34m\u001b[1mwandb\u001b[0m: Tracking run with wandb version 0.15.4\n",
      "\u001b[34m\u001b[1mwandb\u001b[0m: Run data is saved locally in \u001b[35m\u001b[1m/root/Projects/Atlomy/git/greCy_ATLOMY/src/wandb/run-20240518_205605-x8smsrjr\u001b[0m\n",
      "\u001b[34m\u001b[1mwandb\u001b[0m: Run \u001b[1m`wandb offline`\u001b[0m to turn off syncing.\n",
      "\u001b[34m\u001b[1mwandb\u001b[0m: Syncing run \u001b[33mapricot-sound-181\u001b[0m\n",
      "\u001b[34m\u001b[1mwandb\u001b[0m: ⭐️ View project at \u001b[34m\u001b[4mhttps://wandb.ai/atlomy-nlp/Category%20Types%20%28Greek%20NER%29\u001b[0m\n",
      "\u001b[34m\u001b[1mwandb\u001b[0m: 🚀 View run at \u001b[34m\u001b[4mhttps://wandb.ai/atlomy-nlp/Category%20Types%20%28Greek%20NER%29/runs/x8smsrjr\u001b[0m\n",
      "  0       0      19272.28        1.08        0.55       47.44    0.01\n",
      " 14     200    1713987.93        2.44        5.21        1.60    0.02\n",
      "\u001b[34m\u001b[1mwandb\u001b[0m: Adding directory to artifact (./../training/ATLOMY_G_NER_pipeline/spancat_110524/model-last)... Done. 0.9s\n",
      " 28     400      45862.42       52.83       66.27       43.93    0.53\n",
      "\u001b[34m\u001b[1mwandb\u001b[0m: Adding directory to artifact (./../training/ATLOMY_G_NER_pipeline/spancat_110524/model-last)... Done. 0.7s\n",
      " 42     600      35558.82       59.38       69.91       51.60    0.59\n",
      "\u001b[34m\u001b[1mwandb\u001b[0m: Adding directory to artifact (./../training/ATLOMY_G_NER_pipeline/spancat_110524/model-last)... Done. 0.8s\n",
      " 57     800      33283.92       60.36       69.21       53.51    0.60\n",
      "\u001b[34m\u001b[1mwandb\u001b[0m: Adding directory to artifact (./../training/ATLOMY_G_NER_pipeline/spancat_110524/model-last)... Done. 0.7s\n",
      " 71    1000      30759.72       61.22       69.88       54.47    0.61\n",
      "\u001b[34m\u001b[1mwandb\u001b[0m: Adding directory to artifact (./../training/ATLOMY_G_NER_pipeline/spancat_110524/model-last)... Done. 0.8s\n",
      " 85    1200      28555.43       61.39       69.28       55.11    0.61\n",
      "\u001b[34m\u001b[1mwandb\u001b[0m: Adding directory to artifact (./../training/ATLOMY_G_NER_pipeline/spancat_110524/model-last)... Done. 0.8s\n",
      "100    1400      27102.75       61.85       69.96       55.43    0.62\n",
      "\u001b[34m\u001b[1mwandb\u001b[0m: Adding directory to artifact (./../training/ATLOMY_G_NER_pipeline/spancat_110524/model-last)... Done. 0.9s\n",
      "114    1600      25320.51       63.32       70.67       57.35    0.63\n",
      "\u001b[34m\u001b[1mwandb\u001b[0m: Adding directory to artifact (./../training/ATLOMY_G_NER_pipeline/spancat_110524/model-last)... Done. 0.9s\n",
      "127    1800      23451.93       62.83       70.44       56.71    0.63\n",
      "\u001b[34m\u001b[1mwandb\u001b[0m: Adding directory to artifact (./../training/ATLOMY_G_NER_pipeline/spancat_110524/model-last)... Done. 0.7s\n",
      "142    2000      23000.26       63.68       70.62       57.99    0.64\n",
      "\u001b[34m\u001b[1mwandb\u001b[0m: Adding directory to artifact (./../training/ATLOMY_G_NER_pipeline/spancat_110524/model-last)... Done. 0.8s\n",
      "156    2200      21278.15       63.68       70.62       57.99    0.64\n",
      "\u001b[34m\u001b[1mwandb\u001b[0m: Adding directory to artifact (./../training/ATLOMY_G_NER_pipeline/spancat_110524/model-last)... Done. 0.7s\n",
      "170    2400      20165.07       64.15       71.29       58.31    0.64\n",
      "\u001b[34m\u001b[1mwandb\u001b[0m: Adding directory to artifact (./../training/ATLOMY_G_NER_pipeline/spancat_110524/model-last)... Done. 0.7s\n",
      "184    2600      19225.30       64.15       71.29       58.31    0.64\n",
      "\u001b[34m\u001b[1mwandb\u001b[0m: Adding directory to artifact (./../training/ATLOMY_G_NER_pipeline/spancat_110524/model-last)... Done. 0.8s\n",
      "199    2800      18581.10       64.26       71.57       58.31    0.64\n",
      "\u001b[34m\u001b[1mwandb\u001b[0m: Adding directory to artifact (./../training/ATLOMY_G_NER_pipeline/spancat_110524/model-last)... Done. 0.8s\n",
      "212    3000      17610.58       64.39       71.40       58.63    0.64\n",
      "\u001b[34m\u001b[1mwandb\u001b[0m: Adding directory to artifact (./../training/ATLOMY_G_NER_pipeline/spancat_110524/model-last)... Done. 0.8s\n",
      "226    3200      16601.31       64.27       71.12       58.63    0.64\n",
      "\u001b[34m\u001b[1mwandb\u001b[0m: Adding directory to artifact (./../training/ATLOMY_G_NER_pipeline/spancat_110524/model-last)... Done. 0.8s\n",
      "240    3400      15894.89       64.36       70.19       59.42    0.64\n",
      "\u001b[34m\u001b[1mwandb\u001b[0m: Adding directory to artifact (./../training/ATLOMY_G_NER_pipeline/spancat_110524/model-last)... Done. 0.7s\n",
      "254    3600      15317.81       64.48       70.04       59.74    0.64\n",
      "\u001b[34m\u001b[1mwandb\u001b[0m: Adding directory to artifact (./../training/ATLOMY_G_NER_pipeline/spancat_110524/model-last)... Done. 0.7s\n",
      "268    3800      14769.67       64.25       69.92       59.42    0.64\n",
      "\u001b[34m\u001b[1mwandb\u001b[0m: Adding directory to artifact (./../training/ATLOMY_G_NER_pipeline/spancat_110524/model-last)... Done. 0.8s\n",
      "282    4000      13991.99       64.25       69.92       59.42    0.64\n",
      "\u001b[34m\u001b[1mwandb\u001b[0m: Adding directory to artifact (./../training/ATLOMY_G_NER_pipeline/spancat_110524/model-last)... Done. 0.7s\n",
      "297    4200      13903.00       64.03       69.40       59.42    0.64\n",
      "\u001b[34m\u001b[1mwandb\u001b[0m: Adding directory to artifact (./../training/ATLOMY_G_NER_pipeline/spancat_110524/model-last)... Done. 0.7s\n",
      "311    4400      12988.40       64.37       69.78       59.74    0.64\n",
      "\u001b[34m\u001b[1mwandb\u001b[0m: Adding directory to artifact (./../training/ATLOMY_G_NER_pipeline/spancat_110524/model-last)... Done. 0.8s\n",
      "325    4600      12555.49       64.78       70.07       60.22    0.65\n",
      "\u001b[34m\u001b[1mwandb\u001b[0m: Adding directory to artifact (./../training/ATLOMY_G_NER_pipeline/spancat_110524/model-last)... Done. 0.8s\n",
      "339    4800      12302.26       65.00       70.60       60.22    0.65\n",
      "\u001b[34m\u001b[1mwandb\u001b[0m: Adding directory to artifact (./../training/ATLOMY_G_NER_pipeline/spancat_110524/model-last)... Done. 0.8s\n",
      "353    5000      11588.22       64.89       70.34       60.22    0.65\n",
      "\u001b[34m\u001b[1mwandb\u001b[0m: Adding directory to artifact (./../training/ATLOMY_G_NER_pipeline/spancat_110524/model-last)... Done. 0.7s\n",
      "367    5200      11028.27       65.12       70.45       60.54    0.65\n",
      "\u001b[34m\u001b[1mwandb\u001b[0m: Adding directory to artifact (./../training/ATLOMY_G_NER_pipeline/spancat_110524/model-last)... Done. 0.9s\n",
      "381    5400      10841.08       65.01       70.19       60.54    0.65\n",
      "\u001b[34m\u001b[1mwandb\u001b[0m: Adding directory to artifact (./../training/ATLOMY_G_NER_pipeline/spancat_110524/model-last)... Done. 0.7s\n",
      "395    5600      10482.37       64.78       70.07       60.22    0.65\n",
      "\u001b[34m\u001b[1mwandb\u001b[0m: Adding directory to artifact (./../training/ATLOMY_G_NER_pipeline/spancat_110524/model-last)... Done. 0.7s\n",
      "409    5800       9802.83       64.78       70.07       60.22    0.65\n",
      "\u001b[34m\u001b[1mwandb\u001b[0m: Adding directory to artifact (./../training/ATLOMY_G_NER_pipeline/spancat_110524/model-last)... Done. 0.7s\n",
      "423    6000       9782.01       64.78       70.07       60.22    0.65\n",
      "\u001b[34m\u001b[1mwandb\u001b[0m: Adding directory to artifact (./../training/ATLOMY_G_NER_pipeline/spancat_110524/model-last)... Done. 0.8s\n",
      "437    6200       9465.77       64.89       70.34       60.22    0.65\n",
      "\u001b[34m\u001b[1mwandb\u001b[0m: Adding directory to artifact (./../training/ATLOMY_G_NER_pipeline/spancat_110524/model-last)... Done. 0.8s\n",
      "451    6400       9197.37       64.89       70.34       60.22    0.65\n",
      "\u001b[34m\u001b[1mwandb\u001b[0m: Adding directory to artifact (./../training/ATLOMY_G_NER_pipeline/spancat_110524/model-last)... Done. 0.8s\n",
      "465    6600       9005.80       64.78       70.07       60.22    0.65\n",
      "\u001b[34m\u001b[1mwandb\u001b[0m: Adding directory to artifact (./../training/ATLOMY_G_NER_pipeline/spancat_110524/model-last)... Done. 0.7s\n",
      "479    6800       8838.31       64.55       69.56       60.22    0.65\n",
      "\u001b[34m\u001b[1mwandb\u001b[0m: Adding directory to artifact (./../training/ATLOMY_G_NER_pipeline/spancat_110524/model-last)... Done. 0.7s\n",
      "493    7000       8409.61       64.67       69.81       60.22    0.65\n",
      "\u001b[34m\u001b[1mwandb\u001b[0m: Adding directory to artifact (./../training/ATLOMY_G_NER_pipeline/spancat_110524/model-last)... Done. 0.7s\n",
      "507    7200       8112.40       64.90       69.93       60.54    0.65\n",
      "\u001b[34m\u001b[1mwandb\u001b[0m: Adding directory to artifact (./../training/ATLOMY_G_NER_pipeline/spancat_110524/model-last)... Done. 0.8s\n",
      "521    7400       8038.50       65.23       70.71       60.54    0.65\n",
      "\u001b[34m\u001b[1mwandb\u001b[0m: Adding directory to artifact (./../training/ATLOMY_G_NER_pipeline/spancat_110524/model-last)... Done. 0.7s\n",
      "535    7600       7942.35       65.00       70.60       60.22    0.65\n",
      "\u001b[34m\u001b[1mwandb\u001b[0m: Adding directory to artifact (./../training/ATLOMY_G_NER_pipeline/spancat_110524/model-last)... Done. 0.7s\n",
      "549    7800       7658.45       65.00       70.60       60.22    0.65\n",
      "\u001b[34m\u001b[1mwandb\u001b[0m: Adding directory to artifact (./../training/ATLOMY_G_NER_pipeline/spancat_110524/model-last)... Done. 0.8s\n",
      "563    8000       7283.77       64.89       70.34       60.22    0.65\n",
      "\u001b[34m\u001b[1mwandb\u001b[0m: Adding directory to artifact (./../training/ATLOMY_G_NER_pipeline/spancat_110524/model-last)... Done. 0.7s\n",
      "577    8200       7321.94       64.78       70.07       60.22    0.65\n",
      "\u001b[34m\u001b[1mwandb\u001b[0m: Adding directory to artifact (./../training/ATLOMY_G_NER_pipeline/spancat_110524/model-last)... Done. 0.7s\n",
      "591    8400       6811.64       64.78       70.07       60.22    0.65\n",
      "\u001b[34m\u001b[1mwandb\u001b[0m: Adding directory to artifact (./../training/ATLOMY_G_NER_pipeline/spancat_110524/model-last)... Done. 0.7s\n",
      "605    8600       6809.98       64.78       70.07       60.22    0.65\n",
      "\u001b[34m\u001b[1mwandb\u001b[0m: Adding directory to artifact (./../training/ATLOMY_G_NER_pipeline/spancat_110524/model-last)... Done. 0.7s\n",
      "619    8800       6966.95       64.54       69.96       59.90    0.65\n",
      "\u001b[34m\u001b[1mwandb\u001b[0m: Adding directory to artifact (./../training/ATLOMY_G_NER_pipeline/spancat_110524/model-last)... Done. 0.7s\n",
      "633    9000       6633.84       64.54       69.96       59.90    0.65\n",
      "\u001b[34m\u001b[1mwandb\u001b[0m: Adding directory to artifact (./../training/ATLOMY_G_NER_pipeline/spancat_110524/model-last)... Done. 0.7s\n",
      "647    9200       6560.86       64.78       70.07       60.22    0.65\n",
      "\u001b[34m\u001b[1mwandb\u001b[0m: Adding directory to artifact (./../training/ATLOMY_G_NER_pipeline/spancat_110524/model-last)... Done. 0.7s\n",
      "661    9400       6313.85       65.12       70.45       60.54    0.65\n",
      "\u001b[34m\u001b[1mwandb\u001b[0m: Adding directory to artifact (./../training/ATLOMY_G_NER_pipeline/spancat_110524/model-last)... Done. 0.7s\n",
      "675    9600       6309.70       64.77       70.49       59.90    0.65\n",
      "\u001b[34m\u001b[1mwandb\u001b[0m: Adding directory to artifact (./../training/ATLOMY_G_NER_pipeline/spancat_110524/model-last)... Done. 0.8s\n",
      "689    9800       6143.89       64.66       70.22       59.90    0.65\n",
      "\u001b[34m\u001b[1mwandb\u001b[0m: Adding directory to artifact (./../training/ATLOMY_G_NER_pipeline/spancat_110524/model-last)... Done. 0.7s\n",
      "703   10000       6111.68       64.42       70.11       59.58    0.64\n",
      "\u001b[34m\u001b[1mwandb\u001b[0m: Adding directory to artifact (./../training/ATLOMY_G_NER_pipeline/spancat_110524/model-last)... Done. 0.8s\n",
      "717   10200       6016.18       64.53       70.38       59.58    0.65\n",
      "\u001b[34m\u001b[1mwandb\u001b[0m: Adding directory to artifact (./../training/ATLOMY_G_NER_pipeline/spancat_110524/model-last)... Done. 0.7s\n",
      "731   10400       5822.07       64.53       70.38       59.58    0.65\n",
      "\u001b[34m\u001b[1mwandb\u001b[0m: Adding directory to artifact (./../training/ATLOMY_G_NER_pipeline/spancat_110524/model-last)... Done. 0.8s\n",
      "745   10600       5722.98       64.19       70.00       59.27    0.64\n",
      "\u001b[34m\u001b[1mwandb\u001b[0m: Adding directory to artifact (./../training/ATLOMY_G_NER_pipeline/spancat_110524/model-last)... Done. 0.8s\n",
      "759   10800       5781.78       64.19       70.00       59.27    0.64\n",
      "\u001b[34m\u001b[1mwandb\u001b[0m: Adding directory to artifact (./../training/ATLOMY_G_NER_pipeline/spancat_110524/model-last)... Done. 0.8s\n",
      "773   11000       5567.37       64.08       69.74       59.27    0.64\n",
      "\u001b[34m\u001b[1mwandb\u001b[0m: Adding directory to artifact (./../training/ATLOMY_G_NER_pipeline/spancat_110524/model-last)... Done. 0.7s\n",
      "786   11200       5477.02       64.08       69.74       59.27    0.64\n",
      "\u001b[34m\u001b[1mwandb\u001b[0m: Adding directory to artifact (./../training/ATLOMY_G_NER_pipeline/spancat_110524/model-last)... Done. 0.8s\n",
      "801   11400       5519.50       64.08       69.74       59.27    0.64\n",
      "\u001b[34m\u001b[1mwandb\u001b[0m: Adding directory to artifact (./../training/ATLOMY_G_NER_pipeline/spancat_110524/model-last)... Done. 0.8s\n",
      "815   11600       5439.82       64.31       69.85       59.58    0.64\n",
      "\u001b[34m\u001b[1mwandb\u001b[0m: Adding directory to artifact (./../training/ATLOMY_G_NER_pipeline/spancat_110524/model-last)... Done. 0.8s\n",
      "829   11800       5432.31       64.54       69.96       59.90    0.65\n",
      "\u001b[34m\u001b[1mwandb\u001b[0m: Adding directory to artifact (./../training/ATLOMY_G_NER_pipeline/spancat_110524/model-last)... Done. 0.8s\n",
      "843   12000       5284.07       64.54       69.96       59.90    0.65\n",
      "\u001b[34m\u001b[1mwandb\u001b[0m: Adding directory to artifact (./../training/ATLOMY_G_NER_pipeline/spancat_110524/model-last)... Done. 0.8s\n",
      "856   12200       5235.42       64.54       69.96       59.90    0.65\n",
      "\u001b[34m\u001b[1mwandb\u001b[0m: Adding directory to artifact (./../training/ATLOMY_G_NER_pipeline/spancat_110524/model-last)... Done. 0.8s\n",
      "870   12400       5302.79       64.31       69.85       59.58    0.64\n",
      "\u001b[34m\u001b[1mwandb\u001b[0m: Adding directory to artifact (./../training/ATLOMY_G_NER_pipeline/spancat_110524/model-last)... Done. 0.8s\n",
      "\u001b[34m\u001b[1mwandb\u001b[0m: Waiting for W&B process to finish... \u001b[32m(success).\u001b[0m\n",
      "\u001b[34m\u001b[1mwandb\u001b[0m: \n",
      "\u001b[34m\u001b[1mwandb\u001b[0m: Run history:\n",
      "\u001b[34m\u001b[1mwandb\u001b[0m: loss_spancat ▁█▁▁▁▁▁▁▁▁▁▁▁▁▁▁▁▁▁▁▁▁▁▁▁▁▁▁▁▁▁▁▁▁▁▁▁▁▁▁\n",
      "\u001b[34m\u001b[1mwandb\u001b[0m:        score ▁▁▇▇████████████████████████████████████\n",
      "\u001b[34m\u001b[1mwandb\u001b[0m:   spans_sc_f ▁▁▇▇████████████████████████████████████\n",
      "\u001b[34m\u001b[1mwandb\u001b[0m:   spans_sc_p ▁▁██████████████████████████████████████\n",
      "\u001b[34m\u001b[1mwandb\u001b[0m:   spans_sc_r ▆▁▇▇▇▇██████████████████████████████████\n",
      "\u001b[34m\u001b[1mwandb\u001b[0m:        speed ▁▆▇▇▃▂▇▆▆▅▆█▅▆▇█▄▅▇▇▃▆▇▇▄▃▇▆█▇▇▂▇▆▆▇▆▆▅▅\n",
      "\u001b[34m\u001b[1mwandb\u001b[0m:    token_acc ▁▁▁▁▁▁▁▁▁▁▁▁▁▁▁▁▁▁▁▁▁▁▁▁▁▁▁▁▁▁▁▁▁▁▁▁▁▁▁▁\n",
      "\u001b[34m\u001b[1mwandb\u001b[0m:      token_f ▁▁▁▁▁▁▁▁▁▁▁▁▁▁▁▁▁▁▁▁▁▁▁▁▁▁▁▁▁▁▁▁▁▁▁▁▁▁▁▁\n",
      "\u001b[34m\u001b[1mwandb\u001b[0m:      token_p ▁▁▁▁▁▁▁▁▁▁▁▁▁▁▁▁▁▁▁▁▁▁▁▁▁▁▁▁▁▁▁▁▁▁▁▁▁▁▁▁\n",
      "\u001b[34m\u001b[1mwandb\u001b[0m:      token_r ▁▁▁▁▁▁▁▁▁▁▁▁▁▁▁▁▁▁▁▁▁▁▁▁▁▁▁▁▁▁▁▁▁▁▁▁▁▁▁▁\n",
      "\u001b[34m\u001b[1mwandb\u001b[0m: \n",
      "\u001b[34m\u001b[1mwandb\u001b[0m: Run summary:\n",
      "\u001b[34m\u001b[1mwandb\u001b[0m: loss_spancat 5302.78627\n",
      "\u001b[34m\u001b[1mwandb\u001b[0m:        score 0.6431\n",
      "\u001b[34m\u001b[1mwandb\u001b[0m:   spans_sc_f 0.6431\n",
      "\u001b[34m\u001b[1mwandb\u001b[0m:   spans_sc_p 0.6985\n",
      "\u001b[34m\u001b[1mwandb\u001b[0m:   spans_sc_r 0.59585\n",
      "\u001b[34m\u001b[1mwandb\u001b[0m:        speed 10249.2891\n",
      "\u001b[34m\u001b[1mwandb\u001b[0m:    token_acc 1.0\n",
      "\u001b[34m\u001b[1mwandb\u001b[0m:      token_f 1.0\n",
      "\u001b[34m\u001b[1mwandb\u001b[0m:      token_p 1.0\n",
      "\u001b[34m\u001b[1mwandb\u001b[0m:      token_r 1.0\n",
      "\u001b[34m\u001b[1mwandb\u001b[0m: \n",
      "\u001b[34m\u001b[1mwandb\u001b[0m: 🚀 View run \u001b[33mapricot-sound-181\u001b[0m at: \u001b[34m\u001b[4mhttps://wandb.ai/atlomy-nlp/Category%20Types%20%28Greek%20NER%29/runs/x8smsrjr\u001b[0m\n",
      "\u001b[34m\u001b[1mwandb\u001b[0m: Synced 6 W&B file(s), 0 media file(s), 744 artifact file(s) and 0 other file(s)\n",
      "\u001b[34m\u001b[1mwandb\u001b[0m: Find logs at: \u001b[35m\u001b[1m./wandb/run-20240518_205605-x8smsrjr/logs\u001b[0m\n",
      "\u001b[38;5;2m✔ Saved pipeline to output directory\u001b[0m\n",
      "../training/ATLOMY_G_NER_pipeline/spancat_110524/model-last\n"
     ]
    }
   ],
   "source": [
    "# train the spancat model with full txts db 11 may 2024\n",
    "!python -m spacy train ../configs/ner_2Xnorm-SpanCategorizer.cfg --output ../training/ATLOMY_G_NER_pipeline/spancat_110524/ --paths.train ../corpus/train/spancat_train/ --paths.dev ../corpus/dev/spancat_dev/ --paths.source_path ../training/SageMaker/transformer/PROIEL/Assembled/pos-trf-11-may-2024/model-best --training.logger.run_name \"greCy_NER_2xnorm_spancat_110524\" --gpu-id 0 --nlp.lang=grc\n"
   ]
  },
  {
   "cell_type": "code",
   "execution_count": null,
   "metadata": {},
   "outputs": [],
   "source": [
    "!python -m spacy debug data ../configs/ner_2Xnorm.cfg --paths.train ../corpus/train/ner_train/ --paths.dev ../corpus/dev/ner_dev/ --paths.source_path ../training/ATLOMY_G_NER_pipeline/sm_21_mar_2024_new_pos_8_mar/model-best --training.logger.run_name \"greCy_NER_2xnorm_lg_13_nov\" --nlp.lang=grc\n"
   ]
  },
  {
   "cell_type": "code",
   "execution_count": null,
   "metadata": {},
   "outputs": [],
   "source": [
    "# train the NER model (sm) with full txts db 12 November october 2023\n",
    "!python -m spacy train ../configs/ner_2Xnorm_lg_12_nov.cfg --output ../training/ATLOMY_G_NER_pipeline/lg_13_nov/ --paths.train ../corpus/train/ner_train/ --paths.dev ../corpus/dev/ner_dev/ --paths.source_path ../training/transformer/proiel/assembled/lg_lemmatizer_12_nov/model-best --training.logger.run_name \"greCy_NER_2xnorm_lg_13_nov\" --gpu-id 0 --nlp.lang=grc"
   ]
  },
  {
   "cell_type": "code",
   "execution_count": null,
   "metadata": {},
   "outputs": [],
   "source": [
    "# train the NER model (sm) with full txts db 12 November october 2023\n",
    "!python -m spacy train ../configs/ner_2Xnorm.cfg --output ../training/ATLOMY_G_NER_pipeline/lg_13_nov/ --paths.train ../corpus/train/ner_train/ --paths.dev ../corpus/dev/ner_dev/ --paths.source_path ../training/transformer/proiel/assembled/lg_lemmatizer_12_nov/model-best --training.logger.run_name \"greCy_NER_2xnorm_lg_13_nov\" --gpu-id 0 --nlp.lang=grc"
   ]
  },
  {
   "cell_type": "code",
   "execution_count": null,
   "metadata": {},
   "outputs": [],
   "source": [
    "# train the NER model (sm) with new data 18 october 2023\n",
    "!python -m spacy train ../configs/ner_2Xnorm_sm_15_sep.cfg --output ../training/ATLOMY_G_NER_pipeline/lg_18_oct/ --paths.train ../corpus/train/ner_train/ --paths.dev ../corpus/dev/ner_dev/ --paths.source_path ../training/transformer/proiel/assembled/lg_lemmatizer_18_oct/model-best --training.logger.run_name \"greCy_NER_2xnorm_lg_18_oct\" --gpu-id 0 --nlp.lang=grc"
   ]
  },
  {
   "cell_type": "code",
   "execution_count": null,
   "metadata": {},
   "outputs": [],
   "source": [
    "# train the NER model (sm) old pos model 29 september 2023 but with new data 20 march 2024\n",
    "!python -m spacy train ../configs/ner_2Xnorm.cfg --output ../training/ATLOMY_G_NER_pipeline/sm_21_mar_2024/ --paths.train ../corpus/train/ner_train/ --paths.dev ../corpus/dev/ner_dev/ --paths.source_path ../training/transformer/proiel/assembled/sm_lemmatizer_3_sep/model-best --training.logger.run_name \"greCy_NER_2xnorm_sm_21_mar_2024\" --gpu-id 0 --nlp.lang=grc"
   ]
  },
  {
   "cell_type": "code",
   "execution_count": null,
   "metadata": {},
   "outputs": [],
   "source": [
    "# train the NER model (sm) with new data from sagemaker training 20 Mar 2024 locally\n",
    "!python -m spacy train ../configs/ner_2Xnorm.cfg --output ../training/ATLOMY_G_NER_pipeline/sm_21_mar_2024_new_pos_8_mar/ --paths.train ../corpus/train/ner_train/ --paths.dev ../corpus/dev/ner_dev/ --paths.source_path ../training/SageMaker/transformer/proiel/assembled/pos_8_mar_2024/model-best --training.logger.run_name \"greCy_NER_2xnorm_sm_21_mar_2024_new_pos\" --gpu-id 0 --nlp.lang=grc"
   ]
  },
  {
   "cell_type": "code",
   "execution_count": null,
   "metadata": {},
   "outputs": [],
   "source": [
    "# train the NER model (sm) with new data 29 september 2023\n",
    "!python -m spacy train ../configs/ner_2Xnorm_sm_15_sep.cfg --output ../training/ATLOMY_G_NER_pipeline/sm_29_sep/ --paths.train ../corpus/train/ner_train/ --paths.dev ../corpus/dev/ner_dev/ --paths.source_path ../training/transformer/proiel/assembled/sm_lemmatizer_3_sep/model-best --training.logger.run_name \"greCy_NER_2xnorm_sm_29_sep\" --gpu-id 0 --nlp.lang=grc"
   ]
  },
  {
   "cell_type": "code",
   "execution_count": null,
   "metadata": {},
   "outputs": [],
   "source": [
    "# train the NER model (sm) with new data 4rd september 2023\n",
    "!python -m spacy train ../configs/ner_2Xnorm_sm_15_sep.cfg --output ../training/ATLOMY_G_NER_pipeline/sm_15_sep/ --paths.train ../corpus/train/ner_train/ --paths.dev ../corpus/dev/ner_dev/ --paths.source_path ../training/transformer/proiel/assembled/sm_lemmatizer_15_sep/model-best --training.logger.run_name \"greCy_NER_2xnorm_sm_15_sep\" --gpu-id 0 --nlp.lang=grc"
   ]
  },
  {
   "cell_type": "code",
   "execution_count": null,
   "metadata": {},
   "outputs": [],
   "source": [
    "# train the NER model (sm) with new data 4rd september 2023\n",
    "!python -m spacy train ../configs/ner_2Xnorm_sm_3_sep.cfg --output ../training/ATLOMY_G_NER_pipeline/sm_3_sep/ --paths.train ../corpus/train/ner_train/ --paths.dev ../corpus/dev/ner_dev/ --gpu-id 0 --nlp.lang=grc"
   ]
  },
  {
   "cell_type": "code",
   "execution_count": null,
   "metadata": {},
   "outputs": [],
   "source": [
    "# train the NER model (sm)\n",
    "!python -m spacy train ../configs/ner_2Xnorm_sm.cfg --output ../training/ATLOMY_G_NER_pipeline/sm/ --paths.train ../corpus/train/ner_train/ --paths.dev ../corpus/dev/ner_dev/ --gpu-id 0 --nlp.lang=grc"
   ]
  },
  {
   "cell_type": "code",
   "execution_count": null,
   "metadata": {},
   "outputs": [],
   "source": [
    "# train the NER model (pranaydeeps Ancient-Greek-Bert with sm lemmatizer)\n",
    "!python -m spacy train ../configs/ner_2Xnorm_sm_pranaydeeps.cfg --output ../training/ATLOMY_G_NER_pipeline/A_GreekBert_sm/ --paths.train ../corpus/train/ner_train/ --paths.dev ../corpus/dev/ner_dev/ --gpu-id 0 --nlp.lang=grc"
   ]
  },
  {
   "cell_type": "code",
   "execution_count": null,
   "metadata": {},
   "outputs": [],
   "source": [
    "# train the NER model (lg)\n",
    "!python -m spacy train ../configs/ner_2Xnorm_sm.cfg --output ../training/ATLOMY_G_NER_pipeline/lg/ --paths.train ../corpus/train/ner_train/ --paths.dev ../corpus/dev/ner_dev/ --gpu-id 0 --nlp.lang=grc"
   ]
  },
  {
   "cell_type": "code",
   "execution_count": null,
   "metadata": {},
   "outputs": [],
   "source": [
    "# train the NER model (trf)\n",
    "!python -m spacy train ../configs/ner_2Xnorm_sm.cfg --output ../training/ATLOMY_G_NER_pipeline/trf/ --paths.train ../corpus/train/ner_train/ --paths.dev ../corpus/dev/ner_dev/ --gpu-id 0 --nlp.lang=grc"
   ]
  },
  {
   "cell_type": "code",
   "execution_count": null,
   "metadata": {},
   "outputs": [],
   "source": [
    "# Training the transformer with attributes\n",
    "\n",
    "!python -m spacy debug data ../configs/transformer.cfg --paths.train corpus/train/ --paths.dev corpus/dev/ --nlp.lang=grc"
   ]
  },
  {
   "cell_type": "code",
   "execution_count": null,
   "metadata": {},
   "outputs": [],
   "source": [
    "# Training the transformer with attributes\n",
    "!python -m spacy debug data ../configs/new_transformer.cfg --paths.train ../corpus/train/grc_proiel-ud-train.spacy --paths.dev ../corpus/dev/grc_proiel-ud-dev.spacy --nlp.lang=grc"
   ]
  },
  {
   "cell_type": "code",
   "execution_count": null,
   "metadata": {},
   "outputs": [],
   "source": [
    "!python -m spacy train ../configs/new_transformer.cfg --output ../training/transformer/assembled --gpu-id 0 --paths.train ../corpus/train/grc_proiel-ud-train.spacy --paths.dev ../corpus/dev/grc_proiel-ud-dev.spacy --nlp.lang=grc\n"
   ]
  },
  {
   "cell_type": "code",
   "execution_count": null,
   "metadata": {},
   "outputs": [],
   "source": [
    "!python -m spacy benchmark accuracy ../training/transformer/assembled/model-best ../corpus/test/grc_proiel-ud-test.spacy --gpu-id 0 "
   ]
  },
  {
   "cell_type": "markdown",
   "metadata": {},
   "source": [
    "## same training, NFKD only"
   ]
  },
  {
   "cell_type": "code",
   "execution_count": null,
   "metadata": {},
   "outputs": [],
   "source": [
    "# train the NER model (sm_NFKD-only)\n",
    "!python -m spacy train ../configs/ner_NFKD_only_sm.cfg --output ../training/ATLOMY_G_NER_pipeline/sm_NFKD_only/ --paths.train ../corpus/train/ner_train/ner_train_NFKD.spacy --paths.dev ../corpus/dev/ner_dev/ner_dev_NFKD.spacy --gpu-id 0 --nlp.lang=grc"
   ]
  },
  {
   "cell_type": "code",
   "execution_count": null,
   "metadata": {},
   "outputs": [],
   "source": [
    "# train the NER model (sm_NFKD-only)\n",
    "!python -m spacy train ../configs/ner_NFKD_only_sm.cfg --output ../training/ATLOMY_G_NER_pipeline/sm_NFKD_only/ --paths.train ../corpus/train/ner_train_NFKD/ --paths.dev ../corpus/dev/ner_dev_NFKD/ --gpu-id 0 --nlp.lang=grc"
   ]
  },
  {
   "attachments": {},
   "cell_type": "markdown",
   "metadata": {},
   "source": [
    "## Training a trainable lemmatizer on assembled pipeline"
   ]
  },
  {
   "cell_type": "code",
   "execution_count": null,
   "metadata": {},
   "outputs": [],
   "source": [
    "!python -m spacy debug config ../configs/new_lemmatizer_trf.cfg  --paths.train ../corpus/train/lemma_train/Merged_lemma_train_dataset.spacy --paths.dev ../corpus/dev/lemma_dev/Merged_lemma_dev_dataset.spacy --nlp.lang=grc"
   ]
  },
  {
   "cell_type": "code",
   "execution_count": null,
   "metadata": {},
   "outputs": [],
   "source": [
    "!python -m spacy debug data ../configs/new_lemmatizer_trf.cfg  --paths.train ../corpus/train/lemma_train/Merged_lemma_train_dataset.spacy --paths.dev ../corpus/dev/lemma_dev/Merged_lemma_dev_dataset.spacy --nlp.lang=grc"
   ]
  },
  {
   "cell_type": "code",
   "execution_count": null,
   "metadata": {},
   "outputs": [],
   "source": [
    "!python -m spacy train ../configs/new_lemmatizer_trf.cfg  --output ../training/transformer/new_lemmatizer  --gpu-id 0 --paths.train ../corpus/train/lemma_train/Merged_lemma_train_dataset.spacy --paths.dev ../corpus/dev/lemma_dev/Merged_lemma_dev_dataset.spacy --nlp.lang=grc"
   ]
  },
  {
   "cell_type": "code",
   "execution_count": null,
   "metadata": {},
   "outputs": [],
   "source": [
    "!python -m spacy train configs/${vars.config_ltrf}.cfg --output training/transformer/lemmatizer --gpu-id ${vars.gpu} --paths.train corpus/train --paths.dev corpus/dev --nlp.lang=${vars.lang}\"\n"
   ]
  },
  {
   "cell_type": "code",
   "execution_count": null,
   "metadata": {},
   "outputs": [],
   "source": [
    "import os\n",
    "os.environ[\"TOKENIZERS_PARALLELISM\"] = \"false\""
   ]
  },
  {
   "cell_type": "code",
   "execution_count": null,
   "metadata": {},
   "outputs": [],
   "source": [
    "import torch\n",
    "torch.cuda.empty_cache()"
   ]
  },
  {
   "cell_type": "code",
   "execution_count": null,
   "metadata": {},
   "outputs": [],
   "source": [
    "!python -m spacy debug data configs/lemmatizer_trf.cfg --paths.train corpus/train/lemma_train/Merged_lemma_train_dataset.spacy --paths.dev corpus/dev/lemma_dev/Merged_lemma_dev_dataset.spacy --nlp.lang=grc --verbose"
   ]
  },
  {
   "cell_type": "code",
   "execution_count": null,
   "metadata": {},
   "outputs": [],
   "source": [
    "!python -m spacy train configs/lemmatizer_trf.cfg --output training/lemmatizer_mostfiles --gpu-id 0 --paths.train corpus/train/lemma_train/Merged_lemma_train_dataset.spacy --paths.dev corpus/dev/lemma_dev/Merged_lemma_dev_dataset.spacy --nlp.lang=grc --verbose"
   ]
  },
  {
   "cell_type": "code",
   "execution_count": null,
   "metadata": {},
   "outputs": [],
   "source": [
    "!python -m spacy benchmark accuracy /root/Projects/Atlomy/git/greCy_ATLOMY/training/lemmatizer_mostfiles/model-best /root/Projects/Atlomy/git/greCy_ATLOMY/corpus/test/grc_proiel-ud-test.spacy --gpu-id 0 "
   ]
  },
  {
   "cell_type": "code",
   "execution_count": null,
   "metadata": {},
   "outputs": [],
   "source": [
    "!python -m spacy train configs/transformer.cfg --output training/lemmatizer_mostfiles/assembled --gpu-id 0 --paths.train corpus/train/grc_proiel-ud-train.spacy --paths.dev corpus/dev/grc_proiel-ud-dev.spacy --nlp.lang=grc\n"
   ]
  },
  {
   "cell_type": "code",
   "execution_count": null,
   "metadata": {},
   "outputs": [],
   "source": [
    "!python -m spacy benchmark accuracy training/lemmatizer_mostfiles/assembled/model-best corpus/test/grc_proiel-ud-test.spacy --gpu-id 0 --displacy-limit 200 --displacy-path training/lemmatizer_mostfiles/assembled/model-best"
   ]
  },
  {
   "cell_type": "code",
   "execution_count": null,
   "metadata": {},
   "outputs": [],
   "source": [
    "!python -m spacy evaluate /root/Projects/Atlomy/git/greCy_ATLOMY/training/transformer/assembled/model-best /root/Projects/Atlomy/git/greCy_ATLOMY/corpus/test/test.spacy --gpu-id 0 --displacy-limit 200 --displacy-path /root/Projects/Atlomy/git/greCy_ATLOMY/training/transformer/assembled/model-best"
   ]
  },
  {
   "cell_type": "markdown",
   "metadata": {},
   "source": [
    "# Model Tests"
   ]
  },
  {
   "cell_type": "code",
   "execution_count": null,
   "metadata": {},
   "outputs": [],
   "source": [
    "import spacy\n",
    "spacy.require_gpu()\n",
    "nlp = spacy.load(\"/root/Projects/Atlomy/git/greCy_ATLOMY/training/transformer/assembled/model-best\")"
   ]
  },
  {
   "cell_type": "code",
   "execution_count": null,
   "metadata": {},
   "outputs": [],
   "source": [
    "import unicodedata\n",
    "φλέψ = \"φλέψ\"\n",
    "#normalize texwor\n",
    "def normalize_text(text):\n",
    "    return unicodedata.normalize('NFKD', text)\n",
    "\n",
    "φλέψ = normalize_text(φλέψ)\n"
   ]
  },
  {
   "cell_type": "code",
   "execution_count": null,
   "metadata": {},
   "outputs": [],
   "source": [
    "texttest = normalize_text(\"Ταῦτ’ οὖν εἴς τε τὸν παρόντα καὶ τὸν ἑξῆς ἅπαντα λόγον οἷον ὑποθέσεις τινὰς τῶν ἀποδείξεων λαμβάνοντες ἐν ἑκάστῳ τῶν ὀργάνων τὴν ἐξ αὐτῶν ὠφέλειαν ἐροῦμεν ἀπὸ τῶν δακτύλων αὖθις ἀρξάμενοι. ἐπειδὴ γὰρ τὴν τῶν ὀστῶν κατασκευὴν ἐν αὐτοῖς ἐπιτηδειοτάτην ὀργάνοις ἀντιληπτικοῖς ἡ φύσις ἐποίησεν, ἦν δ’ ἀμήχανον αὐτοῖς τοῖς ὀστοῖς οὕτω γεώδεσί τε καὶ λιθώδεσιν οὖσι μεταδοῦναι τῆς καθ’ ὁρμὴν κινήσεως, ἐξεῦρεν, ὅτῳ τρόπῳ δι’ ἑτέρων αὐτὰ κινήσει. τῶν οὖν κατὰ τὸν πῆχυν μυῶν ἀποφύσασα τένοντας εὐθὺ τῶν δακτύλων ἤγαγεν. ἃ γὰρ οἱ παλαιοὶ καλοῦσι νεῦρα, ταυτὶ τὰ προφανῆ, τὰ κινοῦντα τοὺς δακτύλους, οἱ τένοντές εἰσιν·\")"
   ]
  },
  {
   "cell_type": "code",
   "execution_count": null,
   "metadata": {},
   "outputs": [],
   "source": [
    "doc = nlp(texttest)\n",
    "for sent in doc.sents:\n",
    "    print(sent.text)\n",
    "#for ent in doc.ents:\n",
    "#    print(ent.text, ent.start_char, ent.end_char, ent.label_)\n",
    "for token in doc:\n",
    "     print(token.text, token.pos_, token.dep_, token.ent_type_, token.lemma_)"
   ]
  },
  {
   "cell_type": "code",
   "execution_count": 21,
   "metadata": {
    "vscode": {
     "languageId": "shellscript"
    }
   },
   "outputs": [
    {
     "name": "stdout",
     "output_type": "stream",
     "text": [
      "\u001b[38;5;4mℹ Using GPU: 0\u001b[0m\n",
      "\u001b[1m\n",
      "================================== Results ==================================\u001b[0m\n",
      "\n",
      "TOK      100.00\n",
      "SPAN P   77.17 \n",
      "SPAN R   59.83 \n",
      "SPAN F   67.41 \n",
      "SPEED    792   \n",
      "\n",
      "\u001b[1m\n",
      "============================== SPANS (per type) ==============================\u001b[0m\n",
      "\n",
      "                             P       R       F\n",
      "Topography               75.00   63.28   68.64\n",
      "Physiology              100.00   14.29   25.00\n",
      "Body Part                82.79   80.80   81.78\n",
      "Adjectives/Qualities     74.29   46.43   57.14\n",
      "Medical                   0.00    0.00    0.00\n",
      "Technical Appellation   100.00   25.00   40.00\n",
      "Division                  0.00    0.00    0.00\n",
      "Action Verbs             33.33   15.38   21.05\n",
      "Symmetry/Opposition       0.00    0.00    0.00\n",
      "Pathology                 0.00    0.00    0.00\n",
      "\n"
     ]
    }
   ],
   "source": [
    "# Evaluate the spancat model with full txts db 21 may 2024 with NFKD ONLY\n",
    "!python -m spacy benchmark accuracy ../training/ATLOMY_G_NER_pipeline/spancat_210524_NFKD_batcher/model-last ../corpus/test/spancat_test/spancat_test_NFKD.spacy --gpu-id 0\n"
   ]
  },
  {
   "cell_type": "code",
   "execution_count": 3,
   "metadata": {},
   "outputs": [
    {
     "name": "stdout",
     "output_type": "stream",
     "text": [
      "\u001b[38;5;4mℹ Using GPU: 0\u001b[0m\n",
      "\u001b[1m\n",
      "================================== Results ==================================\u001b[0m\n",
      "\n",
      "TOK      100.00\n",
      "SPAN P   77.16 \n",
      "SPAN R   58.85 \n",
      "SPAN F   66.77 \n",
      "SPEED    1358  \n",
      "\n",
      "\u001b[1m\n",
      "============================== SPANS (per type) ==============================\u001b[0m\n",
      "\n",
      "                             P       R       F\n",
      "Topography               74.31   63.28   68.35\n",
      "Body Part                82.04   80.40   81.21\n",
      "Physiology                0.00    0.00    0.00\n",
      "Adjectives/Qualities     74.29   46.43   57.14\n",
      "Medical                   0.00    0.00    0.00\n",
      "Technical Appellation   100.00   25.00   40.00\n",
      "Action Verbs             25.00    7.69   11.76\n",
      "Division                  0.00    0.00    0.00\n",
      "Symmetry/Opposition       0.00    0.00    0.00\n",
      "Pathology                 0.00    0.00    0.00\n",
      "\n"
     ]
    }
   ],
   "source": [
    "# evaluate model\n",
    "!python -m spacy evaluate ../training/ATLOMY_G_NER_pipeline/spancat_210524/model-best ../corpus/test/spancat_test/ --gpu-id 0"
   ]
  },
  {
   "cell_type": "code",
   "execution_count": 17,
   "metadata": {},
   "outputs": [
    {
     "name": "stdout",
     "output_type": "stream",
     "text": [
      "\u001b[38;5;4mℹ Using CPU\u001b[0m\n",
      "\u001b[38;5;4mℹ To switch to GPU 0, use the option: --gpu-id 0\u001b[0m\n",
      "\u001b[1m\n",
      "================================== Results ==================================\u001b[0m\n",
      "\n",
      "TOK      100.00\n",
      "SPAN P   72.39 \n",
      "SPAN R   63.05 \n",
      "SPAN F   67.40 \n",
      "SPEED    527   \n",
      "\n",
      "\u001b[1m\n",
      "============================== SPANS (per type) ==============================\u001b[0m\n",
      "\n",
      "                             P       R       F\n",
      "Body Part                82.27   80.00   81.12\n",
      "Topography               64.76   66.67   65.70\n",
      "Adjectives/Qualities     63.16   50.00   55.81\n",
      "Physiology              100.00   10.00   18.18\n",
      "Pathology                 0.00    0.00    0.00\n",
      "Division                 50.00   14.29   22.22\n",
      "Medical                   0.00    0.00    0.00\n",
      "Technical Appellation     0.00    0.00    0.00\n",
      "Action Verbs             71.43   38.46   50.00\n",
      "Symmetry/Opposition       0.00    0.00    0.00\n",
      "\n"
     ]
    }
   ],
   "source": [
    "# evaluate model\n",
    "!python -m spacy evaluate ../training/ATLOMY_G_NER_pipeline/spancat_110524/model-best ../corpus/test/spancat_test/ --gpu-id 0"
   ]
  },
  {
   "cell_type": "code",
   "execution_count": null,
   "metadata": {},
   "outputs": [],
   "source": [
    "!python -m spacy benchmark speed /root/Projects/Atlomy/git/greCy_ATLOMY/training/transformer/assembled/model-best /root/Projects/Atlomy/git/greCy_ATLOMY/corpus/test/grc_proiel-ud-test.spacy --gpu-id 0"
   ]
  },
  {
   "cell_type": "code",
   "execution_count": 21,
   "metadata": {},
   "outputs": [
    {
     "name": "stdout",
     "output_type": "stream",
     "text": [
      "\u001b[38;5;4mℹ Using GPU: 0\u001b[0m\n",
      "/root/anaconda3/envs/atlomy_nlp/lib/python3.11/site-packages/spacy/util.py:910: UserWarning: [W095] Model 'grc_pipeline' (0.0.0) was trained with spaCy v3.6.1 and may not be 100% compatible with the current version (3.7.4). If you see errors or degraded performance, download a newer compatible model or retrain your custom model with the current spaCy version. For more details and available updates, run: python -m spacy validate\n",
      "  warnings.warn(warn_msg)\n",
      "\u001b[1m\n",
      "================================== Results ==================================\u001b[0m\n",
      "\n",
      "TOK      100.00\n",
      "TAG      -     \n",
      "POS      -     \n",
      "MORPH    -     \n",
      "LEMMA    -     \n",
      "UAS      -     \n",
      "LAS      -     \n",
      "NER P    51.04 \n",
      "NER R    74.24 \n",
      "NER F    60.49 \n",
      "SENT P   -     \n",
      "SENT R   -     \n",
      "SENT F   -     \n",
      "SPEED    1163  \n",
      "\n",
      "\u001b[1m\n",
      "=============================== NER (per type) ===============================\u001b[0m\n",
      "\n",
      "                             P       R       F\n",
      "Topography               43.44   80.81   56.50\n",
      "Body Part                63.87   90.83   75.00\n",
      "Adjectives/Qualities     40.00   77.55   52.78\n",
      "Medical                   0.00    0.00    0.00\n",
      "Division                100.00    9.09   16.67\n",
      "Technical Appellation    66.67   28.57   40.00\n",
      "Physiology                0.00    0.00    0.00\n",
      "Action Verbs             76.92   66.67   71.43\n",
      "Symmetry/Opposition       0.00    0.00    0.00\n",
      "Pathology               100.00   50.00   66.67\n",
      "\n"
     ]
    }
   ],
   "source": [
    "# benchmark newest dataset 20 mar 2024 on old pos pipeline\n",
    "!python -m spacy benchmark accuracy ../training/ATLOMY_G_NER_pipeline/sm_21_mar_2024/model-best ../corpus/test/ner_test/ --gpu-id 0\n"
   ]
  },
  {
   "cell_type": "code",
   "execution_count": null,
   "metadata": {},
   "outputs": [],
   "source": [
    "# benchmark newest dataset 20 mar 2024 with sagemaker trained new pos\n",
    "!python -m spacy benchmark accuracy ../training/ATLOMY_G_NER_pipeline/sm_21_mar_2024_new_pos_8_mar/model-best ../corpus/test/ner_test/ --gpu-id 0\n"
   ]
  },
  {
   "cell_type": "code",
   "execution_count": null,
   "metadata": {},
   "outputs": [],
   "source": [
    "\n",
    "# benchmark newest dataset 3rd sep. 2023\n",
    "!python -m spacy benchmark accuracy ../training/ATLOMY_G_NER_pipeline/sm_3_sep//model-best ../corpus/test/ner_test/ --gpu-id 0\n"
   ]
  },
  {
   "cell_type": "code",
   "execution_count": null,
   "metadata": {},
   "outputs": [],
   "source": [
    "# benchmark newest dataset 3rd sep. 2023\n",
    "!python -m spacy benchmark accuracy ../training/ATLOMY_G_NER_pipeline/sm/model-best ../corpus/test/ner_test/ --gpu-id 0\n"
   ]
  },
  {
   "cell_type": "code",
   "execution_count": null,
   "metadata": {},
   "outputs": [],
   "source": [
    "# benchmark dataset before August corrections\n",
    "!python -m spacy benchmark accuracy ../training/ATLOMY_G_NER_pipeline/sm/model-best ../corpus/test/ner_test/ --gpu-id 0\n"
   ]
  },
  {
   "cell_type": "code",
   "execution_count": null,
   "metadata": {},
   "outputs": [],
   "source": [
    "!python -m spacy benchmark accuracy ../training/ATLOMY_G_NER_pipeline/A_GreekBert_sm/model-best ../corpus/test/ner_test/ --gpu-id 0\n"
   ]
  },
  {
   "cell_type": "code",
   "execution_count": null,
   "metadata": {},
   "outputs": [],
   "source": [
    "import spacy"
   ]
  },
  {
   "cell_type": "code",
   "execution_count": null,
   "metadata": {},
   "outputs": [],
   "source": [
    "import unicodedata\n",
    "#normalize texwor\n",
    "def normalize_text(text):\n",
    "    return unicodedata.normalize('NFKD', text)\n"
   ]
  },
  {
   "cell_type": "code",
   "execution_count": null,
   "metadata": {},
   "outputs": [],
   "source": [
    "#text = \"καὶ γὰρ ἀναπνεῖ καὶ ἐκπνεῖ ταύτῃ καὶ ὁ πταρμὸς διὰ ταύτης γίνεται πνεύματος ἀθρόου ἔξοδος σημεῖον οἰωνιστικὸν καὶ ἱερὸν μόνον τῶν πνευμάτων\"\n",
    "text =(\"Ταῦτ’ οὖν εἴς τε τὸν παρόντα καὶ τὸν ἑξῆς ἅπαντα λόγον οἷον ὑποθέσεις τινὰς τῶν ἀποδείξεων λαμβάνοντες ἐν ἑκάστῳ τῶν ὀργάνων τὴν ἐξ αὐτῶν ὠφέλειαν ἐροῦμεν ἀπὸ τῶν δακτύλων αὖθις ἀρξάμενοι.\")\n",
    "text_n = normalize_text(\"Ταῦτ’ οὖν εἴς τε τὸν παρόντα καὶ τὸν ἑξῆς ἅπαντα λόγον οἷον ὑποθέσεις τινὰς τῶν ἀποδείξεων λαμβάνοντες ἐν ἑκάστῳ τῶν ὀργάνων τὴν ἐξ αὐτῶν ὠφέλειαν ἐροῦμεν ἀπὸ τῶν δακτύλων αὖθις ἀρξάμενοι.\")\n"
   ]
  },
  {
   "cell_type": "code",
   "execution_count": null,
   "metadata": {},
   "outputs": [],
   "source": [
    "nlp = spacy.load(\"training/transformer_mostfiles/assembled/model-best/\")"
   ]
  },
  {
   "cell_type": "code",
   "execution_count": null,
   "metadata": {},
   "outputs": [],
   "source": [
    "#test non nfkd\n",
    "doc = nlp(text)\n",
    "for token in doc:\n",
    "    print(token.text,  token.lemma_, token.pos_, token.dep_)\n"
   ]
  },
  {
   "cell_type": "code",
   "execution_count": null,
   "metadata": {},
   "outputs": [],
   "source": [
    "#test nfkd\n",
    "doc = nlp(text_n)\n",
    "for token in doc:\n",
    "    print(token.text,  token.lemma_, token.pos_, token.dep_)\n"
   ]
  },
  {
   "cell_type": "code",
   "execution_count": null,
   "metadata": {},
   "outputs": [],
   "source": [
    "doc = nlp(text)\n",
    "for token in doc:\n",
    "    print(token.text,  token.lemma_, token.pos_, token.dep_)"
   ]
  },
  {
   "cell_type": "code",
   "execution_count": null,
   "metadata": {},
   "outputs": [],
   "source": [
    "nlp = spacy.load(\"training/transformer/assembled/model-best/\")\n",
    "doc = nlp(text)\n",
    "for token in doc:\n",
    "    print(token.text,  token.lemma_, token.pos_, token.dep_)"
   ]
  },
  {
   "cell_type": "code",
   "execution_count": null,
   "metadata": {},
   "outputs": [],
   "source": [
    "nlp = spacy.load(\"training/NER/model-best/\")\n",
    "doc = nlp(text)\n",
    "for token in doc:\n",
    "    print(token.text,  token.lemma_, token.pos_, token.dep_)"
   ]
  },
  {
   "cell_type": "markdown",
   "metadata": {},
   "source": [
    "# Model Package"
   ]
  },
  {
   "cell_type": "code",
   "execution_count": null,
   "metadata": {},
   "outputs": [],
   "source": [
    "!python -m spacy package '../training/ATLOMY_G_NER_pipeline/lg_18_oct/model-best' '../packages/lg_18_oct/' --name \"trf_18_oct\" --version 0.2"
   ]
  },
  {
   "cell_type": "code",
   "execution_count": null,
   "metadata": {},
   "outputs": [],
   "source": [
    "nlp = spacy.load(\"training/transformer/assembled/model-best/\")\n",
    "doc = nlp(text)\n",
    "for token in doc:\n",
    "    print(token.text,  token.lemma_, token.pos_, token.dep_)"
   ]
  },
  {
   "cell_type": "code",
   "execution_count": null,
   "metadata": {},
   "outputs": [],
   "source": [
    "nlp = spacy.load(\"training/NER/model-best/\")\n",
    "doc = nlp(text)\n",
    "for token in doc:\n",
    "    print(token.text,  token.lemma_, token.pos_, token.dep_)"
   ]
  },
  {
   "cell_type": "markdown",
   "metadata": {},
   "source": [
    "# Model Package"
   ]
  },
  {
   "cell_type": "code",
   "execution_count": null,
   "metadata": {},
   "outputs": [],
   "source": [
    "!python -m spacy package '../training/ATLOMY_G_NER_pipeline/lg_18_oct/model-best' '../packages/lg_18_oct/' --name \"trf_18_oct\" --version 0.2"
   ]
  },
  {
   "cell_type": "markdown",
   "metadata": {},
   "source": [
    "# Sweeps"
   ]
  },
  {
   "cell_type": "code",
   "execution_count": null,
   "metadata": {},
   "outputs": [],
   "source": [
    "# pipeline sweep (POS)\n",
    "import typer\n",
    "from pathlib import Path\n",
    "from spacy.training.loop import train\n",
    "from spacy.training.initialize import init_nlp\n",
    "from spacy import util\n",
    "from thinc.api import Config\n",
    "import wandb\n",
    "import spacy\n",
    "\n",
    "spacy.require_gpu()\n",
    "\n",
    "def sweep_pipeline(default_config: Path, training_data: Path, dev_data: Path, model_source: Path, output_path: Path):\n",
    "    sweep_config = {\"method\": \"bayes\"}\n",
    "    metric = {\"name\": \"combined_score\", \"goal\": \"maximize\"}\n",
    "    sweep_config[\"metric\"] = metric\n",
    "    early_terminate = {\"type\": \"hyperband\", \"min_iter\": 3, \"s\": 2, \"eta\": 3}\n",
    "    parameters_dict = {\n",
    "        \"training.dropout\": {\"distribution\": \"uniform\", \"min\": 0.1, \"max\": 0.5},\n",
    "        \"training.optimizer.learn_rate.initial_rate\": {\"distribution\": \"log_uniform\", \"min\": 1e-6, \"max\": 1e-3},\n",
    "        \"training.batcher.size\": {\"distribution\": \"int_uniform\", \"min\": 32, \"max\": 128},\n",
    "        \"nlp.batch_size\": {\"values\": [128, 256, 512]},\n",
    "        \"training.accumulate_gradient\": {\"values\": [1, 2, 4, 8]},\n",
    "        \"training.optimizer.L2\": {\"distribution\": \"log_uniform\", \"min\": 1e-8, \"max\": 1e-2},\n",
    "        \"training.optimizer.grad_norm\": {\"distribution\": \"uniform\", \"min\": 0.5, \"max\": 10.0},\n",
    "    }\n",
    "    sweep_config[\"early_terminate\"] = early_terminate\n",
    "    sweep_config[\"parameters\"] = parameters_dict\n",
    "\n",
    "    def train_spacy():\n",
    "        loaded_local_config = util.load_config(default_config)\n",
    "        with wandb.init() as run:\n",
    "            sweeps_config = Config(util.dot_to_dict(run.config))\n",
    "            merged_config = Config(loaded_local_config).merge(sweeps_config)\n",
    "\n",
    "            # Update paths\n",
    "            merged_config[\"paths\"][\"train\"] = training_data\n",
    "            merged_config[\"paths\"][\"dev\"] = dev_data\n",
    "            merged_config[\"paths\"][\"source_path\"] = model_source\n",
    "            merged_config[\"training\"][\"max_epochs\"] = 30  # Set a reasonable max_epochs value\n",
    "\n",
    "            print(merged_config)\n",
    "            nlp = init_nlp(merged_config, use_gpu=True)\n",
    "            output_path.mkdir(parents=True, exist_ok=True)\n",
    "            train(nlp, output_path, use_gpu=True)\n",
    "\n",
    "            # Save the final model\n",
    "            output_dir = output_path / f\"final_model\"\n",
    "            output_dir.mkdir(parents=True, exist_ok=True)\n",
    "            nlp.to_disk(output_dir)\n",
    "\n",
    "    sweep_id = wandb.sweep(sweep_config, project=\"Greek Pipeline Sweeps\")\n",
    "    wandb.agent(sweep_id, train_spacy, count=50)\n",
    "\n",
    "if __name__ == \"__main__\":\n",
    "    typer.run(sweep_pipeline)"
   ]
  },
  {
   "cell_type": "code",
   "execution_count": null,
   "metadata": {},
   "outputs": [],
   "source": [
    "sweep_pipeline(default_config=\"../configs/transformer_proiel_SageMaker_trf_latest.cfg\", training_data=\"../corpus/train/spancat_train/\", dev_data=\"../corpus/dev/spancat_dev/\", model_source=\"../training/SageMaker/lemmatizer/lemma_vec_11_may_24/model-best\", output_path=Path(\"../training/SageMaker/transformer/pipeline_230524_sweep/\"))"
   ]
  }
 ],
 "metadata": {
  "kernelspec": {
   "display_name": "Python 3 (ipykernel)",
   "language": "python",
   "name": "python3"
  },
  "language_info": {
   "codemirror_mode": {
    "name": "ipython",
    "version": 3
   },
   "file_extension": ".py",
   "mimetype": "text/x-python",
   "name": "python",
   "nbconvert_exporter": "python",
   "pygments_lexer": "ipython3",
   "version": "3.11.5"
  },
  "orig_nbformat": 4
 },
 "nbformat": 4,
 "nbformat_minor": 2
}
